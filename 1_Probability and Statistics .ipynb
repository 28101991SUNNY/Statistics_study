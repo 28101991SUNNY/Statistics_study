{
 "cells": [
  {
   "cell_type": "markdown",
   "id": "4e6639c4",
   "metadata": {},
   "source": [
    "# Probability\n",
    "\n",
    "- `Probability` is a measure that is associated with how certain we are of outcomes of a particular experiment or activity.\n",
    "- An `experiment` is a planned operation carried out under controlled conditions.\n",
    "- If the result is not predetermined, then the experiment is said to be a chance experiment. \n",
    "- Flipping one fair coin twice is an example of an experiment."
   ]
  },
  {
   "cell_type": "markdown",
   "id": "b47d9123",
   "metadata": {},
   "source": [
    "- A result of an experiment is called an outcome.\n",
    "- The `sample space` of an experiment is the set of all possible outcomes.\n",
    "- Three ways to represent a sample space are: \n",
    "1. to list the possible outcomes\n",
    "2. to create a tree diagram, \n",
    "3. to create a Venn diagram. \n",
    "- The uppercase letter `S` is used to denote the `sample space`.\n",
    "- For example, if you flip one fair coin, \n",
    "     S = {H, T} \n",
    "     where \n",
    "     H = heads and \n",
    "     T = tails are the outcomes."
   ]
  },
  {
   "cell_type": "markdown",
   "id": "62e9daef",
   "metadata": {},
   "source": [
    "- An `event` is any `combination of outcomes`. Upper case letters like A and B represent events.\n",
    "- For example, if the experiment is to flip one fair coin, \n",
    "- event A might be getting at most one head. \n",
    "- The probability of an event A is written P(A)."
   ]
  },
  {
   "cell_type": "code",
   "execution_count": null,
   "id": "d715fb25",
   "metadata": {},
   "outputs": [],
   "source": []
  },
  {
   "cell_type": "markdown",
   "id": "969da47c",
   "metadata": {},
   "source": [
    "-  The probability of any outcome is the long-term relative frequency of that outcome. \n",
    "- Probabilities are between zero and one, inclusive (that is, zero and one and all numbers between these values).\n",
    "- P(A) = 0 means the event A can never happen. \n",
    "- P(A) = 1 means the event A always happens. \n",
    "- P(A) = 0.5 means the event A is equally likely to occur or not to occur. - For example, if you flip one fair coin repeatedly (from 20 to 2,000 to 20,000 times) the relative frequency of heads approaches 0.5 (the probability of heads).\n",
    "\n",
    "- Equally likely means that each outcome of an experiment occurs with equal probability. \n",
    "- For example, if you toss a fair, six-sided die, each face (1, 2, 3, 4, 5, or 6) is as likely to occur as any other face. \n",
    "- If you toss a fair coin, a Head (H) and a Tail (T) are equally likely to occur. \n",
    "- If you randomly guess the answer to a true/false question on an exam, you are equally likely to select a correct answer or an incorrect answer."
   ]
  },
  {
   "cell_type": "markdown",
   "id": "7589ffd9",
   "metadata": {},
   "source": [
    "- To calculate the probability of an event A when all outcomes in the sample space are equally likely, count the number of outcomes for event A and divide by the total number of outcomes in the sample space. \n",
    "- For example, \n",
    "- if you toss a fair dime and a fair nickel, \n",
    "    the sample space is {HH, TH, HT, TT} \n",
    "    \n",
    "    where T = tails and H = heads. \n",
    "    \n",
    "    The sample space has four outcomes. \n",
    "    A = getting one head. \n",
    "    \n",
    "    - There are two outcomes that meet this condition \n",
    "    {HT, TH}, \n",
    "    - so P(A) =  2/4  = 0.5."
   ]
  },
  {
   "cell_type": "markdown",
   "id": "67b9f358",
   "metadata": {},
   "source": [
    "- Suppose you roll one fair six-sided die, \n",
    "- with the numbers {1, 2, 3, 4, 5, 6} on its faces.\n",
    "    - Let event E = rolling a number that is at least five.\n",
    "    - There are two outcomes {5, 6}. \n",
    "    -  P(E) =  2/6 . \n",
    "    - If you were to roll the die only a few times, you would not be surprised if your observed results did not match the probability. \n",
    "    - If you were to roll the die a very large number of times, you would expect that, overall,  2/6  of the rolls would result in an outcome of \"at least five\".\n",
    "    - You would not expect exactly  2/6 . The long-term relative frequency of obtaining this result would approach the theoretical probability of  2/6  as the number of repetitions grows larger and larger."
   ]
  },
  {
   "cell_type": "markdown",
   "id": "2445e045",
   "metadata": {},
   "source": [
    "- This important characteristic of probability experiments is known as the law of large numbers which states that `as the number of repetitions of an experiment is increased, the relative frequency obtained in the experiment tends to become closer and closer to the theoretical probability.` Even though the outcomes do not happen according to any set pattern or order, overall, the long-term observed relative frequency will approach the theoretical probability. `(The word empirical is often used instead of the word observed.)`\n",
    "\n",
    "- It is important to realize that in many situations, the outcomes are not equally likely.\n",
    "- A coin or die may be unfair, or biased. \n",
    "- Two math professors in Europe had their statistics students test the Belgian one Euro coin and discovered that in 250 trials, a head was obtained 56% of the time and a tail was obtained 44% of the time.\n",
    "- The data seem to show that the coin is not a fair coin; more repetitions would be helpful to draw a more accurate conclusion about such bias. \n",
    "- Some dice may be biased. Look at the dice in a game you have at home; the spots on each face are usually small holes carved out and then painted to make the spots visible.\n",
    "- Your dice may or may not be biased; it is possible that the outcomes may be affected by the slight weight differences due to the different numbers of holes in the faces. \n",
    "- Gambling casinos make a lot of money depending on outcomes from rolling dice, so casino dice are made differently to eliminate bias.\n",
    "- Casino dice have flat faces; the holes are completely filled with paint having the same density as the material that the dice are made out of so that each face is equally likely to occur. \n"
   ]
  },
  {
   "cell_type": "markdown",
   "id": "51e7d33c",
   "metadata": {},
   "source": [
    "### \"OR\" Event:\n",
    "- An outcome is in the event A OR B if the outcome is in A or is in B or is in both A and B. \n",
    "- For example, let \n",
    "    - A = {1, 2, 3, 4, 5} and \n",
    "    - B = {4, 5, 6, 7, 8}. \n",
    "    - A OR B = {1, 2, 3, 4, 5, 6, 7, 8}. \n",
    "    - Notice that 4 and 5 are NOT listed twice.\n",
    "    \n",
    "   \n",
    "### \"AND\" Event:\n",
    "- An outcome is in the event A AND B if the outcome is in both A and B at the same time. For example, let \n",
    "    - A and B be {1, 2, 3, 4, 5} and {4, 5, 6, 7, 8}, respectively. \n",
    "    - Then A AND B = {4, 5}.\n",
    "    \n",
    "### The complement of event A is denoted A′ \n",
    "- (read \"A prime\"). \n",
    "- A′ consists of all outcomes that are NOT in A. \n",
    "- Notice that P(A) + P(A′) = 1. \n",
    "    - For example, let \n",
    "    - S = {1, 2, 3, 4, 5, 6} and let \n",
    "    - A = {1, 2, 3, 4}. Then, \n",
    "    - A′ = {5, 6}. \n",
    "    - P(A) =  4/6 , \n",
    "    - P(A′) =  2/6 , and \n",
    "    - P(A) + P(A′) =  4/6+2/6  = 1\n",
    "    \n",
    "    \n",
    "    \n",
    "   \n",
    "\n",
    "\n",
    "\n",
    "\n",
    "\n",
    "\n",
    "\n"
   ]
  },
  {
   "cell_type": "code",
   "execution_count": null,
   "id": "e22c8121",
   "metadata": {},
   "outputs": [],
   "source": []
  },
  {
   "cell_type": "code",
   "execution_count": null,
   "id": "673f7313",
   "metadata": {},
   "outputs": [],
   "source": []
  },
  {
   "cell_type": "code",
   "execution_count": null,
   "id": "353ef90f",
   "metadata": {},
   "outputs": [],
   "source": []
  },
  {
   "cell_type": "code",
   "execution_count": null,
   "id": "844b2982",
   "metadata": {},
   "outputs": [],
   "source": []
  },
  {
   "cell_type": "code",
   "execution_count": null,
   "id": "d354e6b1",
   "metadata": {},
   "outputs": [],
   "source": []
  },
  {
   "cell_type": "code",
   "execution_count": null,
   "id": "1c8b079b",
   "metadata": {},
   "outputs": [],
   "source": []
  },
  {
   "cell_type": "code",
   "execution_count": 11,
   "id": "a6308e1f",
   "metadata": {},
   "outputs": [],
   "source": [
    "from collections import Counter"
   ]
  },
  {
   "cell_type": "markdown",
   "id": "8d0dd87d",
   "metadata": {},
   "source": [
    "# coint toss "
   ]
  },
  {
   "cell_type": "code",
   "execution_count": 2,
   "id": "f5a301ef",
   "metadata": {},
   "outputs": [],
   "source": [
    "import random\n",
    "import numpy as np\n",
    "import matplotlib.pyplot as plt\n",
    "from matplotlib.animation import ArtistAnimation\n",
    "\n",
    "\n"
   ]
  },
  {
   "cell_type": "code",
   "execution_count": 36,
   "id": "a66c294e",
   "metadata": {},
   "outputs": [
    {
     "name": "stderr",
     "output_type": "stream",
     "text": [
      "MovieWriter ffmpeg unavailable; using Pillow instead.\n"
     ]
    },
    {
     "data": {
      "image/png": "[encoded data removed]",
      "text/plain": [
       "<Figure size 432x288 with 1 Axes>"
      ]
     },
     "metadata": {
      "needs_background": "light"
     },
     "output_type": "display_data"
    }
   ],
   "source": [
    "class CoinTossSequence:\n",
    "    def __init__(self, p_h = 0.5 , num_tosses = 100):\n",
    "        self.p_h = p_h # probability of heads\n",
    "        self.num_tosses = num_tosses\n",
    "        self.animate_coin_toss_sequence()\n",
    "        \n",
    "    def toss_coin(self):\n",
    "        all_tosses = []\n",
    "        cummulative =[0]\n",
    "        \n",
    "        for toss_id in range(self.num_tosses):\n",
    "            toss_value = np.random.choice( a = [0,1] , p=[ 1-self.p_h , self.p_h ] )    # 0 : heads  |  1: tail\n",
    "            all_tosses.append(toss_value)\n",
    "            cummulative.append(cummulative[toss_id] + toss_value)\n",
    "            \n",
    "        cummulative = cummulative[1:]\n",
    "        cummulative = [val / (i+1) for i , val in enumerate(cummulative)]\n",
    "        return np.array(all_tosses) , np.array(cummulative)\n",
    "         \n",
    "    \n",
    "    def animate_coin_toss_sequence(self):\n",
    "        artists = []\n",
    "        fig,ax = plt.subplots()\n",
    "        \n",
    "        ax.set_ylim(0,1)\n",
    "        all_tosses , cummulative = self.toss_coin()\n",
    "        for i , _ in enumerate(cummulative):\n",
    "            c = cummulative[0:i]\n",
    "            line = plt.plot(c,c=\"c\")\n",
    "            hline = ax.axhline(y = self.p_h, c=\"y\", ls =\"--\")\n",
    "            artists.append([line[0],hline])\n",
    "        anim = ArtistAnimation(fig,artists)\n",
    "        anim.save(\"CoinFlip.gif\",fps = 90)\n",
    "        \n",
    "        \n",
    "if __name__ == \"__main__\":\n",
    "    coin = CoinTossSequence(num_tosses=1000,p_h = 0.5)       \n",
    "        "
   ]
  },
  {
   "cell_type": "code",
   "execution_count": 35,
   "id": "a1ccea9f",
   "metadata": {},
   "outputs": [
    {
     "name": "stderr",
     "output_type": "stream",
     "text": [
      "MovieWriter ffmpeg unavailable; using Pillow instead.\n"
     ]
    },
    {
     "data": {
      "image/png": "[encoded data removed]",
      "text/plain": [
       "<Figure size 432x288 with 1 Axes>"
      ]
     },
     "metadata": {
      "needs_background": "light"
     },
     "output_type": "display_data"
    }
   ],
   "source": [
    "if __name__ == \"__main__\":\n",
    "    coin = CoinTossSequence()\n",
    "        \n"
   ]
  },
  {
   "cell_type": "code",
   "execution_count": 8,
   "id": "875ba77a",
   "metadata": {},
   "outputs": [],
   "source": [
    "from collections import Counter\n",
    "import numpy as np"
   ]
  },
  {
   "cell_type": "code",
   "execution_count": 9,
   "id": "7cb6cb72",
   "metadata": {},
   "outputs": [
    {
     "data": {
      "text/plain": [
       "Counter({'T': 499464, 'H': 500536})"
      ]
     },
     "execution_count": 9,
     "metadata": {},
     "output_type": "execute_result"
    }
   ],
   "source": [
    "ans = []\n",
    "for i in range(1000000):\n",
    "    ans.append(np.random.choice( a = [\"H\",\"T\"] , p=[ 1- 0.5 , 0.5] ))\n",
    "# print(ans)\n",
    "Counter(ans)"
   ]
  },
  {
   "cell_type": "code",
   "execution_count": 12,
   "id": "8a3494f6",
   "metadata": {},
   "outputs": [
    {
     "data": {
      "text/plain": [
       "Counter({'H': 50126, 'T': 49874})"
      ]
     },
     "execution_count": 12,
     "metadata": {},
     "output_type": "execute_result"
    }
   ],
   "source": [
    "ans = []\n",
    "for i in range(100000):\n",
    "    ans.append(np.random.choice( a = [\"H\",\"T\"] ))\n",
    "# print(ans)\n",
    "Counter(ans)"
   ]
  },
  {
   "cell_type": "code",
   "execution_count": 30,
   "id": "e0bfc24c",
   "metadata": {},
   "outputs": [],
   "source": [
    "p_h = 0.5 # probability of heads\n",
    "num_tosses = 1000\n",
    "\n",
    "\n",
    "def toss_coin():\n",
    "    all_tosses = []\n",
    "    cummulative =[0]\n",
    "\n",
    "    for toss_id in range(num_tosses):\n",
    "        toss_value = np.random.choice( a = [0,1] , p=[ 1-p_h , p_h ] )    # 0 : heads  |  1: tail\n",
    "        all_tosses.append(toss_value)\n",
    "        cummulative.append(cummulative[toss_id] + toss_value)\n",
    "\n",
    "    cummulative = cummulative[1:]\n",
    "    cummulative = [val / (i+1) for i , val in enumerate(cummulative)]\n",
    "#     print(np.array(all_tosses))\n",
    "    return  np.array(cummulative)[-1]\n"
   ]
  },
  {
   "cell_type": "code",
   "execution_count": 31,
   "id": "48e0bd0e",
   "metadata": {
    "scrolled": true
   },
   "outputs": [
    {
     "data": {
      "text/plain": [
       "0.503"
      ]
     },
     "execution_count": 31,
     "metadata": {},
     "output_type": "execute_result"
    }
   ],
   "source": [
    "toss_coin()  # cumulative probability  of heads and tails "
   ]
  },
  {
   "cell_type": "markdown",
   "id": "c0e1a6f4",
   "metadata": {},
   "source": [
    "## DIe roll example : \n",
    "\n",
    "### probability for each side outcome : 1/6 ,\n",
    "#### equal for all sides "
   ]
  },
  {
   "cell_type": "code",
   "execution_count": 37,
   "id": "74a416e3",
   "metadata": {},
   "outputs": [
    {
     "data": {
      "text/plain": [
       "0.16666666666666666"
      ]
     },
     "execution_count": 37,
     "metadata": {},
     "output_type": "execute_result"
    }
   ],
   "source": [
    "1/6"
   ]
  },
  {
   "cell_type": "code",
   "execution_count": 38,
   "id": "e86313fd",
   "metadata": {},
   "outputs": [
    {
     "data": {
      "text/plain": [
       "Counter({3: 166804, 2: 166353, 4: 166464, 5: 166763, 6: 167095, 1: 166521})"
      ]
     },
     "execution_count": 38,
     "metadata": {},
     "output_type": "execute_result"
    }
   ],
   "source": [
    "ans = []\n",
    "for i in range(1000000):\n",
    "    ans.append(np.random.choice( a = [1,2,3,4,5,6] , p=[0.16666666666666666,0.16666666666666666,0.16666666666666666,0.16666666666666666,0.16666666666666666,0.16666666666666666 ] ))\n",
    "# print(ans)\n",
    "Counter(ans)"
   ]
  },
  {
   "cell_type": "code",
   "execution_count": 13,
   "id": "910ce90c",
   "metadata": {},
   "outputs": [
    {
     "data": {
      "text/plain": [
       "Counter({5: 166421, 3: 166670, 6: 166355, 2: 166937, 4: 166569, 1: 167048})"
      ]
     },
     "execution_count": 13,
     "metadata": {},
     "output_type": "execute_result"
    }
   ],
   "source": [
    "ans = []\n",
    "for i in range(1000000):\n",
    "    ans.append(np.random.choice( a = [1,2,3,4,5,6]  ))\n",
    "# print(ans)\n",
    "Counter(ans)"
   ]
  },
  {
   "cell_type": "code",
   "execution_count": null,
   "id": "b6094926",
   "metadata": {},
   "outputs": [],
   "source": []
  },
  {
   "cell_type": "code",
   "execution_count": null,
   "id": "4a54e2f7",
   "metadata": {},
   "outputs": [],
   "source": []
  },
  {
   "cell_type": "code",
   "execution_count": null,
   "id": "85fc3172",
   "metadata": {},
   "outputs": [],
   "source": []
  },
  {
   "cell_type": "code",
   "execution_count": null,
   "id": "44799261",
   "metadata": {},
   "outputs": [],
   "source": []
  },
  {
   "cell_type": "code",
   "execution_count": 5,
   "id": "be9d5c4d",
   "metadata": {},
   "outputs": [
    {
     "name": "stderr",
     "output_type": "stream",
     "text": [
      "MovieWriter ffmpeg unavailable; using Pillow instead.\n"
     ]
    },
    {
     "data": {
      "image/png": "[encoded data removed]",
      "text/plain": [
       "<Figure size 432x288 with 1 Axes>"
      ]
     },
     "metadata": {
      "needs_background": "light"
     },
     "output_type": "display_data"
    }
   ],
   "source": [
    "class Dice:\n",
    "    def __init__(self, num_throws=1000):\n",
    "        self.num_throws = num_throws\n",
    "        self.animate_historgram()\n",
    "\n",
    "    def throw_dice(self):\n",
    "        all_tosses = []\n",
    "        for toss_id in range(self.num_throws):\n",
    "            toss_value = np.random.randint(1, 7)\n",
    "            all_tosses.append(toss_value)\n",
    "        return all_tosses\n",
    "\n",
    "    def animate_historgram(self):\n",
    "        artists = []\n",
    "        fig, ax = plt.subplots()\n",
    "        all_tosses = self.throw_dice()\n",
    "        for i, val in enumerate(all_tosses):\n",
    "            tosses = all_tosses[0:i]\n",
    "            hist = plt.hist(\n",
    "                tosses,\n",
    "                rwidth=0.5,\n",
    "                align=\"left\",\n",
    "                bins=[1, 2, 3, 4, 5, 6, 7],\n",
    "                color=\"c\",\n",
    "            )\n",
    "            artists.append(hist[-1].patches)\n",
    "        anim = ArtistAnimation(fig, artists)\n",
    "        anim.save(\"dice.gif\", fps=70)\n",
    "\n",
    "\n",
    "if __name__ == \"__main__\":\n",
    "    dice = Dice()"
   ]
  },
  {
   "cell_type": "code",
   "execution_count": null,
   "id": "ba352932",
   "metadata": {},
   "outputs": [],
   "source": []
  },
  {
   "cell_type": "code",
   "execution_count": 45,
   "id": "8675e084",
   "metadata": {},
   "outputs": [
    {
     "data": {
      "text/plain": [
       "Counter({4: 1661, 1: 1696, 6: 1689, 3: 1670, 2: 1666, 5: 1618})"
      ]
     },
     "execution_count": 45,
     "metadata": {},
     "output_type": "execute_result"
    }
   ],
   "source": [
    "num_throws=10000\n",
    "\n",
    "\n",
    "\n",
    "def throw_dice():\n",
    "    all_tosses = []\n",
    "    for toss_id in range(num_throws):\n",
    "        toss_value = np.random.choice( a = [1,2,3,4,5,6]  )\n",
    "        all_tosses.append(toss_value)\n",
    "        ans = Counter(all_tosses)\n",
    "    return ans\n",
    "throw_dice()"
   ]
  },
  {
   "cell_type": "code",
   "execution_count": null,
   "id": "d2dc47de",
   "metadata": {},
   "outputs": [],
   "source": []
  },
  {
   "cell_type": "code",
   "execution_count": null,
   "id": "71eb18a9",
   "metadata": {},
   "outputs": [],
   "source": []
  },
  {
   "cell_type": "code",
   "execution_count": null,
   "id": "5bd523f2",
   "metadata": {},
   "outputs": [],
   "source": []
  },
  {
   "cell_type": "code",
   "execution_count": null,
   "id": "36de02dc",
   "metadata": {},
   "outputs": [],
   "source": []
  },
  {
   "cell_type": "code",
   "execution_count": null,
   "id": "7b54e613",
   "metadata": {},
   "outputs": [],
   "source": []
  },
  {
   "cell_type": "code",
   "execution_count": 51,
   "id": "45d3612c",
   "metadata": {},
   "outputs": [
    {
     "name": "stdout",
     "output_type": "stream",
     "text": [
      "The conditional probability is 0.1699\n"
     ]
    }
   ],
   "source": [
    "class TwoDiceConditional:\n",
    "    \"\"\"\n",
    "    Find the probability that sum of two dice is 7 given Dice 1 = 3\n",
    "    Home Work: Find one flaw in this current code\n",
    "    \"\"\"\n",
    "\n",
    "    def __init__(self, num_trials=100000):\n",
    "        self.num_trials = num_trials\n",
    "        self.conditional_prob = self.compute_conditional_prob()\n",
    "\n",
    "    def set_num_trials(self, num_trials):\n",
    "        self.num_trials = num_trials\n",
    "\n",
    "    def compute_conditional_prob(self):\n",
    "        all_tosses = self.get_all_tosses()\n",
    "        num_conditioned_samples = 0\n",
    "        num_favourable_samples = 0\n",
    "        for dice1, dice2 in all_tosses:\n",
    "            if dice1 == 3:\n",
    "                num_conditioned_samples += 1\n",
    "                if dice1 + dice2 == 7:\n",
    "                    num_favourable_samples += 1\n",
    "        conditional_prob = num_favourable_samples / num_conditioned_samples\n",
    "        print(\n",
    "            \"The conditional probability is {}\".format(\n",
    "                np.round(conditional_prob, 4)\n",
    "            )\n",
    "        )\n",
    "        return conditional_prob\n",
    "\n",
    "    def get_all_tosses(self):\n",
    "        all_tosses = []\n",
    "        for trial in range(self.num_trials):\n",
    "            dice1 = np.random.choice([1, 2, 3, 4, 5, 6])\n",
    "            dice2 = np.random.choice([1, 2, 3, 4, 5, 6])\n",
    "            all_tosses.append([dice1, dice2])\n",
    "        return all_tosses\n",
    "\n",
    "\n",
    "if __name__ == \"__main__\":\n",
    "    tdc = TwoDiceConditional()"
   ]
  },
  {
   "cell_type": "code",
   "execution_count": 1,
   "id": "bce84820",
   "metadata": {},
   "outputs": [
    {
     "data": {
      "text/plain": [
       "0.16666666666666666"
      ]
     },
     "execution_count": 1,
     "metadata": {},
     "output_type": "execute_result"
    }
   ],
   "source": [
    "1/6"
   ]
  },
  {
   "cell_type": "code",
   "execution_count": null,
   "id": "6e353076",
   "metadata": {},
   "outputs": [],
   "source": []
  },
  {
   "cell_type": "code",
   "execution_count": null,
   "id": "be91bb72",
   "metadata": {},
   "outputs": [],
   "source": []
  },
  {
   "cell_type": "markdown",
   "id": "10ee3b24",
   "metadata": {},
   "source": [
    "# Conditional Probability :"
   ]
  },
  {
   "cell_type": "markdown",
   "id": "3877d1cf",
   "metadata": {},
   "source": [
    "## `The conditional probability`\n",
    "- of `A given B` is written`P(A|B)`.\n",
    "- P(A|B) is the probability that event A will occur given that the event B has already occurred. \n",
    "- A conditional reduces the sample space. \n",
    "- We calculate the probability of A from the reduced sample space B. \n",
    "- The formula to calculate P(A|B) is \n",
    "\n",
    "    - P(A|B) =  P(A AND B)/P(B)\n",
    "    -  where P(B) is greater than zero.\n",
    "    \n",
    "\n",
    "\n",
    "# `Independent Events: `\n",
    "\n",
    "Two events are `independent if the following are true`:\n",
    "\n",
    "`P(A|B) = P(A)` \n",
    "\n",
    "`P(B|A) = P(B)`\n",
    " \n",
    "`P(A AND B) = P(A)P(B)`\n",
    "\n",
    "#### Two events A and B are independent if the knowledge that one occurred does not affect the chance the other occurs. For\n",
    "\n",
    "\n",
    "\n",
    "- For example, the `outcomes of two roles of a fair die are independent` events. \n",
    "- The `outcome of the first roll does not change the probability for the outcome of the second` roll. \n",
    "- To show two events are independent, you must show only one of the above conditions. \n",
    "- If `two events are NOT independent`, then we say that they are `dependent.`\n",
    "\n",
    "## Sampling may be done with replacement or without replacement.\n",
    "\n",
    "### `With replacement: `\n",
    "- If each member of a population is replaced after it is picked, then that member has the possibility of being chosen more than once. \n",
    "- When sampling is done with replacement, then events are considered to be `independent`, meaning the result of the first pick will not change the probabilities for the second pick.\n",
    "\n",
    "\n",
    "### `Without replacement:`\n",
    "- When sampling is done without replacement, each member of a population may be chosen only once. In this case, the probabilities for the second pick are affected by the result of the first pick.\n",
    "- The events are considered to be `dependent or not independent`.\n",
    "\n",
    "\n",
    "\n",
    "# ` Mutually Exclusive Events`\n",
    "\n",
    "##### A and B are mutually exclusive events `if they cannot occur at the same time.` \n",
    "##### This means that `A and B do not share any outcomes` and `P(A AND B) = 0.`\n",
    "\n",
    "\n",
    "\n",
    "### The Multiplication Rule\n",
    "\n",
    "\n",
    "- If A and B are two events defined on a sample space, \n",
    "    - `P(A AND B) = P(B) * P(A|B)`\n",
    "   \n",
    "\n",
    "- This rule may also be written as: \n",
    "    - `P(A|B) =  P(A AND B) / P(B) `\n",
    "\n",
    "\n",
    "- (The probability of A given B equals the probability of A and B divided by the probability of B.)\n",
    "\n",
    "\n",
    "- If A and B are independent, then\n",
    "     - `P(A|B) = P(A). `\n",
    "     - Then `P(A AND B) = P(A|B) * P(B) `\n",
    "     \n",
    "         becomes `P(A AND B) = P(A)*P(B).`\n",
    "         \n",
    "         \n",
    "         \n",
    "### The Addition Rule\n",
    "\n",
    "- If A and B are defined on a sample space, then:\n",
    "    \n",
    "    - `P(A OR B) = P(A) + P(B) - P(A AND B).`\n",
    "\n",
    "- If `A and B are mutually exclusive`, then \n",
    "    \n",
    "    - `P(A AND B) = 0.`\n",
    "    \n",
    "    Then \n",
    "        - P(A OR B) = P(A) + P(B) - P(A AND B) \n",
    "        \n",
    "        becomes P(A OR B) = P(A) + P(B).     \n"
   ]
  },
  {
   "cell_type": "code",
   "execution_count": null,
   "id": "ed56eb3a",
   "metadata": {},
   "outputs": [],
   "source": []
  },
  {
   "cell_type": "code",
   "execution_count": null,
   "id": "ebf2806e",
   "metadata": {},
   "outputs": [],
   "source": []
  },
  {
   "cell_type": "code",
   "execution_count": null,
   "id": "d44e0585",
   "metadata": {},
   "outputs": [],
   "source": []
  },
  {
   "cell_type": "code",
   "execution_count": 53,
   "id": "450292d8",
   "metadata": {},
   "outputs": [],
   "source": [
    "import numpy as np"
   ]
  },
  {
   "cell_type": "code",
   "execution_count": 67,
   "id": "46806665",
   "metadata": {},
   "outputs": [
    {
     "data": {
      "text/plain": [
       "0.16815712293860283"
      ]
     },
     "execution_count": 67,
     "metadata": {},
     "output_type": "execute_result"
    }
   ],
   "source": [
    "num_trials = 1000000\n",
    "num_favorable_samples = 0   # E intersection F\n",
    "num_conditioned_samples = 0  # denominator F\n",
    "\n",
    "for trial in range(num_trials):\n",
    "    \n",
    "    dice1 = np.random.choice([1,2,3,4,5,6])\n",
    "    dice2 = np.random.choice([1,2,3,4,5,6])\n",
    "    \n",
    "    if dice1 + dice2 == 7:\n",
    "        num_conditioned_samples += 1   #F\n",
    "        if dice1 == 3 :\n",
    "            num_favorable_samples += 1  #E and F\n",
    "    \n",
    "conditional_probability = num_favorable_samples / num_conditioned_samples\n",
    "conditional_probability\n",
    "            \n",
    "    "
   ]
  },
  {
   "cell_type": "code",
   "execution_count": 66,
   "id": "c1236594",
   "metadata": {},
   "outputs": [
    {
     "data": {
      "text/plain": [
       "0.16666666666666666"
      ]
     },
     "execution_count": 66,
     "metadata": {},
     "output_type": "execute_result"
    }
   ],
   "source": [
    "expected_value = 1/6\n",
    "expected_value"
   ]
  },
  {
   "cell_type": "code",
   "execution_count": 4,
   "id": "b62a82b8",
   "metadata": {},
   "outputs": [],
   "source": [
    "class TwoDiceConditional:\n",
    "    \"\"\"\n",
    "    Find the probability that sum of two dice is 7 given Dice 1 = 3\n",
    "    Home Work: Find one flaw in this current code\n",
    "    \"\"\"\n",
    "\n",
    "    def __init__(self, num_trials=1000):\n",
    "        self.num_trials = num_trials\n",
    "        self.conditional_prob = self.compute_conditional_prob()\n",
    "\n",
    "    def set_num_trials(self, num_trials):\n",
    "        self.num_trials = num_trials\n",
    "\n",
    "    def compute_conditional_prob(self):\n",
    "        all_tosses = self.get_all_tosses()\n",
    "        num_conditioned_samples = 0\n",
    "        num_favourable_samples = 0\n",
    "        for dice1, dice2 in all_tosses:\n",
    "            if dice1 == 3:\n",
    "                num_conditioned_samples += 1\n",
    "                if dice1 + dice2 == 7:\n",
    "                    num_favourable_samples += 1\n",
    "        conditional_prob = num_favourable_samples / num_conditioned_samples\n",
    "        print(\n",
    "            \"The conditional probability is {}\".format(\n",
    "                np.round(conditional_prob, 4)\n",
    "            )\n",
    "        )\n",
    "        return conditional_prob\n",
    "\n",
    "    def get_all_tosses(self):\n",
    "        all_tosses = []\n",
    "        for trial in range(self.num_trials):\n",
    "            dice1 = np.random.choice([1, 2, 3, 4, 5, 6])\n",
    "            dice2 = np.random.choice([1, 2, 3, 4, 5, 6])\n",
    "            all_tosses.append([dice1, dice2])\n",
    "        return all_tosses\n",
    "\n",
    "\n",
    "# The conditional probability is 0.1534\n"
   ]
  },
  {
   "cell_type": "code",
   "execution_count": null,
   "id": "4fb5786f",
   "metadata": {},
   "outputs": [],
   "source": []
  },
  {
   "cell_type": "markdown",
   "id": "9f42d643",
   "metadata": {},
   "source": [
    "### Conditional Probability\n",
    "- the likelihood that an event will occur given that another event has already occurred\n",
    "\n",
    "\n",
    "### contingency table\n",
    "- the method of displaying a frequency distribution as a table with rows and columns to show how two variables may be dependent (contingent) upon each other; the table provides an easy way to calculate conditional probabilities.\n",
    "\n",
    "\n",
    "### Dependent Events\n",
    "\n",
    "- If two events are NOT independent, then we say that they are dependent.\n",
    "\n",
    "### Equally Likely\n",
    "- Each outcome of an experiment has the same probability.\n",
    "\n",
    "### Event\n",
    "- a subset of the set of all outcomes of an experiment; the set of all outcomes of an experiment is called a sample space and is usually denoted by S.\n",
    "- An event is an arbitrary subset in S.\n",
    "- It can contain one outcome, two outcomes, no outcomes (empty subset), the entire sample space, and the like.\n",
    "- Standard notations for events are capital letters such as A, B, C, and so on.\n",
    "\n",
    "\n",
    "### Experiment\n",
    "- a planned activity carried out under controlled conditions\n",
    "\n",
    "### Independent Events\n",
    "- The occurrence of one event has no effect on the probability of the occurrence of another event. Events A and B are independent if one of the following is true:\n",
    "\n",
    "        P(A|B) = P(A)\n",
    "        P(B|A) = P(B)\n",
    "        P(A AND B) = P(A)P(B)\n",
    "\n",
    "\n",
    "### Mutually Exclusive\n",
    "- Two events are mutually exclusive if the probability that they both happen at the same time is zero. If events A and B are mutually exclusive, then P(A AND B) = 0.\n",
    "\n",
    "\n",
    "### Outcome\n",
    "- a particular result of an experiment\n",
    "\n",
    "\n",
    "### Probability\n",
    "- a number between zero and one, inclusive, that gives the likelihood that a specific event will occur; the foundation of statistics is given by the following 3 axioms (by A.N. Kolmogorov, 1930’s): Let S denote the sample space and A and B are two events in S. Then:\n",
    "        - 0 ≤ P(A) ≤ 1\n",
    "        - If A and B are any two mutually exclusive events, then P(A OR B) = P(A) + P(B).\n",
    "        - P(S) = 1\n",
    "        \n",
    "### Sample Space\n",
    "\n",
    "- the set of all possible outcomes of an experiment\n",
    "\n",
    "\n",
    "### Sampling with Replacement\n",
    "- If each member of a population is replaced after it is picked, then that member has the possibility of being chosen more than once.\n",
    "\n",
    "### Sampling without Replacement\n",
    "\n",
    "- When sampling is done without replacement, each member of a population may be chosen only once.\n",
    "\n",
    "\n",
    "### The AND Event\n",
    "\n",
    "- An outcome is in the event A AND B if the outcome is in both A AND B at the same time.\n",
    "\n",
    "\n",
    "### The Complement Event\n",
    "\n",
    "- The complement of event A consists of all outcomes that are NOT in A.\n",
    "\n",
    "\n",
    "### The Conditional Probability of A GIVEN B\n",
    "- P(A|B) is the probability that event A will occur given that the event B has already occurred.\n",
    "\n",
    "### The Conditional Probability of One Event Given Another Event\n",
    "- P(A|B) is the probability that event A will occur given that the event B has already occurred.\n",
    "\n",
    "### The Or Event\n",
    "- An outcome is in the event A OR B if the outcome is in A or is in B or is in both A and B.\n",
    "\n",
    "### The OR of Two Events\n",
    "- An outcome is in the event A OR B if the outcome is in A, is in B, or is in both A and B.\n",
    "\n",
    "### Tree Diagram\n",
    "- the useful visual representation of a sample space and events in the form of a “tree” with branches marked by possible outcomes together with associated probabilities (frequencies, relative frequencies)\n",
    "\n",
    "\n",
    "### Venn Diagram\n",
    "- the visual representation of a sample space and events in the form of circles or ovals showing their intersections\n"
   ]
  },
  {
   "cell_type": "code",
   "execution_count": null,
   "id": "34a64749",
   "metadata": {},
   "outputs": [],
   "source": []
  }
 ],
 "metadata": {
  "kernelspec": {
   "display_name": "Python 3 (ipykernel)",
   "language": "python",
   "name": "python3"
  },
  "language_info": {
   "codemirror_mode": {
    "name": "ipython",
    "version": 3
   },
   "file_extension": ".py",
   "mimetype": "text/x-python",
   "name": "python",
   "nbconvert_exporter": "python",
   "pygments_lexer": "ipython3",
   "version": "3.9.7"
  }
 },
 "nbformat": 4,
 "nbformat_minor": 5
}
