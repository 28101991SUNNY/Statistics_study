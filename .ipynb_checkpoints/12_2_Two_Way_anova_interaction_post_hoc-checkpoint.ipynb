{
 "cells": [
  {
   "cell_type": "code",
   "execution_count": 1,
   "id": "f3d2d55c",
   "metadata": {},
   "outputs": [],
   "source": [
    "import statsmodels.api as sm\n",
    "from scipy.stats import norm\n",
    "from scipy.stats import t\n",
    "import pandas as pd\n",
    "import numpy as np\n",
    "import seaborn as sns\n",
    "import matplotlib.pyplot as plt\n",
    "%matplotlib inline\n",
    "from matplotlib import figure\n",
    "import warnings\n",
    "warnings.filterwarnings('ignore')\n"
   ]
  },
  {
   "cell_type": "code",
   "execution_count": null,
   "id": "33574046",
   "metadata": {},
   "outputs": [],
   "source": []
  },
  {
   "cell_type": "markdown",
   "id": "128b3f44",
   "metadata": {},
   "source": [
    "## PlantFood Research : \n",
    "\n",
    "- your are a researcher interested in the effectiveness of three different cotton plant food : \n",
    "1. Awesome Advantage  (AA)\n",
    "2. Big Buds (BB)\n",
    "3. Copious Cotton (CC)\n",
    "\n",
    "- Therefor you design an experiment in which you test each plantfood AA,BB,CC with one feeding per day for 75 days after planting. \n",
    "- Eight plants will be tested for each combination. \n",
    "- The variable of interest is the plant height in cm . \n",
    "\n",
    "- The same type of cotton seed will be used for the entire experiment.\n",
    "\n"
   ]
  },
  {
   "cell_type": "code",
   "execution_count": 2,
   "id": "413b3cb4",
   "metadata": {},
   "outputs": [],
   "source": [
    "import statsmodels.api as sm\n",
    "from statsmodels.formula.api import ols\n"
   ]
  },
  {
   "cell_type": "code",
   "execution_count": 3,
   "id": "bbe8fb5d",
   "metadata": {},
   "outputs": [],
   "source": [
    "data = pd.read_csv(\"plantgrowth.csv\")"
   ]
  },
  {
   "cell_type": "code",
   "execution_count": 4,
   "id": "14803896",
   "metadata": {},
   "outputs": [],
   "source": [
    "onefeeding = data.loc[data[\"Feedings\"]==\"ONE FEEDING\"]"
   ]
  },
  {
   "cell_type": "code",
   "execution_count": 5,
   "id": "750b7cbc",
   "metadata": {},
   "outputs": [
    {
     "data": {
      "text/html": [
       "<div>\n",
       "<style scoped>\n",
       "    .dataframe tbody tr th:only-of-type {\n",
       "        vertical-align: middle;\n",
       "    }\n",
       "\n",
       "    .dataframe tbody tr th {\n",
       "        vertical-align: top;\n",
       "    }\n",
       "\n",
       "    .dataframe thead th {\n",
       "        text-align: right;\n",
       "    }\n",
       "</style>\n",
       "<table border=\"1\" class=\"dataframe\">\n",
       "  <thead>\n",
       "    <tr style=\"text-align: right;\">\n",
       "      <th></th>\n",
       "      <th>Feedings</th>\n",
       "      <th>FoodType</th>\n",
       "      <th>PlantGrowth</th>\n",
       "    </tr>\n",
       "  </thead>\n",
       "  <tbody>\n",
       "    <tr>\n",
       "      <th>0</th>\n",
       "      <td>ONE FEEDING</td>\n",
       "      <td>AA</td>\n",
       "      <td>65</td>\n",
       "    </tr>\n",
       "    <tr>\n",
       "      <th>1</th>\n",
       "      <td>ONE FEEDING</td>\n",
       "      <td>AA</td>\n",
       "      <td>70</td>\n",
       "    </tr>\n",
       "    <tr>\n",
       "      <th>2</th>\n",
       "      <td>ONE FEEDING</td>\n",
       "      <td>AA</td>\n",
       "      <td>60</td>\n",
       "    </tr>\n",
       "    <tr>\n",
       "      <th>3</th>\n",
       "      <td>ONE FEEDING</td>\n",
       "      <td>AA</td>\n",
       "      <td>60</td>\n",
       "    </tr>\n",
       "    <tr>\n",
       "      <th>4</th>\n",
       "      <td>ONE FEEDING</td>\n",
       "      <td>AA</td>\n",
       "      <td>60</td>\n",
       "    </tr>\n",
       "    <tr>\n",
       "      <th>5</th>\n",
       "      <td>ONE FEEDING</td>\n",
       "      <td>AA</td>\n",
       "      <td>55</td>\n",
       "    </tr>\n",
       "    <tr>\n",
       "      <th>6</th>\n",
       "      <td>ONE FEEDING</td>\n",
       "      <td>AA</td>\n",
       "      <td>60</td>\n",
       "    </tr>\n",
       "    <tr>\n",
       "      <th>7</th>\n",
       "      <td>ONE FEEDING</td>\n",
       "      <td>AA</td>\n",
       "      <td>50</td>\n",
       "    </tr>\n",
       "    <tr>\n",
       "      <th>8</th>\n",
       "      <td>ONE FEEDING</td>\n",
       "      <td>BB</td>\n",
       "      <td>70</td>\n",
       "    </tr>\n",
       "    <tr>\n",
       "      <th>9</th>\n",
       "      <td>ONE FEEDING</td>\n",
       "      <td>BB</td>\n",
       "      <td>65</td>\n",
       "    </tr>\n",
       "    <tr>\n",
       "      <th>10</th>\n",
       "      <td>ONE FEEDING</td>\n",
       "      <td>BB</td>\n",
       "      <td>60</td>\n",
       "    </tr>\n",
       "    <tr>\n",
       "      <th>11</th>\n",
       "      <td>ONE FEEDING</td>\n",
       "      <td>BB</td>\n",
       "      <td>70</td>\n",
       "    </tr>\n",
       "    <tr>\n",
       "      <th>12</th>\n",
       "      <td>ONE FEEDING</td>\n",
       "      <td>BB</td>\n",
       "      <td>65</td>\n",
       "    </tr>\n",
       "    <tr>\n",
       "      <th>13</th>\n",
       "      <td>ONE FEEDING</td>\n",
       "      <td>BB</td>\n",
       "      <td>60</td>\n",
       "    </tr>\n",
       "    <tr>\n",
       "      <th>14</th>\n",
       "      <td>ONE FEEDING</td>\n",
       "      <td>BB</td>\n",
       "      <td>60</td>\n",
       "    </tr>\n",
       "    <tr>\n",
       "      <th>15</th>\n",
       "      <td>ONE FEEDING</td>\n",
       "      <td>BB</td>\n",
       "      <td>50</td>\n",
       "    </tr>\n",
       "    <tr>\n",
       "      <th>16</th>\n",
       "      <td>ONE FEEDING</td>\n",
       "      <td>CC</td>\n",
       "      <td>55</td>\n",
       "    </tr>\n",
       "    <tr>\n",
       "      <th>17</th>\n",
       "      <td>ONE FEEDING</td>\n",
       "      <td>CC</td>\n",
       "      <td>65</td>\n",
       "    </tr>\n",
       "    <tr>\n",
       "      <th>18</th>\n",
       "      <td>ONE FEEDING</td>\n",
       "      <td>CC</td>\n",
       "      <td>70</td>\n",
       "    </tr>\n",
       "    <tr>\n",
       "      <th>19</th>\n",
       "      <td>ONE FEEDING</td>\n",
       "      <td>CC</td>\n",
       "      <td>55</td>\n",
       "    </tr>\n",
       "    <tr>\n",
       "      <th>20</th>\n",
       "      <td>ONE FEEDING</td>\n",
       "      <td>CC</td>\n",
       "      <td>55</td>\n",
       "    </tr>\n",
       "    <tr>\n",
       "      <th>21</th>\n",
       "      <td>ONE FEEDING</td>\n",
       "      <td>CC</td>\n",
       "      <td>60</td>\n",
       "    </tr>\n",
       "    <tr>\n",
       "      <th>22</th>\n",
       "      <td>ONE FEEDING</td>\n",
       "      <td>CC</td>\n",
       "      <td>50</td>\n",
       "    </tr>\n",
       "    <tr>\n",
       "      <th>23</th>\n",
       "      <td>ONE FEEDING</td>\n",
       "      <td>CC</td>\n",
       "      <td>50</td>\n",
       "    </tr>\n",
       "  </tbody>\n",
       "</table>\n",
       "</div>"
      ],
      "text/plain": [
       "       Feedings FoodType  PlantGrowth\n",
       "0   ONE FEEDING       AA           65\n",
       "1   ONE FEEDING       AA           70\n",
       "2   ONE FEEDING       AA           60\n",
       "3   ONE FEEDING       AA           60\n",
       "4   ONE FEEDING       AA           60\n",
       "5   ONE FEEDING       AA           55\n",
       "6   ONE FEEDING       AA           60\n",
       "7   ONE FEEDING       AA           50\n",
       "8   ONE FEEDING       BB           70\n",
       "9   ONE FEEDING       BB           65\n",
       "10  ONE FEEDING       BB           60\n",
       "11  ONE FEEDING       BB           70\n",
       "12  ONE FEEDING       BB           65\n",
       "13  ONE FEEDING       BB           60\n",
       "14  ONE FEEDING       BB           60\n",
       "15  ONE FEEDING       BB           50\n",
       "16  ONE FEEDING       CC           55\n",
       "17  ONE FEEDING       CC           65\n",
       "18  ONE FEEDING       CC           70\n",
       "19  ONE FEEDING       CC           55\n",
       "20  ONE FEEDING       CC           55\n",
       "21  ONE FEEDING       CC           60\n",
       "22  ONE FEEDING       CC           50\n",
       "23  ONE FEEDING       CC           50"
      ]
     },
     "execution_count": 5,
     "metadata": {},
     "output_type": "execute_result"
    }
   ],
   "source": [
    "onefeeding"
   ]
  },
  {
   "cell_type": "code",
   "execution_count": 6,
   "id": "e523e92a",
   "metadata": {},
   "outputs": [
    {
     "data": {
      "text/html": [
       "<div>\n",
       "<style scoped>\n",
       "    .dataframe tbody tr th:only-of-type {\n",
       "        vertical-align: middle;\n",
       "    }\n",
       "\n",
       "    .dataframe tbody tr th {\n",
       "        vertical-align: top;\n",
       "    }\n",
       "\n",
       "    .dataframe thead th {\n",
       "        text-align: right;\n",
       "    }\n",
       "</style>\n",
       "<table border=\"1\" class=\"dataframe\">\n",
       "  <thead>\n",
       "    <tr style=\"text-align: right;\">\n",
       "      <th>FoodType</th>\n",
       "      <th>AA</th>\n",
       "      <th>BB</th>\n",
       "      <th>CC</th>\n",
       "    </tr>\n",
       "  </thead>\n",
       "  <tbody>\n",
       "    <tr>\n",
       "      <th>PlantGrowth</th>\n",
       "      <td>60.0</td>\n",
       "      <td>62.5</td>\n",
       "      <td>57.5</td>\n",
       "    </tr>\n",
       "  </tbody>\n",
       "</table>\n",
       "</div>"
      ],
      "text/plain": [
       "FoodType       AA    BB    CC\n",
       "PlantGrowth  60.0  62.5  57.5"
      ]
     },
     "execution_count": 6,
     "metadata": {},
     "output_type": "execute_result"
    }
   ],
   "source": [
    "onefeeding.pivot_table(values=\"PlantGrowth\",columns=\"FoodType\")"
   ]
  },
  {
   "cell_type": "code",
   "execution_count": 7,
   "id": "9a1323d3",
   "metadata": {},
   "outputs": [
    {
     "data": {
      "image/png": "[encoded data removed]",
      "text/plain": [
       "<Figure size 432x288 with 1 Axes>"
      ]
     },
     "metadata": {
      "needs_background": "light"
     },
     "output_type": "display_data"
    }
   ],
   "source": [
    "onefeeding.pivot_table(values=\"PlantGrowth\",index=\"FoodType\").plot()\n",
    "plt.yticks(np.arange(40,75,5))\n",
    "plt.show()"
   ]
  },
  {
   "cell_type": "code",
   "execution_count": 8,
   "id": "d2282918",
   "metadata": {},
   "outputs": [
    {
     "data": {
      "application/javascript": [
       "\n",
       "        if (window._pyforest_update_imports_cell) { window._pyforest_update_imports_cell('from scipy import stats'); }\n",
       "    "
      ],
      "text/plain": [
       "<IPython.core.display.Javascript object>"
      ]
     },
     "metadata": {},
     "output_type": "display_data"
    },
    {
     "data": {
      "text/plain": [
       "F_onewayResult(statistic=1.1666666666666667, pvalue=0.33078541251317667)"
      ]
     },
     "execution_count": 8,
     "metadata": {},
     "output_type": "execute_result"
    }
   ],
   "source": [
    "stats.f_oneway(onefeeding[onefeeding[\"FoodType\"]==\"AA\"][\"PlantGrowth\"],\n",
    "              onefeeding[onefeeding[\"FoodType\"]==\"BB\"][\"PlantGrowth\"],\n",
    "              onefeeding[onefeeding[\"FoodType\"]==\"CC\"][\"PlantGrowth\"])"
   ]
  },
  {
   "cell_type": "code",
   "execution_count": 9,
   "id": "91890991",
   "metadata": {},
   "outputs": [
    {
     "data": {
      "text/html": [
       "<div>\n",
       "<style scoped>\n",
       "    .dataframe tbody tr th:only-of-type {\n",
       "        vertical-align: middle;\n",
       "    }\n",
       "\n",
       "    .dataframe tbody tr th {\n",
       "        vertical-align: top;\n",
       "    }\n",
       "\n",
       "    .dataframe thead th {\n",
       "        text-align: right;\n",
       "    }\n",
       "</style>\n",
       "<table border=\"1\" class=\"dataframe\">\n",
       "  <thead>\n",
       "    <tr style=\"text-align: right;\">\n",
       "      <th></th>\n",
       "      <th>sum_sq</th>\n",
       "      <th>df</th>\n",
       "      <th>F</th>\n",
       "      <th>PR(&gt;F)</th>\n",
       "    </tr>\n",
       "  </thead>\n",
       "  <tbody>\n",
       "    <tr>\n",
       "      <th>C(FoodType)</th>\n",
       "      <td>100.0</td>\n",
       "      <td>2.0</td>\n",
       "      <td>1.166667</td>\n",
       "      <td>0.330785</td>\n",
       "    </tr>\n",
       "    <tr>\n",
       "      <th>Residual</th>\n",
       "      <td>900.0</td>\n",
       "      <td>21.0</td>\n",
       "      <td>NaN</td>\n",
       "      <td>NaN</td>\n",
       "    </tr>\n",
       "  </tbody>\n",
       "</table>\n",
       "</div>"
      ],
      "text/plain": [
       "             sum_sq    df         F    PR(>F)\n",
       "C(FoodType)   100.0   2.0  1.166667  0.330785\n",
       "Residual      900.0  21.0       NaN       NaN"
      ]
     },
     "execution_count": 9,
     "metadata": {},
     "output_type": "execute_result"
    }
   ],
   "source": [
    "\n",
    "model = ols('PlantGrowth ~ C(FoodType)' , data=onefeeding).fit()\n",
    "aov_table = sm.stats.anova_lm(model, typ=2)\n",
    "aov_table"
   ]
  },
  {
   "cell_type": "markdown",
   "id": "a9628e13",
   "metadata": {},
   "source": [
    "   **if there a difference in heights amonth three foods ?** \n",
    "\n",
    "\n",
    "   **based on one way anova test , we reject null hypothesis .** \n",
    "   **there's no difference among the plant food means based on one feedings per day .** \n"
   ]
  },
  {
   "cell_type": "code",
   "execution_count": null,
   "id": "22518b40",
   "metadata": {},
   "outputs": [],
   "source": []
  },
  {
   "cell_type": "markdown",
   "id": "3622d468",
   "metadata": {},
   "source": [
    "- ### Is there any difference in plant growth when comparing 1 feeding to 2 feedings per day ? \n",
    "\n",
    "- ### DO some plant foods work better once per day and others better at twice per day . ? "
   ]
  },
  {
   "cell_type": "code",
   "execution_count": 10,
   "id": "9133bd4c",
   "metadata": {},
   "outputs": [
    {
     "data": {
      "text/html": [
       "<div>\n",
       "<style scoped>\n",
       "    .dataframe tbody tr th:only-of-type {\n",
       "        vertical-align: middle;\n",
       "    }\n",
       "\n",
       "    .dataframe tbody tr th {\n",
       "        vertical-align: top;\n",
       "    }\n",
       "\n",
       "    .dataframe thead th {\n",
       "        text-align: right;\n",
       "    }\n",
       "</style>\n",
       "<table border=\"1\" class=\"dataframe\">\n",
       "  <thead>\n",
       "    <tr style=\"text-align: right;\">\n",
       "      <th></th>\n",
       "      <th>Feedings</th>\n",
       "      <th>FoodType</th>\n",
       "      <th>PlantGrowth</th>\n",
       "    </tr>\n",
       "  </thead>\n",
       "  <tbody>\n",
       "    <tr>\n",
       "      <th>10</th>\n",
       "      <td>ONE FEEDING</td>\n",
       "      <td>BB</td>\n",
       "      <td>60</td>\n",
       "    </tr>\n",
       "    <tr>\n",
       "      <th>46</th>\n",
       "      <td>TWO FEEDINGS</td>\n",
       "      <td>CC</td>\n",
       "      <td>45</td>\n",
       "    </tr>\n",
       "    <tr>\n",
       "      <th>3</th>\n",
       "      <td>ONE FEEDING</td>\n",
       "      <td>AA</td>\n",
       "      <td>60</td>\n",
       "    </tr>\n",
       "    <tr>\n",
       "      <th>13</th>\n",
       "      <td>ONE FEEDING</td>\n",
       "      <td>BB</td>\n",
       "      <td>60</td>\n",
       "    </tr>\n",
       "    <tr>\n",
       "      <th>6</th>\n",
       "      <td>ONE FEEDING</td>\n",
       "      <td>AA</td>\n",
       "      <td>60</td>\n",
       "    </tr>\n",
       "  </tbody>\n",
       "</table>\n",
       "</div>"
      ],
      "text/plain": [
       "        Feedings FoodType  PlantGrowth\n",
       "10   ONE FEEDING       BB           60\n",
       "46  TWO FEEDINGS       CC           45\n",
       "3    ONE FEEDING       AA           60\n",
       "13   ONE FEEDING       BB           60\n",
       "6    ONE FEEDING       AA           60"
      ]
     },
     "execution_count": 10,
     "metadata": {},
     "output_type": "execute_result"
    }
   ],
   "source": [
    "data.sample(5)"
   ]
  },
  {
   "cell_type": "code",
   "execution_count": 11,
   "id": "0f494986",
   "metadata": {},
   "outputs": [
    {
     "data": {
      "text/html": [
       "<div>\n",
       "<style scoped>\n",
       "    .dataframe tbody tr th:only-of-type {\n",
       "        vertical-align: middle;\n",
       "    }\n",
       "\n",
       "    .dataframe tbody tr th {\n",
       "        vertical-align: top;\n",
       "    }\n",
       "\n",
       "    .dataframe thead th {\n",
       "        text-align: right;\n",
       "    }\n",
       "</style>\n",
       "<table border=\"1\" class=\"dataframe\">\n",
       "  <thead>\n",
       "    <tr style=\"text-align: right;\">\n",
       "      <th>FoodType</th>\n",
       "      <th>AA</th>\n",
       "      <th>BB</th>\n",
       "      <th>CC</th>\n",
       "      <th>All</th>\n",
       "    </tr>\n",
       "    <tr>\n",
       "      <th>Feedings</th>\n",
       "      <th></th>\n",
       "      <th></th>\n",
       "      <th></th>\n",
       "      <th></th>\n",
       "    </tr>\n",
       "  </thead>\n",
       "  <tbody>\n",
       "    <tr>\n",
       "      <th>ONE FEEDING</th>\n",
       "      <td>60.0000</td>\n",
       "      <td>62.5000</td>\n",
       "      <td>57.5000</td>\n",
       "      <td>60.0000</td>\n",
       "    </tr>\n",
       "    <tr>\n",
       "      <th>TWO FEEDINGS</th>\n",
       "      <td>66.8750</td>\n",
       "      <td>66.8750</td>\n",
       "      <td>40.6250</td>\n",
       "      <td>58.1250</td>\n",
       "    </tr>\n",
       "    <tr>\n",
       "      <th>All</th>\n",
       "      <td>63.4375</td>\n",
       "      <td>64.6875</td>\n",
       "      <td>49.0625</td>\n",
       "      <td>59.0625</td>\n",
       "    </tr>\n",
       "  </tbody>\n",
       "</table>\n",
       "</div>"
      ],
      "text/plain": [
       "FoodType           AA       BB       CC      All\n",
       "Feedings                                        \n",
       "ONE FEEDING   60.0000  62.5000  57.5000  60.0000\n",
       "TWO FEEDINGS  66.8750  66.8750  40.6250  58.1250\n",
       "All           63.4375  64.6875  49.0625  59.0625"
      ]
     },
     "execution_count": 11,
     "metadata": {},
     "output_type": "execute_result"
    }
   ],
   "source": [
    "data.pivot_table(values=\"PlantGrowth\",columns=\"FoodType\",index =\"Feedings\",margins=True)"
   ]
  },
  {
   "cell_type": "markdown",
   "id": "64016662",
   "metadata": {},
   "source": [
    "    We make table of means , the values are not individual data points .\n",
    "    they are all means with their own distribution .\n",
    "\n",
    "    in two way anova, \n",
    "    the way the distributions fit together  is the very heart of the technique."
   ]
  },
  {
   "cell_type": "code",
   "execution_count": 12,
   "id": "1e3b9dfd",
   "metadata": {},
   "outputs": [
    {
     "data": {
      "text/plain": [
       "<AxesSubplot:xlabel='FoodType'>"
      ]
     },
     "execution_count": 12,
     "metadata": {},
     "output_type": "execute_result"
    },
    {
     "data": {
      "image/png": "[encoded data removed]",
      "text/plain": [
       "<Figure size 432x288 with 1 Axes>"
      ]
     },
     "metadata": {
      "needs_background": "light"
     },
     "output_type": "display_data"
    }
   ],
   "source": [
    "data.pivot_table(values=\"PlantGrowth\",index=\"FoodType\",columns =\"Feedings\").plot()"
   ]
  },
  {
   "cell_type": "markdown",
   "id": "29341753",
   "metadata": {},
   "source": [
    "### Questions : \n",
    "- For AA, howmany feedings produce more growht ? \n",
    "- For BB, Howmany feedings produce more growth and for CC ?\n",
    "\n",
    "- DO two feedings produce more growth across all plant foods consistantly? \n"
   ]
  },
  {
   "cell_type": "markdown",
   "id": "6337ea3b",
   "metadata": {},
   "source": [
    "No, it appears that two feedings are better for AA and BB , Not for CC/\n",
    "\n",
    "This type of situatation is called an **Interaction.**\n",
    "\n",
    "An interaction occurs when the effect of one factor changes , for different level of other factor.\n",
    "\n",
    "\n",
    "In this case the most effective feeding frequency changes across plant food types.\n",
    "\n",
    "On a marginal chart as a general rule , we look to see if the lines cross or would cross ! "
   ]
  },
  {
   "cell_type": "code",
   "execution_count": null,
   "id": "7c936528",
   "metadata": {},
   "outputs": [],
   "source": []
  },
  {
   "cell_type": "code",
   "execution_count": 13,
   "id": "cefbdfc5",
   "metadata": {},
   "outputs": [
    {
     "data": {
      "text/html": [
       "<div>\n",
       "<style scoped>\n",
       "    .dataframe tbody tr th:only-of-type {\n",
       "        vertical-align: middle;\n",
       "    }\n",
       "\n",
       "    .dataframe tbody tr th {\n",
       "        vertical-align: top;\n",
       "    }\n",
       "\n",
       "    .dataframe thead th {\n",
       "        text-align: right;\n",
       "    }\n",
       "</style>\n",
       "<table border=\"1\" class=\"dataframe\">\n",
       "  <thead>\n",
       "    <tr style=\"text-align: right;\">\n",
       "      <th></th>\n",
       "      <th>sum_sq</th>\n",
       "      <th>df</th>\n",
       "      <th>F</th>\n",
       "      <th>PR(&gt;F)</th>\n",
       "    </tr>\n",
       "  </thead>\n",
       "  <tbody>\n",
       "    <tr>\n",
       "      <th>C(Feedings)</th>\n",
       "      <td>42.1875</td>\n",
       "      <td>1.0</td>\n",
       "      <td>0.577982</td>\n",
       "      <td>0.451351</td>\n",
       "    </tr>\n",
       "    <tr>\n",
       "      <th>C(FoodType)</th>\n",
       "      <td>2412.5000</td>\n",
       "      <td>2.0</td>\n",
       "      <td>16.525994</td>\n",
       "      <td>0.000005</td>\n",
       "    </tr>\n",
       "    <tr>\n",
       "      <th>C(Feedings):C(FoodType)</th>\n",
       "      <td>1362.5000</td>\n",
       "      <td>2.0</td>\n",
       "      <td>9.333333</td>\n",
       "      <td>0.000443</td>\n",
       "    </tr>\n",
       "    <tr>\n",
       "      <th>Residual</th>\n",
       "      <td>3065.6250</td>\n",
       "      <td>42.0</td>\n",
       "      <td>NaN</td>\n",
       "      <td>NaN</td>\n",
       "    </tr>\n",
       "  </tbody>\n",
       "</table>\n",
       "</div>"
      ],
      "text/plain": [
       "                            sum_sq    df          F    PR(>F)\n",
       "C(Feedings)                42.1875   1.0   0.577982  0.451351\n",
       "C(FoodType)              2412.5000   2.0  16.525994  0.000005\n",
       "C(Feedings):C(FoodType)  1362.5000   2.0   9.333333  0.000443\n",
       "Residual                 3065.6250  42.0        NaN       NaN"
      ]
     },
     "execution_count": 13,
     "metadata": {},
     "output_type": "execute_result"
    }
   ],
   "source": [
    "\n",
    "model = ols('PlantGrowth ~ C(Feedings) + C(FoodType) + C(Feedings):C(FoodType)', data=data).fit()\n",
    "aov_table = sm.stats.anova_lm(model, typ=2)\n",
    "aov_table"
   ]
  },
  {
   "cell_type": "code",
   "execution_count": 14,
   "id": "20ae3730",
   "metadata": {},
   "outputs": [],
   "source": [
    "# From above anova two way test , we have the significant interaction . \n",
    "# That leads us to see the factors individually. "
   ]
  },
  {
   "cell_type": "code",
   "execution_count": null,
   "id": "0caa37f3",
   "metadata": {},
   "outputs": [],
   "source": []
  },
  {
   "cell_type": "markdown",
   "id": "83a55c64",
   "metadata": {},
   "source": [
    "on the marginal means graph : \n",
    "\n",
    "the factor of interest or the factor with the most levels is on the horizontal axis. \n",
    "\n",
    "the dependent variable the vertical axis . (what is being measured. )\n",
    "\n",
    "the second factor makes up the series lines by graphing the dependent variable value for each level/category of the first factor.\n",
    "\n",
    "look for crossing or non parallel line on the graph. \n",
    "\n",
    "**if the interaction is significant  ,then the main factors significance cannot be analysed , the factors are too intertwined.**"
   ]
  },
  {
   "cell_type": "code",
   "execution_count": null,
   "id": "4f71830a",
   "metadata": {},
   "outputs": [],
   "source": []
  },
  {
   "cell_type": "code",
   "execution_count": 15,
   "id": "7ad15e82",
   "metadata": {},
   "outputs": [
    {
     "data": {
      "text/html": [
       "<div>\n",
       "<style scoped>\n",
       "    .dataframe tbody tr th:only-of-type {\n",
       "        vertical-align: middle;\n",
       "    }\n",
       "\n",
       "    .dataframe tbody tr th {\n",
       "        vertical-align: top;\n",
       "    }\n",
       "\n",
       "    .dataframe thead th {\n",
       "        text-align: right;\n",
       "    }\n",
       "</style>\n",
       "<table border=\"1\" class=\"dataframe\">\n",
       "  <thead>\n",
       "    <tr style=\"text-align: right;\">\n",
       "      <th>FoodType</th>\n",
       "      <th>AA</th>\n",
       "      <th>BB</th>\n",
       "      <th>CC</th>\n",
       "      <th>All</th>\n",
       "    </tr>\n",
       "    <tr>\n",
       "      <th>Feedings</th>\n",
       "      <th></th>\n",
       "      <th></th>\n",
       "      <th></th>\n",
       "      <th></th>\n",
       "    </tr>\n",
       "  </thead>\n",
       "  <tbody>\n",
       "    <tr>\n",
       "      <th>ONE FEEDING</th>\n",
       "      <td>60.0000</td>\n",
       "      <td>62.5000</td>\n",
       "      <td>57.5000</td>\n",
       "      <td>60.0000</td>\n",
       "    </tr>\n",
       "    <tr>\n",
       "      <th>TWO FEEDINGS</th>\n",
       "      <td>66.8750</td>\n",
       "      <td>66.8750</td>\n",
       "      <td>40.6250</td>\n",
       "      <td>58.1250</td>\n",
       "    </tr>\n",
       "    <tr>\n",
       "      <th>All</th>\n",
       "      <td>63.4375</td>\n",
       "      <td>64.6875</td>\n",
       "      <td>49.0625</td>\n",
       "      <td>59.0625</td>\n",
       "    </tr>\n",
       "  </tbody>\n",
       "</table>\n",
       "</div>"
      ],
      "text/plain": [
       "FoodType           AA       BB       CC      All\n",
       "Feedings                                        \n",
       "ONE FEEDING   60.0000  62.5000  57.5000  60.0000\n",
       "TWO FEEDINGS  66.8750  66.8750  40.6250  58.1250\n",
       "All           63.4375  64.6875  49.0625  59.0625"
      ]
     },
     "execution_count": 15,
     "metadata": {},
     "output_type": "execute_result"
    }
   ],
   "source": [
    "data.pivot_table(values=\"PlantGrowth\",columns=\"FoodType\",index =\"Feedings\",margins=True)"
   ]
  },
  {
   "cell_type": "code",
   "execution_count": null,
   "id": "5423e0fa",
   "metadata": {},
   "outputs": [],
   "source": []
  },
  {
   "cell_type": "code",
   "execution_count": 16,
   "id": "1418507c",
   "metadata": {},
   "outputs": [
    {
     "data": {
      "image/png": "[encoded data removed]",
      "text/plain": [
       "<Figure size 432x288 with 1 Axes>"
      ]
     },
     "metadata": {
      "needs_background": "light"
     },
     "output_type": "display_data"
    }
   ],
   "source": [
    "data.pivot_table(values=\"PlantGrowth\",index=\"FoodType\",columns =\"Feedings\").plot()\n",
    "\n",
    "plt.axhline(60,linestyle=\"--\")\n",
    "plt.axhline(58.1250,linestyle=\"--\",color=\"orange\")\n",
    "plt.show()\n"
   ]
  },
  {
   "cell_type": "code",
   "execution_count": null,
   "id": "6a22e293",
   "metadata": {},
   "outputs": [],
   "source": []
  },
  {
   "cell_type": "code",
   "execution_count": 17,
   "id": "5e71fdb4",
   "metadata": {},
   "outputs": [
    {
     "data": {
      "text/html": [
       "<div>\n",
       "<style scoped>\n",
       "    .dataframe tbody tr th:only-of-type {\n",
       "        vertical-align: middle;\n",
       "    }\n",
       "\n",
       "    .dataframe tbody tr th {\n",
       "        vertical-align: top;\n",
       "    }\n",
       "\n",
       "    .dataframe thead th {\n",
       "        text-align: right;\n",
       "    }\n",
       "</style>\n",
       "<table border=\"1\" class=\"dataframe\">\n",
       "  <thead>\n",
       "    <tr style=\"text-align: right;\">\n",
       "      <th></th>\n",
       "      <th>sum_sq</th>\n",
       "      <th>df</th>\n",
       "      <th>mean_sq</th>\n",
       "      <th>F</th>\n",
       "      <th>PR(&gt;F)</th>\n",
       "      <th>eta_sq</th>\n",
       "      <th>omega_sq</th>\n",
       "    </tr>\n",
       "  </thead>\n",
       "  <tbody>\n",
       "    <tr>\n",
       "      <th>C(Feedings)</th>\n",
       "      <td>42.1875</td>\n",
       "      <td>1.0</td>\n",
       "      <td>42.187500</td>\n",
       "      <td>0.577982</td>\n",
       "      <td>0.451351</td>\n",
       "      <td>0.006129</td>\n",
       "      <td>-0.004428</td>\n",
       "    </tr>\n",
       "    <tr>\n",
       "      <th>C(FoodType)</th>\n",
       "      <td>2412.5000</td>\n",
       "      <td>2.0</td>\n",
       "      <td>1206.250000</td>\n",
       "      <td>16.525994</td>\n",
       "      <td>0.000005</td>\n",
       "      <td>0.350511</td>\n",
       "      <td>0.325846</td>\n",
       "    </tr>\n",
       "    <tr>\n",
       "      <th>C(Feedings):C(FoodType)</th>\n",
       "      <td>1362.5000</td>\n",
       "      <td>2.0</td>\n",
       "      <td>681.250000</td>\n",
       "      <td>9.333333</td>\n",
       "      <td>0.000443</td>\n",
       "      <td>0.197957</td>\n",
       "      <td>0.174892</td>\n",
       "    </tr>\n",
       "    <tr>\n",
       "      <th>Residual</th>\n",
       "      <td>3065.6250</td>\n",
       "      <td>42.0</td>\n",
       "      <td>72.991071</td>\n",
       "      <td>NaN</td>\n",
       "      <td>NaN</td>\n",
       "      <td>NaN</td>\n",
       "      <td>NaN</td>\n",
       "    </tr>\n",
       "  </tbody>\n",
       "</table>\n",
       "</div>"
      ],
      "text/plain": [
       "                            sum_sq    df      mean_sq          F    PR(>F)  \\\n",
       "C(Feedings)                42.1875   1.0    42.187500   0.577982  0.451351   \n",
       "C(FoodType)              2412.5000   2.0  1206.250000  16.525994  0.000005   \n",
       "C(Feedings):C(FoodType)  1362.5000   2.0   681.250000   9.333333  0.000443   \n",
       "Residual                 3065.6250  42.0    72.991071        NaN       NaN   \n",
       "\n",
       "                           eta_sq  omega_sq  \n",
       "C(Feedings)              0.006129 -0.004428  \n",
       "C(FoodType)              0.350511  0.325846  \n",
       "C(Feedings):C(FoodType)  0.197957  0.174892  \n",
       "Residual                      NaN       NaN  "
      ]
     },
     "execution_count": 17,
     "metadata": {},
     "output_type": "execute_result"
    }
   ],
   "source": [
    "def anova_table(aov):\n",
    "    aov['mean_sq'] = aov[:]['sum_sq']/aov[:]['df']\n",
    "\n",
    "    aov['eta_sq'] = aov[:-1]['sum_sq']/sum(aov['sum_sq'])\n",
    "\n",
    "    aov['omega_sq'] = (aov[:-1]['sum_sq']-(aov[:-1]['df']*aov['mean_sq'][-1]))/(sum(aov['sum_sq'])+aov['mean_sq'][-1])\n",
    "\n",
    "    cols = ['sum_sq', 'df', 'mean_sq', 'F', 'PR(>F)', 'eta_sq', 'omega_sq']\n",
    "    aov = aov[cols]\n",
    "    return aov\n",
    "\n",
    "anova_table(aov_table)"
   ]
  },
  {
   "cell_type": "code",
   "execution_count": null,
   "id": "2ca1b201",
   "metadata": {},
   "outputs": [],
   "source": []
  },
  {
   "cell_type": "code",
   "execution_count": 18,
   "id": "7fabdea0",
   "metadata": {},
   "outputs": [
    {
     "data": {
      "text/html": [
       "<table class=\"simpletable\">\n",
       "<caption>Multiple Comparison of Means - Tukey HSD, FWER=0.05</caption>\n",
       "<tr>\n",
       "  <th>group1</th> <th>group2</th> <th>meandiff</th> <th>p-adj</th>   <th>lower</th>   <th>upper</th>  <th>reject</th>\n",
       "</tr>\n",
       "<tr>\n",
       "    <td>AA</td>     <td>BB</td>     <td>1.25</td>    <td>0.9</td>   <td>-7.2903</td> <td>9.7903</td>   <td>False</td>\n",
       "</tr>\n",
       "<tr>\n",
       "    <td>AA</td>     <td>CC</td>    <td>-14.375</td> <td>0.001</td> <td>-22.9153</td> <td>-5.8347</td>  <td>True</td> \n",
       "</tr>\n",
       "<tr>\n",
       "    <td>BB</td>     <td>CC</td>    <td>-15.625</td> <td>0.001</td> <td>-24.1653</td> <td>-7.0847</td>  <td>True</td> \n",
       "</tr>\n",
       "</table>"
      ],
      "text/plain": [
       "<class 'statsmodels.iolib.table.SimpleTable'>"
      ]
     },
     "execution_count": 18,
     "metadata": {},
     "output_type": "execute_result"
    }
   ],
   "source": [
    "import statsmodels.stats.multicomp as mc\n",
    "\n",
    "comp = mc.MultiComparison(data['PlantGrowth'], data['FoodType'])\n",
    "post_hoc_res = comp.tukeyhsd()\n",
    "post_hoc_res.summary()"
   ]
  },
  {
   "cell_type": "code",
   "execution_count": null,
   "id": "c8a70e10",
   "metadata": {},
   "outputs": [],
   "source": []
  },
  {
   "cell_type": "code",
   "execution_count": null,
   "id": "ec29abab",
   "metadata": {},
   "outputs": [],
   "source": []
  },
  {
   "cell_type": "code",
   "execution_count": null,
   "id": "510a47d4",
   "metadata": {},
   "outputs": [],
   "source": []
  },
  {
   "cell_type": "code",
   "execution_count": null,
   "id": "f98ab5d9",
   "metadata": {},
   "outputs": [],
   "source": []
  },
  {
   "cell_type": "code",
   "execution_count": null,
   "id": "6c17802f",
   "metadata": {},
   "outputs": [],
   "source": []
  },
  {
   "cell_type": "code",
   "execution_count": null,
   "id": "016fba9f",
   "metadata": {},
   "outputs": [],
   "source": []
  },
  {
   "cell_type": "markdown",
   "id": "91563bc3",
   "metadata": {},
   "source": [
    "## Roller Coaster Wait Times : "
   ]
  },
  {
   "cell_type": "markdown",
   "id": "170119be",
   "metadata": {},
   "source": [
    "- Tou are an analyst for kings island amusement park . YOu have been asked to determine `if there's a difference in wait time between three big roller coasters` in the park . **The Beast , Banshee and Diamondback.**\n",
    "\n",
    "\n",
    "- To conduct your analysis , you track the wait time for 25 random riders on each ride. While one way anova procedure will test the hypothesis that all three mean weait times are equal . The test will not tell you **Where those differences occure** amongs the coasters. "
   ]
  },
  {
   "cell_type": "code",
   "execution_count": null,
   "id": "6898e921",
   "metadata": {},
   "outputs": [],
   "source": []
  },
  {
   "cell_type": "code",
   "execution_count": 19,
   "id": "0c6dab75",
   "metadata": {},
   "outputs": [],
   "source": [
    "data = pd.read_csv(\"RollerCoster_waitTime.csv\")"
   ]
  },
  {
   "cell_type": "code",
   "execution_count": 20,
   "id": "1523a1fa",
   "metadata": {},
   "outputs": [],
   "source": [
    "RollerCosters = data.melt(value_name=\"wait_time\",var_name=\"Rides\")"
   ]
  },
  {
   "cell_type": "code",
   "execution_count": 21,
   "id": "d9058d56",
   "metadata": {},
   "outputs": [
    {
     "data": {
      "text/html": [
       "<div>\n",
       "<style scoped>\n",
       "    .dataframe tbody tr th:only-of-type {\n",
       "        vertical-align: middle;\n",
       "    }\n",
       "\n",
       "    .dataframe tbody tr th {\n",
       "        vertical-align: top;\n",
       "    }\n",
       "\n",
       "    .dataframe thead th {\n",
       "        text-align: right;\n",
       "    }\n",
       "</style>\n",
       "<table border=\"1\" class=\"dataframe\">\n",
       "  <thead>\n",
       "    <tr style=\"text-align: right;\">\n",
       "      <th></th>\n",
       "      <th>Rides</th>\n",
       "      <th>wait_time</th>\n",
       "    </tr>\n",
       "  </thead>\n",
       "  <tbody>\n",
       "    <tr>\n",
       "      <th>0</th>\n",
       "      <td>BEAST</td>\n",
       "      <td>23.5</td>\n",
       "    </tr>\n",
       "    <tr>\n",
       "      <th>1</th>\n",
       "      <td>BEAST</td>\n",
       "      <td>19.7</td>\n",
       "    </tr>\n",
       "    <tr>\n",
       "      <th>2</th>\n",
       "      <td>BEAST</td>\n",
       "      <td>14.8</td>\n",
       "    </tr>\n",
       "    <tr>\n",
       "      <th>3</th>\n",
       "      <td>BEAST</td>\n",
       "      <td>24.2</td>\n",
       "    </tr>\n",
       "    <tr>\n",
       "      <th>4</th>\n",
       "      <td>BEAST</td>\n",
       "      <td>40.2</td>\n",
       "    </tr>\n",
       "    <tr>\n",
       "      <th>...</th>\n",
       "      <td>...</td>\n",
       "      <td>...</td>\n",
       "    </tr>\n",
       "    <tr>\n",
       "      <th>70</th>\n",
       "      <td>DIAMONDBACK</td>\n",
       "      <td>56.4</td>\n",
       "    </tr>\n",
       "    <tr>\n",
       "      <th>71</th>\n",
       "      <td>DIAMONDBACK</td>\n",
       "      <td>56.0</td>\n",
       "    </tr>\n",
       "    <tr>\n",
       "      <th>72</th>\n",
       "      <td>DIAMONDBACK</td>\n",
       "      <td>75.6</td>\n",
       "    </tr>\n",
       "    <tr>\n",
       "      <th>73</th>\n",
       "      <td>DIAMONDBACK</td>\n",
       "      <td>70.1</td>\n",
       "    </tr>\n",
       "    <tr>\n",
       "      <th>74</th>\n",
       "      <td>DIAMONDBACK</td>\n",
       "      <td>51.4</td>\n",
       "    </tr>\n",
       "  </tbody>\n",
       "</table>\n",
       "<p>75 rows × 2 columns</p>\n",
       "</div>"
      ],
      "text/plain": [
       "          Rides  wait_time\n",
       "0         BEAST       23.5\n",
       "1         BEAST       19.7\n",
       "2         BEAST       14.8\n",
       "3         BEAST       24.2\n",
       "4         BEAST       40.2\n",
       "..          ...        ...\n",
       "70  DIAMONDBACK       56.4\n",
       "71  DIAMONDBACK       56.0\n",
       "72  DIAMONDBACK       75.6\n",
       "73  DIAMONDBACK       70.1\n",
       "74  DIAMONDBACK       51.4\n",
       "\n",
       "[75 rows x 2 columns]"
      ]
     },
     "execution_count": 21,
     "metadata": {},
     "output_type": "execute_result"
    }
   ],
   "source": [
    "RollerCosters"
   ]
  },
  {
   "cell_type": "code",
   "execution_count": 22,
   "id": "9d57ad49",
   "metadata": {
    "scrolled": true
   },
   "outputs": [
    {
     "data": {
      "text/html": [
       "<div>\n",
       "<style scoped>\n",
       "    .dataframe tbody tr th:only-of-type {\n",
       "        vertical-align: middle;\n",
       "    }\n",
       "\n",
       "    .dataframe tbody tr th {\n",
       "        vertical-align: top;\n",
       "    }\n",
       "\n",
       "    .dataframe thead th {\n",
       "        text-align: right;\n",
       "    }\n",
       "</style>\n",
       "<table border=\"1\" class=\"dataframe\">\n",
       "  <thead>\n",
       "    <tr style=\"text-align: right;\">\n",
       "      <th></th>\n",
       "      <th>sum_sq</th>\n",
       "      <th>df</th>\n",
       "      <th>F</th>\n",
       "      <th>PR(&gt;F)</th>\n",
       "    </tr>\n",
       "  </thead>\n",
       "  <tbody>\n",
       "    <tr>\n",
       "      <th>C(Rides)</th>\n",
       "      <td>8788.2912</td>\n",
       "      <td>2.0</td>\n",
       "      <td>21.353955</td>\n",
       "      <td>5.231290e-08</td>\n",
       "    </tr>\n",
       "    <tr>\n",
       "      <th>Residual</th>\n",
       "      <td>14815.9200</td>\n",
       "      <td>72.0</td>\n",
       "      <td>NaN</td>\n",
       "      <td>NaN</td>\n",
       "    </tr>\n",
       "  </tbody>\n",
       "</table>\n",
       "</div>"
      ],
      "text/plain": [
       "              sum_sq    df          F        PR(>F)\n",
       "C(Rides)   8788.2912   2.0  21.353955  5.231290e-08\n",
       "Residual  14815.9200  72.0        NaN           NaN"
      ]
     },
     "execution_count": 22,
     "metadata": {},
     "output_type": "execute_result"
    }
   ],
   "source": [
    "\n",
    "model = ols('wait_time ~ C(Rides)' , data=RollerCosters).fit()\n",
    "aov_table = sm.stats.anova_lm(model, typ=2)\n",
    "aov_table"
   ]
  },
  {
   "cell_type": "code",
   "execution_count": null,
   "id": "97a0715f",
   "metadata": {},
   "outputs": [],
   "source": []
  },
  {
   "cell_type": "markdown",
   "id": "1c492fcd",
   "metadata": {},
   "source": [
    "- **If the f-test is significant, we do not know where the differences are located** "
   ]
  },
  {
   "cell_type": "markdown",
   "id": "8e3d8354",
   "metadata": {},
   "source": [
    "- There are several multiple comparision procedures : Fisher's LSD . Tukey HSD , Scheffe's Method, Bonferroni . "
   ]
  },
  {
   "cell_type": "code",
   "execution_count": 23,
   "id": "b8b3b8e0",
   "metadata": {},
   "outputs": [
    {
     "data": {
      "text/html": [
       "<div>\n",
       "<style scoped>\n",
       "    .dataframe tbody tr th:only-of-type {\n",
       "        vertical-align: middle;\n",
       "    }\n",
       "\n",
       "    .dataframe tbody tr th {\n",
       "        vertical-align: top;\n",
       "    }\n",
       "\n",
       "    .dataframe thead th {\n",
       "        text-align: right;\n",
       "    }\n",
       "</style>\n",
       "<table border=\"1\" class=\"dataframe\">\n",
       "  <thead>\n",
       "    <tr style=\"text-align: right;\">\n",
       "      <th></th>\n",
       "      <th>sum_sq</th>\n",
       "      <th>df</th>\n",
       "      <th>mean_sq</th>\n",
       "      <th>F</th>\n",
       "      <th>PR(&gt;F)</th>\n",
       "      <th>eta_sq</th>\n",
       "      <th>omega_sq</th>\n",
       "    </tr>\n",
       "  </thead>\n",
       "  <tbody>\n",
       "    <tr>\n",
       "      <th>C(Rides)</th>\n",
       "      <td>8788.2912</td>\n",
       "      <td>2.0</td>\n",
       "      <td>4394.145600</td>\n",
       "      <td>21.353955</td>\n",
       "      <td>5.231290e-08</td>\n",
       "      <td>0.372319</td>\n",
       "      <td>0.351816</td>\n",
       "    </tr>\n",
       "    <tr>\n",
       "      <th>Residual</th>\n",
       "      <td>14815.9200</td>\n",
       "      <td>72.0</td>\n",
       "      <td>205.776667</td>\n",
       "      <td>NaN</td>\n",
       "      <td>NaN</td>\n",
       "      <td>NaN</td>\n",
       "      <td>NaN</td>\n",
       "    </tr>\n",
       "  </tbody>\n",
       "</table>\n",
       "</div>"
      ],
      "text/plain": [
       "              sum_sq    df      mean_sq          F        PR(>F)    eta_sq  \\\n",
       "C(Rides)   8788.2912   2.0  4394.145600  21.353955  5.231290e-08  0.372319   \n",
       "Residual  14815.9200  72.0   205.776667        NaN           NaN       NaN   \n",
       "\n",
       "          omega_sq  \n",
       "C(Rides)  0.351816  \n",
       "Residual       NaN  "
      ]
     },
     "execution_count": 23,
     "metadata": {},
     "output_type": "execute_result"
    }
   ],
   "source": [
    "def anova_table(aov):\n",
    "    aov['mean_sq'] = aov[:]['sum_sq']/aov[:]['df']\n",
    "\n",
    "    aov['eta_sq'] = aov[:-1]['sum_sq']/sum(aov['sum_sq'])\n",
    "\n",
    "    aov['omega_sq'] = (aov[:-1]['sum_sq']-(aov[:-1]['df']*aov['mean_sq'][-1]))/(sum(aov['sum_sq'])+aov['mean_sq'][-1])\n",
    "\n",
    "    cols = ['sum_sq', 'df', 'mean_sq', 'F', 'PR(>F)', 'eta_sq', 'omega_sq']\n",
    "    aov = aov[cols]\n",
    "    return aov\n",
    "\n",
    "anova_table(aov_table)"
   ]
  },
  {
   "cell_type": "markdown",
   "id": "4da2b5f6",
   "metadata": {},
   "source": [
    "#### Difference Matrix : \n"
   ]
  },
  {
   "cell_type": "code",
   "execution_count": 24,
   "id": "8c9347de",
   "metadata": {},
   "outputs": [],
   "source": [
    "diffs = data.mean().sort_values(ascending=False)"
   ]
  },
  {
   "cell_type": "code",
   "execution_count": 25,
   "id": "dfbdcb1a",
   "metadata": {},
   "outputs": [
    {
     "data": {
      "text/plain": [
       "DIAMONDBACK    58.904\n",
       "BANSHEE        42.440\n",
       "BEAST          32.672\n",
       "dtype: float64"
      ]
     },
     "execution_count": 25,
     "metadata": {},
     "output_type": "execute_result"
    }
   ],
   "source": [
    "diffs"
   ]
  },
  {
   "cell_type": "code",
   "execution_count": 26,
   "id": "1dc4cab4",
   "metadata": {},
   "outputs": [
    {
     "data": {
      "text/plain": [
       "array([58.904, 42.44 , 32.672])"
      ]
     },
     "execution_count": 26,
     "metadata": {},
     "output_type": "execute_result"
    }
   ],
   "source": [
    "np.array(diffs)"
   ]
  },
  {
   "cell_type": "code",
   "execution_count": 27,
   "id": "ff9891b9",
   "metadata": {},
   "outputs": [
    {
     "data": {
      "text/plain": [
       "[array([ 0.   , 16.464, 26.232]),\n",
       " array([-16.464,   0.   ,   9.768]),\n",
       " array([-26.232,  -9.768,   0.   ])]"
      ]
     },
     "execution_count": 27,
     "metadata": {},
     "output_type": "execute_result"
    }
   ],
   "source": [
    "diffmat = []\n",
    "for i in np.array(diffs):\n",
    "    diffmat.append(i-np.array(diffs))\n",
    "diffmat"
   ]
  },
  {
   "cell_type": "code",
   "execution_count": 28,
   "id": "98a68c70",
   "metadata": {},
   "outputs": [],
   "source": [
    "diffmat = pd.DataFrame(diffmat)"
   ]
  },
  {
   "cell_type": "code",
   "execution_count": 29,
   "id": "dae77fcf",
   "metadata": {},
   "outputs": [
    {
     "data": {
      "text/html": [
       "<div>\n",
       "<style scoped>\n",
       "    .dataframe tbody tr th:only-of-type {\n",
       "        vertical-align: middle;\n",
       "    }\n",
       "\n",
       "    .dataframe tbody tr th {\n",
       "        vertical-align: top;\n",
       "    }\n",
       "\n",
       "    .dataframe thead th {\n",
       "        text-align: right;\n",
       "    }\n",
       "</style>\n",
       "<table border=\"1\" class=\"dataframe\">\n",
       "  <thead>\n",
       "    <tr style=\"text-align: right;\">\n",
       "      <th></th>\n",
       "      <th>0</th>\n",
       "      <th>1</th>\n",
       "      <th>2</th>\n",
       "    </tr>\n",
       "  </thead>\n",
       "  <tbody>\n",
       "    <tr>\n",
       "      <th>0</th>\n",
       "      <td>0.000</td>\n",
       "      <td>16.464</td>\n",
       "      <td>26.232</td>\n",
       "    </tr>\n",
       "    <tr>\n",
       "      <th>1</th>\n",
       "      <td>-16.464</td>\n",
       "      <td>0.000</td>\n",
       "      <td>9.768</td>\n",
       "    </tr>\n",
       "    <tr>\n",
       "      <th>2</th>\n",
       "      <td>-26.232</td>\n",
       "      <td>-9.768</td>\n",
       "      <td>0.000</td>\n",
       "    </tr>\n",
       "  </tbody>\n",
       "</table>\n",
       "</div>"
      ],
      "text/plain": [
       "        0       1       2\n",
       "0   0.000  16.464  26.232\n",
       "1 -16.464   0.000   9.768\n",
       "2 -26.232  -9.768   0.000"
      ]
     },
     "execution_count": 29,
     "metadata": {},
     "output_type": "execute_result"
    }
   ],
   "source": [
    "diffmat"
   ]
  },
  {
   "cell_type": "code",
   "execution_count": 30,
   "id": "713092df",
   "metadata": {},
   "outputs": [],
   "source": [
    "diffmat.columns = ['DIAMONDBACK', 'BANSHEE', 'BEAST']"
   ]
  },
  {
   "cell_type": "code",
   "execution_count": 31,
   "id": "9b111ca5",
   "metadata": {},
   "outputs": [],
   "source": [
    "diffmat.index = ['DIAMONDBACK', 'BANSHEE', 'BEAST']"
   ]
  },
  {
   "cell_type": "code",
   "execution_count": 32,
   "id": "2f2fdb45",
   "metadata": {},
   "outputs": [
    {
     "data": {
      "text/html": [
       "<div>\n",
       "<style scoped>\n",
       "    .dataframe tbody tr th:only-of-type {\n",
       "        vertical-align: middle;\n",
       "    }\n",
       "\n",
       "    .dataframe tbody tr th {\n",
       "        vertical-align: top;\n",
       "    }\n",
       "\n",
       "    .dataframe thead th {\n",
       "        text-align: right;\n",
       "    }\n",
       "</style>\n",
       "<table border=\"1\" class=\"dataframe\">\n",
       "  <thead>\n",
       "    <tr style=\"text-align: right;\">\n",
       "      <th></th>\n",
       "      <th>DIAMONDBACK</th>\n",
       "      <th>BANSHEE</th>\n",
       "      <th>BEAST</th>\n",
       "    </tr>\n",
       "  </thead>\n",
       "  <tbody>\n",
       "    <tr>\n",
       "      <th>DIAMONDBACK</th>\n",
       "      <td>0.000</td>\n",
       "      <td>16.464</td>\n",
       "      <td>26.232</td>\n",
       "    </tr>\n",
       "    <tr>\n",
       "      <th>BANSHEE</th>\n",
       "      <td>-16.464</td>\n",
       "      <td>0.000</td>\n",
       "      <td>9.768</td>\n",
       "    </tr>\n",
       "    <tr>\n",
       "      <th>BEAST</th>\n",
       "      <td>-26.232</td>\n",
       "      <td>-9.768</td>\n",
       "      <td>0.000</td>\n",
       "    </tr>\n",
       "  </tbody>\n",
       "</table>\n",
       "</div>"
      ],
      "text/plain": [
       "             DIAMONDBACK  BANSHEE   BEAST\n",
       "DIAMONDBACK        0.000   16.464  26.232\n",
       "BANSHEE          -16.464    0.000   9.768\n",
       "BEAST            -26.232   -9.768   0.000"
      ]
     },
     "execution_count": 32,
     "metadata": {},
     "output_type": "execute_result"
    }
   ],
   "source": [
    "diffmat"
   ]
  },
  {
   "cell_type": "code",
   "execution_count": 33,
   "id": "528b5388",
   "metadata": {},
   "outputs": [
    {
     "data": {
      "text/plain": [
       "<AxesSubplot:xlabel='Rides', ylabel='wait_time'>"
      ]
     },
     "execution_count": 33,
     "metadata": {},
     "output_type": "execute_result"
    },
    {
     "data": {
      "image/png": "[encoded data removed]",
      "text/plain": [
       "<Figure size 432x288 with 1 Axes>"
      ]
     },
     "metadata": {
      "needs_background": "light"
     },
     "output_type": "display_data"
    }
   ],
   "source": [
    "sns.boxplot(x = RollerCosters[\"Rides\"],\n",
    "           y=  RollerCosters[\"wait_time\"])"
   ]
  },
  {
   "cell_type": "code",
   "execution_count": 34,
   "id": "02a1bab3",
   "metadata": {},
   "outputs": [
    {
     "data": {
      "text/html": [
       "<table class=\"simpletable\">\n",
       "<caption>Multiple Comparison of Means - Tukey HSD, FWER=0.05</caption>\n",
       "<tr>\n",
       "  <th>group1</th>    <th>group2</th>    <th>meandiff</th>  <th>p-adj</th>   <th>lower</th>   <th>upper</th>  <th>reject</th>\n",
       "</tr>\n",
       "<tr>\n",
       "  <td>BANSHEE</td>    <td>BEAST</td>     <td>-9.768</td>  <td>0.0483</td> <td>-19.4778</td> <td>-0.0582</td>  <td>True</td> \n",
       "</tr>\n",
       "<tr>\n",
       "  <td>BANSHEE</td> <td>DIAMONDBACK</td>  <td>16.464</td>   <td>0.001</td>  <td>6.7542</td>  <td>26.1738</td>  <td>True</td> \n",
       "</tr>\n",
       "<tr>\n",
       "   <td>BEAST</td>  <td>DIAMONDBACK</td>  <td>26.232</td>   <td>0.001</td>  <td>16.5222</td> <td>35.9418</td>  <td>True</td> \n",
       "</tr>\n",
       "</table>"
      ],
      "text/plain": [
       "<class 'statsmodels.iolib.table.SimpleTable'>"
      ]
     },
     "execution_count": 34,
     "metadata": {},
     "output_type": "execute_result"
    }
   ],
   "source": [
    "import statsmodels.stats.multicomp as mc\n",
    "\n",
    "comp = mc.MultiComparison(RollerCosters['wait_time'], RollerCosters['Rides'])\n",
    "post_hoc_res = comp.tukeyhsd()\n",
    "post_hoc_res.summary()"
   ]
  },
  {
   "cell_type": "code",
   "execution_count": null,
   "id": "1173c58f",
   "metadata": {},
   "outputs": [],
   "source": []
  },
  {
   "cell_type": "code",
   "execution_count": 35,
   "id": "8374b7d2",
   "metadata": {},
   "outputs": [
    {
     "data": {
      "text/html": [
       "<div>\n",
       "<style scoped>\n",
       "    .dataframe tbody tr th:only-of-type {\n",
       "        vertical-align: middle;\n",
       "    }\n",
       "\n",
       "    .dataframe tbody tr th {\n",
       "        vertical-align: top;\n",
       "    }\n",
       "\n",
       "    .dataframe thead th {\n",
       "        text-align: right;\n",
       "    }\n",
       "</style>\n",
       "<table border=\"1\" class=\"dataframe\">\n",
       "  <thead>\n",
       "    <tr style=\"text-align: right;\">\n",
       "      <th></th>\n",
       "      <th>BEAST</th>\n",
       "      <th>BANSHEE</th>\n",
       "      <th>DIAMONDBACK</th>\n",
       "    </tr>\n",
       "  </thead>\n",
       "  <tbody>\n",
       "    <tr>\n",
       "      <th>BEAST</th>\n",
       "      <td>1.000000</td>\n",
       "      <td>1.862747e-02</td>\n",
       "      <td>1.242146e-04</td>\n",
       "    </tr>\n",
       "    <tr>\n",
       "      <th>BANSHEE</th>\n",
       "      <td>0.018627</td>\n",
       "      <td>1.000000e+00</td>\n",
       "      <td>1.053171e-08</td>\n",
       "    </tr>\n",
       "    <tr>\n",
       "      <th>DIAMONDBACK</th>\n",
       "      <td>0.000124</td>\n",
       "      <td>1.053171e-08</td>\n",
       "      <td>1.000000e+00</td>\n",
       "    </tr>\n",
       "  </tbody>\n",
       "</table>\n",
       "</div>"
      ],
      "text/plain": [
       "                BEAST       BANSHEE   DIAMONDBACK\n",
       "BEAST        1.000000  1.862747e-02  1.242146e-04\n",
       "BANSHEE      0.018627  1.000000e+00  1.053171e-08\n",
       "DIAMONDBACK  0.000124  1.053171e-08  1.000000e+00"
      ]
     },
     "execution_count": 35,
     "metadata": {},
     "output_type": "execute_result"
    }
   ],
   "source": [
    "import scikit_posthocs as sp\n",
    "sp.posthoc_ttest(RollerCosters, val_col='wait_time', group_col='Rides', p_adjust=None, pool_sd=True )"
   ]
  },
  {
   "cell_type": "code",
   "execution_count": null,
   "id": "24c7a678",
   "metadata": {},
   "outputs": [],
   "source": []
  },
  {
   "cell_type": "code",
   "execution_count": null,
   "id": "ea63b14b",
   "metadata": {},
   "outputs": [],
   "source": []
  },
  {
   "cell_type": "code",
   "execution_count": null,
   "id": "9c76dfc1",
   "metadata": {},
   "outputs": [],
   "source": []
  },
  {
   "cell_type": "code",
   "execution_count": null,
   "id": "b6715a89",
   "metadata": {},
   "outputs": [],
   "source": []
  },
  {
   "cell_type": "markdown",
   "id": "61144db3",
   "metadata": {},
   "source": [
    "https://www.statsmodels.org/devel/generated/statsmodels.sandbox.stats.multicomp.MultiComparison.html"
   ]
  },
  {
   "cell_type": "code",
   "execution_count": null,
   "id": "96a8cb0d",
   "metadata": {},
   "outputs": [],
   "source": []
  },
  {
   "cell_type": "code",
   "execution_count": null,
   "id": "188e741e",
   "metadata": {},
   "outputs": [],
   "source": []
  },
  {
   "cell_type": "code",
   "execution_count": null,
   "id": "840ebf5c",
   "metadata": {},
   "outputs": [],
   "source": []
  },
  {
   "cell_type": "code",
   "execution_count": null,
   "id": "dc476ebc",
   "metadata": {},
   "outputs": [],
   "source": []
  },
  {
   "cell_type": "code",
   "execution_count": 36,
   "id": "22e4e9ce",
   "metadata": {},
   "outputs": [],
   "source": [
    "df = pd.read_csv(\"https://raw.githubusercontent.com/researchpy/Data-sets/master/difficile.csv\")"
   ]
  },
  {
   "cell_type": "code",
   "execution_count": 37,
   "id": "f1b4ebf4",
   "metadata": {},
   "outputs": [
    {
     "data": {
      "text/html": [
       "<div>\n",
       "<style scoped>\n",
       "    .dataframe tbody tr th:only-of-type {\n",
       "        vertical-align: middle;\n",
       "    }\n",
       "\n",
       "    .dataframe tbody tr th {\n",
       "        vertical-align: top;\n",
       "    }\n",
       "\n",
       "    .dataframe thead th {\n",
       "        text-align: right;\n",
       "    }\n",
       "</style>\n",
       "<table border=\"1\" class=\"dataframe\">\n",
       "  <thead>\n",
       "    <tr style=\"text-align: right;\">\n",
       "      <th></th>\n",
       "      <th>dose</th>\n",
       "      <th>libido</th>\n",
       "    </tr>\n",
       "  </thead>\n",
       "  <tbody>\n",
       "    <tr>\n",
       "      <th>0</th>\n",
       "      <td>placebo</td>\n",
       "      <td>3</td>\n",
       "    </tr>\n",
       "    <tr>\n",
       "      <th>1</th>\n",
       "      <td>placebo</td>\n",
       "      <td>2</td>\n",
       "    </tr>\n",
       "    <tr>\n",
       "      <th>2</th>\n",
       "      <td>placebo</td>\n",
       "      <td>1</td>\n",
       "    </tr>\n",
       "    <tr>\n",
       "      <th>3</th>\n",
       "      <td>placebo</td>\n",
       "      <td>1</td>\n",
       "    </tr>\n",
       "    <tr>\n",
       "      <th>4</th>\n",
       "      <td>placebo</td>\n",
       "      <td>4</td>\n",
       "    </tr>\n",
       "    <tr>\n",
       "      <th>5</th>\n",
       "      <td>low</td>\n",
       "      <td>5</td>\n",
       "    </tr>\n",
       "    <tr>\n",
       "      <th>6</th>\n",
       "      <td>low</td>\n",
       "      <td>2</td>\n",
       "    </tr>\n",
       "    <tr>\n",
       "      <th>7</th>\n",
       "      <td>low</td>\n",
       "      <td>4</td>\n",
       "    </tr>\n",
       "    <tr>\n",
       "      <th>8</th>\n",
       "      <td>low</td>\n",
       "      <td>2</td>\n",
       "    </tr>\n",
       "    <tr>\n",
       "      <th>9</th>\n",
       "      <td>low</td>\n",
       "      <td>3</td>\n",
       "    </tr>\n",
       "    <tr>\n",
       "      <th>10</th>\n",
       "      <td>high</td>\n",
       "      <td>7</td>\n",
       "    </tr>\n",
       "    <tr>\n",
       "      <th>11</th>\n",
       "      <td>high</td>\n",
       "      <td>4</td>\n",
       "    </tr>\n",
       "    <tr>\n",
       "      <th>12</th>\n",
       "      <td>high</td>\n",
       "      <td>5</td>\n",
       "    </tr>\n",
       "    <tr>\n",
       "      <th>13</th>\n",
       "      <td>high</td>\n",
       "      <td>3</td>\n",
       "    </tr>\n",
       "    <tr>\n",
       "      <th>14</th>\n",
       "      <td>high</td>\n",
       "      <td>6</td>\n",
       "    </tr>\n",
       "  </tbody>\n",
       "</table>\n",
       "</div>"
      ],
      "text/plain": [
       "       dose  libido\n",
       "0   placebo       3\n",
       "1   placebo       2\n",
       "2   placebo       1\n",
       "3   placebo       1\n",
       "4   placebo       4\n",
       "5       low       5\n",
       "6       low       2\n",
       "7       low       4\n",
       "8       low       2\n",
       "9       low       3\n",
       "10     high       7\n",
       "11     high       4\n",
       "12     high       5\n",
       "13     high       3\n",
       "14     high       6"
      ]
     },
     "execution_count": 37,
     "metadata": {},
     "output_type": "execute_result"
    }
   ],
   "source": [
    "df.drop('person', axis= 1, inplace= True)\n",
    "\n",
    "# Recoding value from numeric to string\n",
    "df['dose'].replace({1: 'placebo', 2: 'low', 3: 'high'}, inplace= True)\n",
    "\n",
    "df"
   ]
  },
  {
   "cell_type": "code",
   "execution_count": 38,
   "id": "4c5ce4e1",
   "metadata": {},
   "outputs": [
    {
     "data": {
      "application/javascript": [
       "\n",
       "        if (window._pyforest_update_imports_cell) { window._pyforest_update_imports_cell('from scipy import stats'); }\n",
       "    "
      ],
      "text/plain": [
       "<IPython.core.display.Javascript object>"
      ]
     },
     "metadata": {},
     "output_type": "display_data"
    },
    {
     "data": {
      "text/plain": [
       "F_onewayResult(statistic=5.11864406779661, pvalue=0.024694289538222603)"
      ]
     },
     "execution_count": 38,
     "metadata": {},
     "output_type": "execute_result"
    }
   ],
   "source": [
    "\n",
    "stats.f_oneway(df['libido'][df['dose'] == 'high'],\n",
    "               df['libido'][df['dose'] == 'low'],\n",
    "               df['libido'][df['dose'] == 'placebo'])"
   ]
  },
  {
   "cell_type": "code",
   "execution_count": 39,
   "id": "2650529c",
   "metadata": {},
   "outputs": [
    {
     "data": {
      "text/html": [
       "<div>\n",
       "<style scoped>\n",
       "    .dataframe tbody tr th:only-of-type {\n",
       "        vertical-align: middle;\n",
       "    }\n",
       "\n",
       "    .dataframe tbody tr th {\n",
       "        vertical-align: top;\n",
       "    }\n",
       "\n",
       "    .dataframe thead th {\n",
       "        text-align: right;\n",
       "    }\n",
       "</style>\n",
       "<table border=\"1\" class=\"dataframe\">\n",
       "  <thead>\n",
       "    <tr style=\"text-align: right;\">\n",
       "      <th></th>\n",
       "      <th>sum_sq</th>\n",
       "      <th>df</th>\n",
       "      <th>F</th>\n",
       "      <th>PR(&gt;F)</th>\n",
       "    </tr>\n",
       "  </thead>\n",
       "  <tbody>\n",
       "    <tr>\n",
       "      <th>C(dose)</th>\n",
       "      <td>20.133333</td>\n",
       "      <td>2.0</td>\n",
       "      <td>5.118644</td>\n",
       "      <td>0.024694</td>\n",
       "    </tr>\n",
       "    <tr>\n",
       "      <th>Residual</th>\n",
       "      <td>23.600000</td>\n",
       "      <td>12.0</td>\n",
       "      <td>NaN</td>\n",
       "      <td>NaN</td>\n",
       "    </tr>\n",
       "  </tbody>\n",
       "</table>\n",
       "</div>"
      ],
      "text/plain": [
       "             sum_sq    df         F    PR(>F)\n",
       "C(dose)   20.133333   2.0  5.118644  0.024694\n",
       "Residual  23.600000  12.0       NaN       NaN"
      ]
     },
     "execution_count": 39,
     "metadata": {},
     "output_type": "execute_result"
    }
   ],
   "source": [
    "model = ols('libido ~ C(dose)', data=df).fit()\n",
    "aov_table = sm.stats.anova_lm(model, typ=2)\n",
    "aov_table"
   ]
  },
  {
   "cell_type": "code",
   "execution_count": 40,
   "id": "d4abc8f6",
   "metadata": {},
   "outputs": [
    {
     "data": {
      "text/html": [
       "<div>\n",
       "<style scoped>\n",
       "    .dataframe tbody tr th:only-of-type {\n",
       "        vertical-align: middle;\n",
       "    }\n",
       "\n",
       "    .dataframe tbody tr th {\n",
       "        vertical-align: top;\n",
       "    }\n",
       "\n",
       "    .dataframe thead th {\n",
       "        text-align: right;\n",
       "    }\n",
       "</style>\n",
       "<table border=\"1\" class=\"dataframe\">\n",
       "  <thead>\n",
       "    <tr style=\"text-align: right;\">\n",
       "      <th></th>\n",
       "      <th>sum_sq</th>\n",
       "      <th>df</th>\n",
       "      <th>mean_sq</th>\n",
       "      <th>F</th>\n",
       "      <th>PR(&gt;F)</th>\n",
       "      <th>eta_sq</th>\n",
       "      <th>omega_sq</th>\n",
       "    </tr>\n",
       "  </thead>\n",
       "  <tbody>\n",
       "    <tr>\n",
       "      <th>C(dose)</th>\n",
       "      <td>20.133333</td>\n",
       "      <td>2.0</td>\n",
       "      <td>10.066667</td>\n",
       "      <td>5.118644</td>\n",
       "      <td>0.024694</td>\n",
       "      <td>0.460366</td>\n",
       "      <td>0.354486</td>\n",
       "    </tr>\n",
       "    <tr>\n",
       "      <th>Residual</th>\n",
       "      <td>23.600000</td>\n",
       "      <td>12.0</td>\n",
       "      <td>1.966667</td>\n",
       "      <td>NaN</td>\n",
       "      <td>NaN</td>\n",
       "      <td>NaN</td>\n",
       "      <td>NaN</td>\n",
       "    </tr>\n",
       "  </tbody>\n",
       "</table>\n",
       "</div>"
      ],
      "text/plain": [
       "             sum_sq    df    mean_sq         F    PR(>F)    eta_sq  omega_sq\n",
       "C(dose)   20.133333   2.0  10.066667  5.118644  0.024694  0.460366  0.354486\n",
       "Residual  23.600000  12.0   1.966667       NaN       NaN       NaN       NaN"
      ]
     },
     "execution_count": 40,
     "metadata": {},
     "output_type": "execute_result"
    }
   ],
   "source": [
    "\n",
    "def anova_table(aov):\n",
    "    aov['mean_sq'] = aov[:]['sum_sq']/aov[:]['df']\n",
    "\n",
    "    aov['eta_sq'] = aov[:-1]['sum_sq']/sum(aov['sum_sq'])\n",
    "\n",
    "    aov['omega_sq'] = (aov[:-1]['sum_sq']-(aov[:-1]['df']*aov['mean_sq'][-1]))/(sum(aov['sum_sq'])+aov['mean_sq'][-1])\n",
    "\n",
    "    cols = ['sum_sq', 'df', 'mean_sq', 'F', 'PR(>F)', 'eta_sq', 'omega_sq']\n",
    "    aov = aov[cols]\n",
    "    return aov\n",
    "\n",
    "anova_table(aov_table)"
   ]
  },
  {
   "cell_type": "code",
   "execution_count": null,
   "id": "ee1dfeea",
   "metadata": {},
   "outputs": [],
   "source": []
  },
  {
   "cell_type": "code",
   "execution_count": null,
   "id": "d966dae3",
   "metadata": {},
   "outputs": [],
   "source": []
  },
  {
   "cell_type": "markdown",
   "id": "001abc97",
   "metadata": {},
   "source": [
    "#### HOMOGENEITY OF VARIANCE"
   ]
  },
  {
   "cell_type": "code",
   "execution_count": 41,
   "id": "0401eb99",
   "metadata": {},
   "outputs": [
    {
     "data": {
      "application/javascript": [
       "\n",
       "        if (window._pyforest_update_imports_cell) { window._pyforest_update_imports_cell('from scipy import stats'); }\n",
       "    "
      ],
      "text/plain": [
       "<IPython.core.display.Javascript object>"
      ]
     },
     "metadata": {},
     "output_type": "display_data"
    },
    {
     "data": {
      "text/plain": [
       "LeveneResult(statistic=0.11764705882352934, pvalue=0.8900225182757423)"
      ]
     },
     "execution_count": 41,
     "metadata": {},
     "output_type": "execute_result"
    }
   ],
   "source": [
    "stats.levene(df['libido'][df['dose'] == 'high'],\n",
    "             df['libido'][df['dose'] == 'low'],\n",
    "             df['libido'][df['dose'] == 'placebo'])"
   ]
  },
  {
   "cell_type": "code",
   "execution_count": 42,
   "id": "1e92d635",
   "metadata": {},
   "outputs": [
    {
     "data": {
      "image/png": "[encoded data removed]",
      "text/plain": [
       "<Figure size 504x504 with 1 Axes>"
      ]
     },
     "metadata": {
      "needs_background": "light"
     },
     "output_type": "display_data"
    }
   ],
   "source": [
    "fig = plt.figure(figsize= (7, 7))\n",
    "ax = fig.add_subplot(111)\n",
    "\n",
    "ax.set_title(\"Box Plot of Libido by Dosage\", fontsize= 20)\n",
    "ax.set\n",
    "\n",
    "data = [df['libido'][df['dose'] == 'placebo'],\n",
    "        df['libido'][df['dose'] == 'low'],\n",
    "        df['libido'][df['dose'] == 'high']]\n",
    "\n",
    "ax.boxplot(data,\n",
    "           labels= ['Placebo', 'Low', 'High'],\n",
    "           showmeans= True)\n",
    "\n",
    "plt.xlabel(\"Drug Dosage\")\n",
    "plt.ylabel(\"Libido Score\")\n",
    "\n",
    "plt.show()"
   ]
  },
  {
   "cell_type": "markdown",
   "id": "6cac8b4f",
   "metadata": {},
   "source": [
    "#### TUKEY HONESTLY SIGNIFICANT DIFFERENCE (HSD)"
   ]
  },
  {
   "cell_type": "code",
   "execution_count": 43,
   "id": "d8d7e66d",
   "metadata": {},
   "outputs": [
    {
     "data": {
      "text/html": [
       "<table class=\"simpletable\">\n",
       "<caption>Multiple Comparison of Means - Tukey HSD, FWER=0.05</caption>\n",
       "<tr>\n",
       "  <th>group1</th> <th>group2</th>  <th>meandiff</th>  <th>p-adj</th>  <th>lower</th>   <th>upper</th>  <th>reject</th>\n",
       "</tr>\n",
       "<tr>\n",
       "   <td>high</td>    <td>low</td>     <td>-1.8</td>   <td>0.1472</td> <td>-4.1651</td> <td>0.5651</td>   <td>False</td>\n",
       "</tr>\n",
       "<tr>\n",
       "   <td>high</td>  <td>placebo</td>   <td>-2.8</td>   <td>0.0209</td> <td>-5.1651</td> <td>-0.4349</td>  <td>True</td> \n",
       "</tr>\n",
       "<tr>\n",
       "    <td>low</td>  <td>placebo</td>   <td>-1.0</td>   <td>0.5171</td> <td>-3.3651</td> <td>1.3651</td>   <td>False</td>\n",
       "</tr>\n",
       "</table>"
      ],
      "text/plain": [
       "<class 'statsmodels.iolib.table.SimpleTable'>"
      ]
     },
     "execution_count": 43,
     "metadata": {},
     "output_type": "execute_result"
    }
   ],
   "source": [
    "import statsmodels.stats.multicomp as mc\n",
    "\n",
    "comp = mc.MultiComparison(df['libido'], df['dose'])\n",
    "post_hoc_res = comp.tukeyhsd()\n",
    "post_hoc_res.summary()"
   ]
  },
  {
   "cell_type": "markdown",
   "id": "b073da63",
   "metadata": {},
   "source": [
    "- At the top the table testing information is provided\n",
    "\n",
    "\n",
    "- FWER is the familywise error rate, i.e. what  is being set to and controlled at\n",
    "- group1 and group2 columns are the groups being compared\n",
    "- meandiff is the difference between the group means\n",
    "- p-adj is the corrected p-value which takes into account the multiple comparisons being conducted\n",
    "- lower is the lower band of the confidence interval. In the current example the confidence interval at the 95% level since = 0.05.\n",
    "\n",
    "- upper is the upper band of the confidence interval. In the current example the confidence interval at the 95% level since = 0.05.\n",
    "- reject is the decision rule based on the corrected p-value"
   ]
  },
  {
   "cell_type": "code",
   "execution_count": null,
   "id": "c3300918",
   "metadata": {},
   "outputs": [],
   "source": []
  },
  {
   "cell_type": "code",
   "execution_count": 44,
   "id": "e547301c",
   "metadata": {},
   "outputs": [
    {
     "data": {
      "image/png": "[encoded data removed]",
      "text/plain": [
       "<Figure size 720x432 with 1 Axes>"
      ]
     },
     "metadata": {
      "needs_background": "light"
     },
     "output_type": "display_data"
    }
   ],
   "source": [
    "post_hoc_res.plot_simultaneous(ylabel= \"Drug Dose\", xlabel= \"Score Difference\")\n",
    "plt.show()"
   ]
  },
  {
   "cell_type": "code",
   "execution_count": null,
   "id": "b65f957a",
   "metadata": {},
   "outputs": [],
   "source": []
  },
  {
   "cell_type": "markdown",
   "id": "2eef2a7f",
   "metadata": {},
   "source": [
    "#### BONFERRONI CORRECTION"
   ]
  },
  {
   "cell_type": "code",
   "execution_count": 45,
   "id": "dbe0b0c6",
   "metadata": {},
   "outputs": [
    {
     "data": {
      "application/javascript": [
       "\n",
       "        if (window._pyforest_update_imports_cell) { window._pyforest_update_imports_cell('from scipy import stats'); }\n",
       "    "
      ],
      "text/plain": [
       "<IPython.core.display.Javascript object>"
      ]
     },
     "metadata": {},
     "output_type": "display_data"
    },
    {
     "data": {
      "text/html": [
       "<table class=\"simpletable\">\n",
       "<caption>Test Multiple Comparison ttest_ind \n",
       "FWER=0.05 method=bonf\n",
       "alphacSidak=0.02, alphacBonf=0.017</caption>\n",
       "<tr>\n",
       "  <th>group1</th> <th>group2</th>   <th>stat</th>   <th>pval</th>  <th>pval_corr</th> <th>reject</th>\n",
       "</tr>\n",
       "<tr>\n",
       "   <td>high</td>    <td>low</td>    <td>1.964</td> <td>0.0851</td>  <td>0.2554</td>    <td>False</td>\n",
       "</tr>\n",
       "<tr>\n",
       "   <td>high</td>  <td>placebo</td> <td>3.0551</td> <td>0.0157</td>  <td>0.0471</td>    <td>True</td> \n",
       "</tr>\n",
       "<tr>\n",
       "    <td>low</td>  <td>placebo</td> <td>1.2127</td> <td>0.2598</td>  <td>0.7795</td>    <td>False</td>\n",
       "</tr>\n",
       "</table>"
      ],
      "text/plain": [
       "<class 'statsmodels.iolib.table.SimpleTable'>"
      ]
     },
     "execution_count": 45,
     "metadata": {},
     "output_type": "execute_result"
    }
   ],
   "source": [
    "\n",
    "comp = mc.MultiComparison(df['libido'], df['dose'])\n",
    "tbl, a1, a2 = comp.allpairtest(stats.ttest_ind, method= \"bonf\")\n",
    "\n",
    "tbl"
   ]
  },
  {
   "cell_type": "code",
   "execution_count": null,
   "id": "e9524e33",
   "metadata": {},
   "outputs": [],
   "source": []
  },
  {
   "cell_type": "markdown",
   "id": "9091c83c",
   "metadata": {},
   "source": [
    "https://www.pythonfordatascience.org/anova-python/"
   ]
  },
  {
   "cell_type": "code",
   "execution_count": null,
   "id": "f6c2bdaf",
   "metadata": {},
   "outputs": [],
   "source": []
  },
  {
   "cell_type": "code",
   "execution_count": null,
   "id": "2ad50e6f",
   "metadata": {},
   "outputs": [],
   "source": []
  },
  {
   "cell_type": "code",
   "execution_count": null,
   "id": "6f0ffe99",
   "metadata": {},
   "outputs": [],
   "source": []
  },
  {
   "cell_type": "code",
   "execution_count": null,
   "id": "ca5e147e",
   "metadata": {},
   "outputs": [],
   "source": []
  },
  {
   "cell_type": "code",
   "execution_count": null,
   "id": "1774c99e",
   "metadata": {},
   "outputs": [],
   "source": []
  },
  {
   "cell_type": "code",
   "execution_count": null,
   "id": "beb2a8b2",
   "metadata": {},
   "outputs": [],
   "source": []
  },
  {
   "cell_type": "code",
   "execution_count": null,
   "id": "a6c970db",
   "metadata": {},
   "outputs": [],
   "source": []
  },
  {
   "cell_type": "code",
   "execution_count": null,
   "id": "3ee6b73d",
   "metadata": {},
   "outputs": [],
   "source": []
  },
  {
   "cell_type": "code",
   "execution_count": null,
   "id": "9c8b71b9",
   "metadata": {},
   "outputs": [],
   "source": []
  },
  {
   "cell_type": "code",
   "execution_count": null,
   "id": "d0a4c004",
   "metadata": {},
   "outputs": [],
   "source": []
  },
  {
   "cell_type": "code",
   "execution_count": null,
   "id": "6004f8cd",
   "metadata": {},
   "outputs": [],
   "source": []
  },
  {
   "cell_type": "code",
   "execution_count": null,
   "id": "70eb652a",
   "metadata": {},
   "outputs": [],
   "source": []
  },
  {
   "cell_type": "markdown",
   "id": "26e98766",
   "metadata": {},
   "source": [
    "\n",
    "# One way anova for not equal sample size across different groups and post Hoc analysis : "
   ]
  },
  {
   "cell_type": "code",
   "execution_count": null,
   "id": "88a6aa40",
   "metadata": {},
   "outputs": [],
   "source": []
  },
  {
   "cell_type": "code",
   "execution_count": 46,
   "id": "581ca8ba",
   "metadata": {},
   "outputs": [],
   "source": [
    "drug1 = pd.Series(np.random.normal(4.0,0.2,52))\n",
    "drug2 = pd.Series(np.random.normal(4.0,0.2,45))\n",
    "drug3 = pd.Series(np.random.normal(3.0,0.2,38))\n",
    "drug4 = pd.Series(np.random.normal(4.0,0.2,53))\n",
    "drug5 = pd.Series(np.random.normal(4.0,0.2,40))\n",
    "data = pd.DataFrame([drug1,drug2,drug3,drug4,drug5]).T\n",
    "data.columns = [\"drug1\",\"drug2\",\"drug3\",\"drug4\",\"drug5\"]"
   ]
  },
  {
   "cell_type": "code",
   "execution_count": 47,
   "id": "0a256649",
   "metadata": {},
   "outputs": [
    {
     "data": {
      "text/html": [
       "<div>\n",
       "<style scoped>\n",
       "    .dataframe tbody tr th:only-of-type {\n",
       "        vertical-align: middle;\n",
       "    }\n",
       "\n",
       "    .dataframe tbody tr th {\n",
       "        vertical-align: top;\n",
       "    }\n",
       "\n",
       "    .dataframe thead th {\n",
       "        text-align: right;\n",
       "    }\n",
       "</style>\n",
       "<table border=\"1\" class=\"dataframe\">\n",
       "  <thead>\n",
       "    <tr style=\"text-align: right;\">\n",
       "      <th></th>\n",
       "      <th>drug1</th>\n",
       "      <th>drug2</th>\n",
       "      <th>drug3</th>\n",
       "      <th>drug4</th>\n",
       "      <th>drug5</th>\n",
       "    </tr>\n",
       "  </thead>\n",
       "  <tbody>\n",
       "    <tr>\n",
       "      <th>0</th>\n",
       "      <td>3.764755</td>\n",
       "      <td>4.025635</td>\n",
       "      <td>3.095830</td>\n",
       "      <td>3.911340</td>\n",
       "      <td>3.974582</td>\n",
       "    </tr>\n",
       "    <tr>\n",
       "      <th>1</th>\n",
       "      <td>3.840444</td>\n",
       "      <td>3.969777</td>\n",
       "      <td>2.748366</td>\n",
       "      <td>4.211119</td>\n",
       "      <td>4.236597</td>\n",
       "    </tr>\n",
       "    <tr>\n",
       "      <th>2</th>\n",
       "      <td>3.745722</td>\n",
       "      <td>4.080607</td>\n",
       "      <td>3.233194</td>\n",
       "      <td>4.298885</td>\n",
       "      <td>3.966080</td>\n",
       "    </tr>\n",
       "    <tr>\n",
       "      <th>3</th>\n",
       "      <td>3.916050</td>\n",
       "      <td>4.036066</td>\n",
       "      <td>3.373375</td>\n",
       "      <td>3.719750</td>\n",
       "      <td>3.991745</td>\n",
       "    </tr>\n",
       "    <tr>\n",
       "      <th>4</th>\n",
       "      <td>3.804726</td>\n",
       "      <td>3.621389</td>\n",
       "      <td>3.056826</td>\n",
       "      <td>3.757733</td>\n",
       "      <td>3.884321</td>\n",
       "    </tr>\n",
       "    <tr>\n",
       "      <th>5</th>\n",
       "      <td>3.720713</td>\n",
       "      <td>4.309853</td>\n",
       "      <td>3.211481</td>\n",
       "      <td>3.683453</td>\n",
       "      <td>4.036868</td>\n",
       "    </tr>\n",
       "    <tr>\n",
       "      <th>6</th>\n",
       "      <td>3.998014</td>\n",
       "      <td>3.957164</td>\n",
       "      <td>2.906787</td>\n",
       "      <td>3.994782</td>\n",
       "      <td>3.829746</td>\n",
       "    </tr>\n",
       "    <tr>\n",
       "      <th>7</th>\n",
       "      <td>3.878856</td>\n",
       "      <td>3.860672</td>\n",
       "      <td>2.451703</td>\n",
       "      <td>4.111374</td>\n",
       "      <td>3.990854</td>\n",
       "    </tr>\n",
       "    <tr>\n",
       "      <th>8</th>\n",
       "      <td>4.077380</td>\n",
       "      <td>3.999300</td>\n",
       "      <td>3.119305</td>\n",
       "      <td>4.158393</td>\n",
       "      <td>3.931297</td>\n",
       "    </tr>\n",
       "    <tr>\n",
       "      <th>9</th>\n",
       "      <td>3.719556</td>\n",
       "      <td>3.800585</td>\n",
       "      <td>3.530357</td>\n",
       "      <td>3.868288</td>\n",
       "      <td>3.734504</td>\n",
       "    </tr>\n",
       "    <tr>\n",
       "      <th>10</th>\n",
       "      <td>3.643375</td>\n",
       "      <td>4.536348</td>\n",
       "      <td>2.993798</td>\n",
       "      <td>4.351854</td>\n",
       "      <td>3.929099</td>\n",
       "    </tr>\n",
       "    <tr>\n",
       "      <th>11</th>\n",
       "      <td>3.676748</td>\n",
       "      <td>4.081347</td>\n",
       "      <td>2.862971</td>\n",
       "      <td>4.106758</td>\n",
       "      <td>3.621145</td>\n",
       "    </tr>\n",
       "    <tr>\n",
       "      <th>12</th>\n",
       "      <td>4.173535</td>\n",
       "      <td>4.115569</td>\n",
       "      <td>2.892877</td>\n",
       "      <td>4.319461</td>\n",
       "      <td>4.009870</td>\n",
       "    </tr>\n",
       "    <tr>\n",
       "      <th>13</th>\n",
       "      <td>4.164681</td>\n",
       "      <td>4.196060</td>\n",
       "      <td>3.104167</td>\n",
       "      <td>4.091183</td>\n",
       "      <td>3.772543</td>\n",
       "    </tr>\n",
       "    <tr>\n",
       "      <th>14</th>\n",
       "      <td>3.636512</td>\n",
       "      <td>3.838964</td>\n",
       "      <td>2.434653</td>\n",
       "      <td>3.936931</td>\n",
       "      <td>4.209167</td>\n",
       "    </tr>\n",
       "    <tr>\n",
       "      <th>15</th>\n",
       "      <td>4.049453</td>\n",
       "      <td>3.953411</td>\n",
       "      <td>3.170294</td>\n",
       "      <td>3.910191</td>\n",
       "      <td>4.111941</td>\n",
       "    </tr>\n",
       "    <tr>\n",
       "      <th>16</th>\n",
       "      <td>3.785972</td>\n",
       "      <td>4.354315</td>\n",
       "      <td>2.835520</td>\n",
       "      <td>3.649864</td>\n",
       "      <td>4.146112</td>\n",
       "    </tr>\n",
       "    <tr>\n",
       "      <th>17</th>\n",
       "      <td>3.789231</td>\n",
       "      <td>4.181382</td>\n",
       "      <td>2.833041</td>\n",
       "      <td>3.990717</td>\n",
       "      <td>3.968302</td>\n",
       "    </tr>\n",
       "    <tr>\n",
       "      <th>18</th>\n",
       "      <td>3.899103</td>\n",
       "      <td>3.423049</td>\n",
       "      <td>3.055090</td>\n",
       "      <td>4.032473</td>\n",
       "      <td>3.641582</td>\n",
       "    </tr>\n",
       "    <tr>\n",
       "      <th>19</th>\n",
       "      <td>3.854270</td>\n",
       "      <td>3.634185</td>\n",
       "      <td>2.668984</td>\n",
       "      <td>3.963291</td>\n",
       "      <td>4.134753</td>\n",
       "    </tr>\n",
       "    <tr>\n",
       "      <th>20</th>\n",
       "      <td>3.879670</td>\n",
       "      <td>3.861512</td>\n",
       "      <td>3.007343</td>\n",
       "      <td>3.975133</td>\n",
       "      <td>4.093516</td>\n",
       "    </tr>\n",
       "    <tr>\n",
       "      <th>21</th>\n",
       "      <td>4.072622</td>\n",
       "      <td>3.860427</td>\n",
       "      <td>3.004374</td>\n",
       "      <td>3.898092</td>\n",
       "      <td>3.965435</td>\n",
       "    </tr>\n",
       "    <tr>\n",
       "      <th>22</th>\n",
       "      <td>3.728799</td>\n",
       "      <td>4.221912</td>\n",
       "      <td>3.262057</td>\n",
       "      <td>4.112487</td>\n",
       "      <td>3.816717</td>\n",
       "    </tr>\n",
       "    <tr>\n",
       "      <th>23</th>\n",
       "      <td>3.865515</td>\n",
       "      <td>3.846827</td>\n",
       "      <td>2.904603</td>\n",
       "      <td>3.806556</td>\n",
       "      <td>3.499550</td>\n",
       "    </tr>\n",
       "    <tr>\n",
       "      <th>24</th>\n",
       "      <td>4.023430</td>\n",
       "      <td>3.836706</td>\n",
       "      <td>2.984230</td>\n",
       "      <td>4.090756</td>\n",
       "      <td>4.254226</td>\n",
       "    </tr>\n",
       "    <tr>\n",
       "      <th>25</th>\n",
       "      <td>4.050785</td>\n",
       "      <td>3.805871</td>\n",
       "      <td>3.468154</td>\n",
       "      <td>4.155479</td>\n",
       "      <td>4.121908</td>\n",
       "    </tr>\n",
       "    <tr>\n",
       "      <th>26</th>\n",
       "      <td>4.034149</td>\n",
       "      <td>3.721571</td>\n",
       "      <td>2.879509</td>\n",
       "      <td>3.971957</td>\n",
       "      <td>4.515472</td>\n",
       "    </tr>\n",
       "    <tr>\n",
       "      <th>27</th>\n",
       "      <td>3.945679</td>\n",
       "      <td>3.891187</td>\n",
       "      <td>3.294752</td>\n",
       "      <td>3.607573</td>\n",
       "      <td>4.091709</td>\n",
       "    </tr>\n",
       "    <tr>\n",
       "      <th>28</th>\n",
       "      <td>3.843137</td>\n",
       "      <td>4.323316</td>\n",
       "      <td>2.822802</td>\n",
       "      <td>3.873433</td>\n",
       "      <td>3.964222</td>\n",
       "    </tr>\n",
       "    <tr>\n",
       "      <th>29</th>\n",
       "      <td>3.974785</td>\n",
       "      <td>4.354445</td>\n",
       "      <td>3.150123</td>\n",
       "      <td>3.843556</td>\n",
       "      <td>3.850498</td>\n",
       "    </tr>\n",
       "    <tr>\n",
       "      <th>30</th>\n",
       "      <td>3.956831</td>\n",
       "      <td>4.024758</td>\n",
       "      <td>2.866446</td>\n",
       "      <td>4.061016</td>\n",
       "      <td>3.997268</td>\n",
       "    </tr>\n",
       "    <tr>\n",
       "      <th>31</th>\n",
       "      <td>3.965645</td>\n",
       "      <td>3.797112</td>\n",
       "      <td>2.953049</td>\n",
       "      <td>4.175121</td>\n",
       "      <td>3.554824</td>\n",
       "    </tr>\n",
       "    <tr>\n",
       "      <th>32</th>\n",
       "      <td>3.990686</td>\n",
       "      <td>3.883894</td>\n",
       "      <td>2.845360</td>\n",
       "      <td>4.202219</td>\n",
       "      <td>3.844661</td>\n",
       "    </tr>\n",
       "    <tr>\n",
       "      <th>33</th>\n",
       "      <td>4.083613</td>\n",
       "      <td>3.800829</td>\n",
       "      <td>3.018783</td>\n",
       "      <td>3.949249</td>\n",
       "      <td>4.286405</td>\n",
       "    </tr>\n",
       "    <tr>\n",
       "      <th>34</th>\n",
       "      <td>4.143809</td>\n",
       "      <td>4.146388</td>\n",
       "      <td>2.917106</td>\n",
       "      <td>4.047088</td>\n",
       "      <td>3.938825</td>\n",
       "    </tr>\n",
       "    <tr>\n",
       "      <th>35</th>\n",
       "      <td>4.285757</td>\n",
       "      <td>4.179206</td>\n",
       "      <td>3.118451</td>\n",
       "      <td>3.606439</td>\n",
       "      <td>4.461538</td>\n",
       "    </tr>\n",
       "    <tr>\n",
       "      <th>36</th>\n",
       "      <td>4.020027</td>\n",
       "      <td>4.115059</td>\n",
       "      <td>3.016304</td>\n",
       "      <td>4.022006</td>\n",
       "      <td>4.065747</td>\n",
       "    </tr>\n",
       "    <tr>\n",
       "      <th>37</th>\n",
       "      <td>4.172698</td>\n",
       "      <td>4.214938</td>\n",
       "      <td>3.122524</td>\n",
       "      <td>3.874536</td>\n",
       "      <td>3.763537</td>\n",
       "    </tr>\n",
       "    <tr>\n",
       "      <th>38</th>\n",
       "      <td>4.010807</td>\n",
       "      <td>3.524695</td>\n",
       "      <td>NaN</td>\n",
       "      <td>3.936923</td>\n",
       "      <td>4.258112</td>\n",
       "    </tr>\n",
       "    <tr>\n",
       "      <th>39</th>\n",
       "      <td>4.011506</td>\n",
       "      <td>4.092256</td>\n",
       "      <td>NaN</td>\n",
       "      <td>4.047106</td>\n",
       "      <td>3.754918</td>\n",
       "    </tr>\n",
       "    <tr>\n",
       "      <th>40</th>\n",
       "      <td>3.899154</td>\n",
       "      <td>3.709658</td>\n",
       "      <td>NaN</td>\n",
       "      <td>4.256149</td>\n",
       "      <td>NaN</td>\n",
       "    </tr>\n",
       "    <tr>\n",
       "      <th>41</th>\n",
       "      <td>4.186152</td>\n",
       "      <td>3.906460</td>\n",
       "      <td>NaN</td>\n",
       "      <td>4.035269</td>\n",
       "      <td>NaN</td>\n",
       "    </tr>\n",
       "    <tr>\n",
       "      <th>42</th>\n",
       "      <td>4.236288</td>\n",
       "      <td>4.095081</td>\n",
       "      <td>NaN</td>\n",
       "      <td>3.685961</td>\n",
       "      <td>NaN</td>\n",
       "    </tr>\n",
       "    <tr>\n",
       "      <th>43</th>\n",
       "      <td>4.184363</td>\n",
       "      <td>3.971617</td>\n",
       "      <td>NaN</td>\n",
       "      <td>4.217493</td>\n",
       "      <td>NaN</td>\n",
       "    </tr>\n",
       "    <tr>\n",
       "      <th>44</th>\n",
       "      <td>4.108431</td>\n",
       "      <td>3.828467</td>\n",
       "      <td>NaN</td>\n",
       "      <td>3.976292</td>\n",
       "      <td>NaN</td>\n",
       "    </tr>\n",
       "    <tr>\n",
       "      <th>45</th>\n",
       "      <td>4.399487</td>\n",
       "      <td>NaN</td>\n",
       "      <td>NaN</td>\n",
       "      <td>4.112256</td>\n",
       "      <td>NaN</td>\n",
       "    </tr>\n",
       "    <tr>\n",
       "      <th>46</th>\n",
       "      <td>3.886083</td>\n",
       "      <td>NaN</td>\n",
       "      <td>NaN</td>\n",
       "      <td>4.117316</td>\n",
       "      <td>NaN</td>\n",
       "    </tr>\n",
       "    <tr>\n",
       "      <th>47</th>\n",
       "      <td>3.534260</td>\n",
       "      <td>NaN</td>\n",
       "      <td>NaN</td>\n",
       "      <td>4.178580</td>\n",
       "      <td>NaN</td>\n",
       "    </tr>\n",
       "    <tr>\n",
       "      <th>48</th>\n",
       "      <td>4.286656</td>\n",
       "      <td>NaN</td>\n",
       "      <td>NaN</td>\n",
       "      <td>4.429376</td>\n",
       "      <td>NaN</td>\n",
       "    </tr>\n",
       "    <tr>\n",
       "      <th>49</th>\n",
       "      <td>4.011833</td>\n",
       "      <td>NaN</td>\n",
       "      <td>NaN</td>\n",
       "      <td>4.431810</td>\n",
       "      <td>NaN</td>\n",
       "    </tr>\n",
       "    <tr>\n",
       "      <th>50</th>\n",
       "      <td>3.744583</td>\n",
       "      <td>NaN</td>\n",
       "      <td>NaN</td>\n",
       "      <td>4.111228</td>\n",
       "      <td>NaN</td>\n",
       "    </tr>\n",
       "    <tr>\n",
       "      <th>51</th>\n",
       "      <td>3.606908</td>\n",
       "      <td>NaN</td>\n",
       "      <td>NaN</td>\n",
       "      <td>3.823645</td>\n",
       "      <td>NaN</td>\n",
       "    </tr>\n",
       "    <tr>\n",
       "      <th>52</th>\n",
       "      <td>NaN</td>\n",
       "      <td>NaN</td>\n",
       "      <td>NaN</td>\n",
       "      <td>4.048533</td>\n",
       "      <td>NaN</td>\n",
       "    </tr>\n",
       "  </tbody>\n",
       "</table>\n",
       "</div>"
      ],
      "text/plain": [
       "       drug1     drug2     drug3     drug4     drug5\n",
       "0   3.764755  4.025635  3.095830  3.911340  3.974582\n",
       "1   3.840444  3.969777  2.748366  4.211119  4.236597\n",
       "2   3.745722  4.080607  3.233194  4.298885  3.966080\n",
       "3   3.916050  4.036066  3.373375  3.719750  3.991745\n",
       "4   3.804726  3.621389  3.056826  3.757733  3.884321\n",
       "5   3.720713  4.309853  3.211481  3.683453  4.036868\n",
       "6   3.998014  3.957164  2.906787  3.994782  3.829746\n",
       "7   3.878856  3.860672  2.451703  4.111374  3.990854\n",
       "8   4.077380  3.999300  3.119305  4.158393  3.931297\n",
       "9   3.719556  3.800585  3.530357  3.868288  3.734504\n",
       "10  3.643375  4.536348  2.993798  4.351854  3.929099\n",
       "11  3.676748  4.081347  2.862971  4.106758  3.621145\n",
       "12  4.173535  4.115569  2.892877  4.319461  4.009870\n",
       "13  4.164681  4.196060  3.104167  4.091183  3.772543\n",
       "14  3.636512  3.838964  2.434653  3.936931  4.209167\n",
       "15  4.049453  3.953411  3.170294  3.910191  4.111941\n",
       "16  3.785972  4.354315  2.835520  3.649864  4.146112\n",
       "17  3.789231  4.181382  2.833041  3.990717  3.968302\n",
       "18  3.899103  3.423049  3.055090  4.032473  3.641582\n",
       "19  3.854270  3.634185  2.668984  3.963291  4.134753\n",
       "20  3.879670  3.861512  3.007343  3.975133  4.093516\n",
       "21  4.072622  3.860427  3.004374  3.898092  3.965435\n",
       "22  3.728799  4.221912  3.262057  4.112487  3.816717\n",
       "23  3.865515  3.846827  2.904603  3.806556  3.499550\n",
       "24  4.023430  3.836706  2.984230  4.090756  4.254226\n",
       "25  4.050785  3.805871  3.468154  4.155479  4.121908\n",
       "26  4.034149  3.721571  2.879509  3.971957  4.515472\n",
       "27  3.945679  3.891187  3.294752  3.607573  4.091709\n",
       "28  3.843137  4.323316  2.822802  3.873433  3.964222\n",
       "29  3.974785  4.354445  3.150123  3.843556  3.850498\n",
       "30  3.956831  4.024758  2.866446  4.061016  3.997268\n",
       "31  3.965645  3.797112  2.953049  4.175121  3.554824\n",
       "32  3.990686  3.883894  2.845360  4.202219  3.844661\n",
       "33  4.083613  3.800829  3.018783  3.949249  4.286405\n",
       "34  4.143809  4.146388  2.917106  4.047088  3.938825\n",
       "35  4.285757  4.179206  3.118451  3.606439  4.461538\n",
       "36  4.020027  4.115059  3.016304  4.022006  4.065747\n",
       "37  4.172698  4.214938  3.122524  3.874536  3.763537\n",
       "38  4.010807  3.524695       NaN  3.936923  4.258112\n",
       "39  4.011506  4.092256       NaN  4.047106  3.754918\n",
       "40  3.899154  3.709658       NaN  4.256149       NaN\n",
       "41  4.186152  3.906460       NaN  4.035269       NaN\n",
       "42  4.236288  4.095081       NaN  3.685961       NaN\n",
       "43  4.184363  3.971617       NaN  4.217493       NaN\n",
       "44  4.108431  3.828467       NaN  3.976292       NaN\n",
       "45  4.399487       NaN       NaN  4.112256       NaN\n",
       "46  3.886083       NaN       NaN  4.117316       NaN\n",
       "47  3.534260       NaN       NaN  4.178580       NaN\n",
       "48  4.286656       NaN       NaN  4.429376       NaN\n",
       "49  4.011833       NaN       NaN  4.431810       NaN\n",
       "50  3.744583       NaN       NaN  4.111228       NaN\n",
       "51  3.606908       NaN       NaN  3.823645       NaN\n",
       "52       NaN       NaN       NaN  4.048533       NaN"
      ]
     },
     "execution_count": 47,
     "metadata": {},
     "output_type": "execute_result"
    }
   ],
   "source": [
    "data"
   ]
  },
  {
   "cell_type": "code",
   "execution_count": 48,
   "id": "895ff314",
   "metadata": {},
   "outputs": [],
   "source": [
    "data = data.melt(value_name=\"RecoveryTime\",var_name=\"Drug\")"
   ]
  },
  {
   "cell_type": "code",
   "execution_count": 49,
   "id": "bb20773b",
   "metadata": {},
   "outputs": [],
   "source": [
    "data = data.dropna()"
   ]
  },
  {
   "cell_type": "code",
   "execution_count": 50,
   "id": "0a8cd2c1",
   "metadata": {},
   "outputs": [
    {
     "data": {
      "text/html": [
       "<div>\n",
       "<style scoped>\n",
       "    .dataframe tbody tr th:only-of-type {\n",
       "        vertical-align: middle;\n",
       "    }\n",
       "\n",
       "    .dataframe tbody tr th {\n",
       "        vertical-align: top;\n",
       "    }\n",
       "\n",
       "    .dataframe thead th {\n",
       "        text-align: right;\n",
       "    }\n",
       "</style>\n",
       "<table border=\"1\" class=\"dataframe\">\n",
       "  <thead>\n",
       "    <tr style=\"text-align: right;\">\n",
       "      <th></th>\n",
       "      <th>Drug</th>\n",
       "      <th>RecoveryTime</th>\n",
       "    </tr>\n",
       "  </thead>\n",
       "  <tbody>\n",
       "    <tr>\n",
       "      <th>0</th>\n",
       "      <td>drug1</td>\n",
       "      <td>3.764755</td>\n",
       "    </tr>\n",
       "    <tr>\n",
       "      <th>1</th>\n",
       "      <td>drug1</td>\n",
       "      <td>3.840444</td>\n",
       "    </tr>\n",
       "    <tr>\n",
       "      <th>2</th>\n",
       "      <td>drug1</td>\n",
       "      <td>3.745722</td>\n",
       "    </tr>\n",
       "    <tr>\n",
       "      <th>3</th>\n",
       "      <td>drug1</td>\n",
       "      <td>3.916050</td>\n",
       "    </tr>\n",
       "    <tr>\n",
       "      <th>4</th>\n",
       "      <td>drug1</td>\n",
       "      <td>3.804726</td>\n",
       "    </tr>\n",
       "    <tr>\n",
       "      <th>...</th>\n",
       "      <td>...</td>\n",
       "      <td>...</td>\n",
       "    </tr>\n",
       "    <tr>\n",
       "      <th>247</th>\n",
       "      <td>drug5</td>\n",
       "      <td>4.461538</td>\n",
       "    </tr>\n",
       "    <tr>\n",
       "      <th>248</th>\n",
       "      <td>drug5</td>\n",
       "      <td>4.065747</td>\n",
       "    </tr>\n",
       "    <tr>\n",
       "      <th>249</th>\n",
       "      <td>drug5</td>\n",
       "      <td>3.763537</td>\n",
       "    </tr>\n",
       "    <tr>\n",
       "      <th>250</th>\n",
       "      <td>drug5</td>\n",
       "      <td>4.258112</td>\n",
       "    </tr>\n",
       "    <tr>\n",
       "      <th>251</th>\n",
       "      <td>drug5</td>\n",
       "      <td>3.754918</td>\n",
       "    </tr>\n",
       "  </tbody>\n",
       "</table>\n",
       "<p>228 rows × 2 columns</p>\n",
       "</div>"
      ],
      "text/plain": [
       "      Drug  RecoveryTime\n",
       "0    drug1      3.764755\n",
       "1    drug1      3.840444\n",
       "2    drug1      3.745722\n",
       "3    drug1      3.916050\n",
       "4    drug1      3.804726\n",
       "..     ...           ...\n",
       "247  drug5      4.461538\n",
       "248  drug5      4.065747\n",
       "249  drug5      3.763537\n",
       "250  drug5      4.258112\n",
       "251  drug5      3.754918\n",
       "\n",
       "[228 rows x 2 columns]"
      ]
     },
     "execution_count": 50,
     "metadata": {},
     "output_type": "execute_result"
    }
   ],
   "source": [
    "data"
   ]
  },
  {
   "cell_type": "code",
   "execution_count": 51,
   "id": "54deec22",
   "metadata": {},
   "outputs": [
    {
     "data": {
      "text/html": [
       "<div>\n",
       "<style scoped>\n",
       "    .dataframe tbody tr th:only-of-type {\n",
       "        vertical-align: middle;\n",
       "    }\n",
       "\n",
       "    .dataframe tbody tr th {\n",
       "        vertical-align: top;\n",
       "    }\n",
       "\n",
       "    .dataframe thead th {\n",
       "        text-align: right;\n",
       "    }\n",
       "</style>\n",
       "<table border=\"1\" class=\"dataframe\">\n",
       "  <thead>\n",
       "    <tr style=\"text-align: right;\">\n",
       "      <th></th>\n",
       "      <th>sum_sq</th>\n",
       "      <th>df</th>\n",
       "      <th>F</th>\n",
       "      <th>PR(&gt;F)</th>\n",
       "    </tr>\n",
       "  </thead>\n",
       "  <tbody>\n",
       "    <tr>\n",
       "      <th>C(Drug)</th>\n",
       "      <td>30.192801</td>\n",
       "      <td>4.0</td>\n",
       "      <td>163.938021</td>\n",
       "      <td>3.313057e-65</td>\n",
       "    </tr>\n",
       "    <tr>\n",
       "      <th>Residual</th>\n",
       "      <td>10.267592</td>\n",
       "      <td>223.0</td>\n",
       "      <td>NaN</td>\n",
       "      <td>NaN</td>\n",
       "    </tr>\n",
       "  </tbody>\n",
       "</table>\n",
       "</div>"
      ],
      "text/plain": [
       "             sum_sq     df           F        PR(>F)\n",
       "C(Drug)   30.192801    4.0  163.938021  3.313057e-65\n",
       "Residual  10.267592  223.0         NaN           NaN"
      ]
     },
     "execution_count": 51,
     "metadata": {},
     "output_type": "execute_result"
    }
   ],
   "source": [
    "model = ols('RecoveryTime ~ C(Drug)', data=data).fit()\n",
    "aov_table = sm.stats.anova_lm(model, typ=2)\n",
    "aov_table"
   ]
  },
  {
   "cell_type": "code",
   "execution_count": 52,
   "id": "6d9c7287",
   "metadata": {},
   "outputs": [
    {
     "data": {
      "application/javascript": [
       "\n",
       "        if (window._pyforest_update_imports_cell) { window._pyforest_update_imports_cell('from scipy import stats'); }\n",
       "    "
      ],
      "text/plain": [
       "<IPython.core.display.Javascript object>"
      ]
     },
     "metadata": {},
     "output_type": "display_data"
    },
    {
     "data": {
      "text/html": [
       "<table class=\"simpletable\">\n",
       "<caption>Test Multiple Comparison ttest_ind \n",
       "FWER=0.05 method=bonf\n",
       "alphacSidak=0.01, alphacBonf=0.005</caption>\n",
       "<tr>\n",
       "  <th>group1</th> <th>group2</th>   <th>stat</th>    <th>pval</th>  <th>pval_corr</th> <th>reject</th>\n",
       "</tr>\n",
       "<tr>\n",
       "   <td>drug1</td>  <td>drug2</td>  <td>-0.6918</td> <td>0.4908</td>    <td>1.0</td>     <td>False</td>\n",
       "</tr>\n",
       "<tr>\n",
       "   <td>drug1</td>  <td>drug3</td>  <td>20.9581</td>   <td>0.0</td>     <td>0.0</td>     <td>True</td> \n",
       "</tr>\n",
       "<tr>\n",
       "   <td>drug1</td>  <td>drug4</td>  <td>-1.7393</td>  <td>0.085</td>  <td>0.8498</td>    <td>False</td>\n",
       "</tr>\n",
       "<tr>\n",
       "   <td>drug1</td>  <td>drug5</td>  <td>-0.7517</td> <td>0.4542</td>    <td>1.0</td>     <td>False</td>\n",
       "</tr>\n",
       "<tr>\n",
       "   <td>drug2</td>  <td>drug3</td>  <td>19.0045</td>   <td>0.0</td>     <td>0.0</td>     <td>True</td> \n",
       "</tr>\n",
       "<tr>\n",
       "   <td>drug2</td>  <td>drug4</td>  <td>-0.843</td>  <td>0.4013</td>    <td>1.0</td>     <td>False</td>\n",
       "</tr>\n",
       "<tr>\n",
       "   <td>drug2</td>  <td>drug5</td>  <td>-0.0595</td> <td>0.9527</td>    <td>1.0</td>     <td>False</td>\n",
       "</tr>\n",
       "<tr>\n",
       "   <td>drug3</td>  <td>drug4</td> <td>-22.2435</td>   <td>0.0</td>     <td>0.0</td>     <td>True</td> \n",
       "</tr>\n",
       "<tr>\n",
       "   <td>drug3</td>  <td>drug5</td> <td>-18.8176</td>   <td>0.0</td>     <td>0.0</td>     <td>True</td> \n",
       "</tr>\n",
       "<tr>\n",
       "   <td>drug4</td>  <td>drug5</td>  <td>0.7649</td>  <td>0.4463</td>    <td>1.0</td>     <td>False</td>\n",
       "</tr>\n",
       "</table>"
      ],
      "text/plain": [
       "<class 'statsmodels.iolib.table.SimpleTable'>"
      ]
     },
     "execution_count": 52,
     "metadata": {},
     "output_type": "execute_result"
    }
   ],
   "source": [
    "\n",
    "comp = mc.MultiComparison(data['RecoveryTime'], data[\"Drug\"])\n",
    "tbl, a1, a2 = comp.allpairtest(stats.ttest_ind, method= \"bonf\")\n",
    "\n",
    "tbl"
   ]
  },
  {
   "cell_type": "code",
   "execution_count": 53,
   "id": "c4b4391c",
   "metadata": {},
   "outputs": [
    {
     "data": {
      "text/html": [
       "<table class=\"simpletable\">\n",
       "<caption>Multiple Comparison of Means - Tukey HSD, FWER=0.05</caption>\n",
       "<tr>\n",
       "  <th>group1</th> <th>group2</th> <th>meandiff</th>  <th>p-adj</th>  <th>lower</th>   <th>upper</th>  <th>reject</th>\n",
       "</tr>\n",
       "<tr>\n",
       "   <td>drug1</td>  <td>drug2</td>  <td>0.0298</td>    <td>0.9</td>  <td>-0.0904</td>  <td>0.15</td>    <td>False</td>\n",
       "</tr>\n",
       "<tr>\n",
       "   <td>drug1</td>  <td>drug3</td>  <td>-0.9421</td>  <td>0.001</td> <td>-1.0681</td> <td>-0.8162</td>  <td>True</td> \n",
       "</tr>\n",
       "<tr>\n",
       "   <td>drug1</td>  <td>drug4</td>  <td>0.0664</td>  <td>0.5074</td> <td>-0.0488</td> <td>0.1816</td>   <td>False</td>\n",
       "</tr>\n",
       "<tr>\n",
       "   <td>drug1</td>  <td>drug5</td>  <td>0.0328</td>    <td>0.9</td>  <td>-0.0914</td> <td>0.1569</td>   <td>False</td>\n",
       "</tr>\n",
       "<tr>\n",
       "   <td>drug2</td>  <td>drug3</td>  <td>-0.9719</td>  <td>0.001</td> <td>-1.1019</td> <td>-0.8419</td>  <td>True</td> \n",
       "</tr>\n",
       "<tr>\n",
       "   <td>drug2</td>  <td>drug4</td>  <td>0.0366</td>    <td>0.9</td>  <td>-0.0831</td> <td>0.1562</td>   <td>False</td>\n",
       "</tr>\n",
       "<tr>\n",
       "   <td>drug2</td>  <td>drug5</td>   <td>0.003</td>    <td>0.9</td>  <td>-0.1253</td> <td>0.1312</td>   <td>False</td>\n",
       "</tr>\n",
       "<tr>\n",
       "   <td>drug3</td>  <td>drug4</td>  <td>1.0085</td>   <td>0.001</td>  <td>0.883</td>  <td>1.1339</td>   <td>True</td> \n",
       "</tr>\n",
       "<tr>\n",
       "   <td>drug3</td>  <td>drug5</td>  <td>0.9749</td>   <td>0.001</td> <td>0.8412</td>  <td>1.1085</td>   <td>True</td> \n",
       "</tr>\n",
       "<tr>\n",
       "   <td>drug4</td>  <td>drug5</td>  <td>-0.0336</td>   <td>0.9</td>  <td>-0.1572</td>  <td>0.09</td>    <td>False</td>\n",
       "</tr>\n",
       "</table>"
      ],
      "text/plain": [
       "<class 'statsmodels.iolib.table.SimpleTable'>"
      ]
     },
     "execution_count": 53,
     "metadata": {},
     "output_type": "execute_result"
    }
   ],
   "source": [
    "import statsmodels.stats.multicomp as mc\n",
    "\n",
    "comp = mc.MultiComparison(data['RecoveryTime'], data[\"Drug\"])\n",
    "post_hoc_res = comp.tukeyhsd()\n",
    "post_hoc_res.summary()"
   ]
  },
  {
   "cell_type": "code",
   "execution_count": 54,
   "id": "e302d50c",
   "metadata": {},
   "outputs": [
    {
     "data": {
      "image/png": "[encoded data removed]",
      "text/plain": [
       "<Figure size 720x432 with 1 Axes>"
      ]
     },
     "metadata": {
      "needs_background": "light"
     },
     "output_type": "display_data"
    }
   ],
   "source": [
    "post_hoc_res.plot_simultaneous(ylabel= \"Drug\", xlabel= \"Score Difference\")\n",
    "plt.show()"
   ]
  },
  {
   "cell_type": "code",
   "execution_count": null,
   "id": "fabd35c6",
   "metadata": {},
   "outputs": [],
   "source": []
  },
  {
   "cell_type": "code",
   "execution_count": null,
   "id": "a2a83366",
   "metadata": {},
   "outputs": [],
   "source": []
  },
  {
   "cell_type": "code",
   "execution_count": null,
   "id": "6c2450bc",
   "metadata": {},
   "outputs": [],
   "source": []
  },
  {
   "cell_type": "code",
   "execution_count": null,
   "id": "7f0b02f7",
   "metadata": {},
   "outputs": [],
   "source": []
  },
  {
   "cell_type": "code",
   "execution_count": null,
   "id": "05f60cc9",
   "metadata": {},
   "outputs": [],
   "source": []
  },
  {
   "cell_type": "code",
   "execution_count": null,
   "id": "d95c3bf2",
   "metadata": {},
   "outputs": [],
   "source": []
  },
  {
   "cell_type": "markdown",
   "id": "ceb49085",
   "metadata": {},
   "source": [
    "# QQplot Implementation  : "
   ]
  },
  {
   "cell_type": "code",
   "execution_count": 55,
   "id": "32db175a",
   "metadata": {},
   "outputs": [
    {
     "data": {
      "application/javascript": [
       "\n",
       "        if (window._pyforest_update_imports_cell) { window._pyforest_update_imports_cell('from scipy import stats'); }\n",
       "    "
      ],
      "text/plain": [
       "<IPython.core.display.Javascript object>"
      ]
     },
     "metadata": {},
     "output_type": "display_data"
    }
   ],
   "source": [
    "df = pd.DataFrame(stats.norm.rvs(75,10,50),columns=[\"Weights\"])"
   ]
  },
  {
   "cell_type": "code",
   "execution_count": 56,
   "id": "d79ebc16",
   "metadata": {},
   "outputs": [],
   "source": [
    "df.sort_values(by=\"Weights\",inplace=True)"
   ]
  },
  {
   "cell_type": "code",
   "execution_count": 57,
   "id": "4ab1f477",
   "metadata": {},
   "outputs": [
    {
     "data": {
      "text/html": [
       "<div>\n",
       "<style scoped>\n",
       "    .dataframe tbody tr th:only-of-type {\n",
       "        vertical-align: middle;\n",
       "    }\n",
       "\n",
       "    .dataframe tbody tr th {\n",
       "        vertical-align: top;\n",
       "    }\n",
       "\n",
       "    .dataframe thead th {\n",
       "        text-align: right;\n",
       "    }\n",
       "</style>\n",
       "<table border=\"1\" class=\"dataframe\">\n",
       "  <thead>\n",
       "    <tr style=\"text-align: right;\">\n",
       "      <th></th>\n",
       "      <th>Weights</th>\n",
       "    </tr>\n",
       "  </thead>\n",
       "  <tbody>\n",
       "    <tr>\n",
       "      <th>37</th>\n",
       "      <td>59.241995</td>\n",
       "    </tr>\n",
       "    <tr>\n",
       "      <th>18</th>\n",
       "      <td>59.922607</td>\n",
       "    </tr>\n",
       "    <tr>\n",
       "      <th>44</th>\n",
       "      <td>60.317630</td>\n",
       "    </tr>\n",
       "    <tr>\n",
       "      <th>17</th>\n",
       "      <td>61.220444</td>\n",
       "    </tr>\n",
       "    <tr>\n",
       "      <th>30</th>\n",
       "      <td>61.272364</td>\n",
       "    </tr>\n",
       "    <tr>\n",
       "      <th>36</th>\n",
       "      <td>62.472159</td>\n",
       "    </tr>\n",
       "    <tr>\n",
       "      <th>43</th>\n",
       "      <td>64.054462</td>\n",
       "    </tr>\n",
       "    <tr>\n",
       "      <th>3</th>\n",
       "      <td>64.897276</td>\n",
       "    </tr>\n",
       "    <tr>\n",
       "      <th>14</th>\n",
       "      <td>64.960099</td>\n",
       "    </tr>\n",
       "    <tr>\n",
       "      <th>34</th>\n",
       "      <td>66.082806</td>\n",
       "    </tr>\n",
       "    <tr>\n",
       "      <th>22</th>\n",
       "      <td>67.093995</td>\n",
       "    </tr>\n",
       "    <tr>\n",
       "      <th>24</th>\n",
       "      <td>67.162970</td>\n",
       "    </tr>\n",
       "    <tr>\n",
       "      <th>49</th>\n",
       "      <td>67.552164</td>\n",
       "    </tr>\n",
       "    <tr>\n",
       "      <th>46</th>\n",
       "      <td>67.709763</td>\n",
       "    </tr>\n",
       "    <tr>\n",
       "      <th>25</th>\n",
       "      <td>67.900086</td>\n",
       "    </tr>\n",
       "    <tr>\n",
       "      <th>6</th>\n",
       "      <td>69.096582</td>\n",
       "    </tr>\n",
       "    <tr>\n",
       "      <th>12</th>\n",
       "      <td>70.274869</td>\n",
       "    </tr>\n",
       "    <tr>\n",
       "      <th>15</th>\n",
       "      <td>70.474554</td>\n",
       "    </tr>\n",
       "    <tr>\n",
       "      <th>8</th>\n",
       "      <td>71.020417</td>\n",
       "    </tr>\n",
       "    <tr>\n",
       "      <th>41</th>\n",
       "      <td>71.190105</td>\n",
       "    </tr>\n",
       "    <tr>\n",
       "      <th>19</th>\n",
       "      <td>71.675880</td>\n",
       "    </tr>\n",
       "    <tr>\n",
       "      <th>39</th>\n",
       "      <td>71.986170</td>\n",
       "    </tr>\n",
       "    <tr>\n",
       "      <th>9</th>\n",
       "      <td>73.140168</td>\n",
       "    </tr>\n",
       "    <tr>\n",
       "      <th>21</th>\n",
       "      <td>73.165817</td>\n",
       "    </tr>\n",
       "    <tr>\n",
       "      <th>48</th>\n",
       "      <td>73.343850</td>\n",
       "    </tr>\n",
       "    <tr>\n",
       "      <th>11</th>\n",
       "      <td>73.882829</td>\n",
       "    </tr>\n",
       "    <tr>\n",
       "      <th>7</th>\n",
       "      <td>74.576124</td>\n",
       "    </tr>\n",
       "    <tr>\n",
       "      <th>2</th>\n",
       "      <td>75.666389</td>\n",
       "    </tr>\n",
       "    <tr>\n",
       "      <th>31</th>\n",
       "      <td>76.314274</td>\n",
       "    </tr>\n",
       "    <tr>\n",
       "      <th>29</th>\n",
       "      <td>78.675975</td>\n",
       "    </tr>\n",
       "    <tr>\n",
       "      <th>42</th>\n",
       "      <td>78.922815</td>\n",
       "    </tr>\n",
       "    <tr>\n",
       "      <th>26</th>\n",
       "      <td>79.016181</td>\n",
       "    </tr>\n",
       "    <tr>\n",
       "      <th>32</th>\n",
       "      <td>79.723979</td>\n",
       "    </tr>\n",
       "    <tr>\n",
       "      <th>28</th>\n",
       "      <td>81.073759</td>\n",
       "    </tr>\n",
       "    <tr>\n",
       "      <th>1</th>\n",
       "      <td>81.477996</td>\n",
       "    </tr>\n",
       "    <tr>\n",
       "      <th>35</th>\n",
       "      <td>82.566257</td>\n",
       "    </tr>\n",
       "    <tr>\n",
       "      <th>5</th>\n",
       "      <td>85.307392</td>\n",
       "    </tr>\n",
       "    <tr>\n",
       "      <th>20</th>\n",
       "      <td>85.349826</td>\n",
       "    </tr>\n",
       "    <tr>\n",
       "      <th>13</th>\n",
       "      <td>86.468381</td>\n",
       "    </tr>\n",
       "    <tr>\n",
       "      <th>45</th>\n",
       "      <td>86.888637</td>\n",
       "    </tr>\n",
       "    <tr>\n",
       "      <th>16</th>\n",
       "      <td>87.117803</td>\n",
       "    </tr>\n",
       "    <tr>\n",
       "      <th>10</th>\n",
       "      <td>87.975112</td>\n",
       "    </tr>\n",
       "    <tr>\n",
       "      <th>27</th>\n",
       "      <td>88.848108</td>\n",
       "    </tr>\n",
       "    <tr>\n",
       "      <th>33</th>\n",
       "      <td>90.451729</td>\n",
       "    </tr>\n",
       "    <tr>\n",
       "      <th>4</th>\n",
       "      <td>91.439467</td>\n",
       "    </tr>\n",
       "    <tr>\n",
       "      <th>47</th>\n",
       "      <td>92.727667</td>\n",
       "    </tr>\n",
       "    <tr>\n",
       "      <th>38</th>\n",
       "      <td>94.148789</td>\n",
       "    </tr>\n",
       "    <tr>\n",
       "      <th>23</th>\n",
       "      <td>94.168698</td>\n",
       "    </tr>\n",
       "    <tr>\n",
       "      <th>0</th>\n",
       "      <td>94.696472</td>\n",
       "    </tr>\n",
       "    <tr>\n",
       "      <th>40</th>\n",
       "      <td>97.057544</td>\n",
       "    </tr>\n",
       "  </tbody>\n",
       "</table>\n",
       "</div>"
      ],
      "text/plain": [
       "      Weights\n",
       "37  59.241995\n",
       "18  59.922607\n",
       "44  60.317630\n",
       "17  61.220444\n",
       "30  61.272364\n",
       "36  62.472159\n",
       "43  64.054462\n",
       "3   64.897276\n",
       "14  64.960099\n",
       "34  66.082806\n",
       "22  67.093995\n",
       "24  67.162970\n",
       "49  67.552164\n",
       "46  67.709763\n",
       "25  67.900086\n",
       "6   69.096582\n",
       "12  70.274869\n",
       "15  70.474554\n",
       "8   71.020417\n",
       "41  71.190105\n",
       "19  71.675880\n",
       "39  71.986170\n",
       "9   73.140168\n",
       "21  73.165817\n",
       "48  73.343850\n",
       "11  73.882829\n",
       "7   74.576124\n",
       "2   75.666389\n",
       "31  76.314274\n",
       "29  78.675975\n",
       "42  78.922815\n",
       "26  79.016181\n",
       "32  79.723979\n",
       "28  81.073759\n",
       "1   81.477996\n",
       "35  82.566257\n",
       "5   85.307392\n",
       "20  85.349826\n",
       "13  86.468381\n",
       "45  86.888637\n",
       "16  87.117803\n",
       "10  87.975112\n",
       "27  88.848108\n",
       "33  90.451729\n",
       "4   91.439467\n",
       "47  92.727667\n",
       "38  94.148789\n",
       "23  94.168698\n",
       "0   94.696472\n",
       "40  97.057544"
      ]
     },
     "execution_count": 57,
     "metadata": {},
     "output_type": "execute_result"
    }
   ],
   "source": [
    "df"
   ]
  },
  {
   "cell_type": "code",
   "execution_count": 58,
   "id": "bb121c9a",
   "metadata": {},
   "outputs": [],
   "source": [
    "df[\"Count\"] = np.arange(1,51)"
   ]
  },
  {
   "cell_type": "code",
   "execution_count": 59,
   "id": "8d307ad0",
   "metadata": {},
   "outputs": [
    {
     "data": {
      "text/html": [
       "<div>\n",
       "<style scoped>\n",
       "    .dataframe tbody tr th:only-of-type {\n",
       "        vertical-align: middle;\n",
       "    }\n",
       "\n",
       "    .dataframe tbody tr th {\n",
       "        vertical-align: top;\n",
       "    }\n",
       "\n",
       "    .dataframe thead th {\n",
       "        text-align: right;\n",
       "    }\n",
       "</style>\n",
       "<table border=\"1\" class=\"dataframe\">\n",
       "  <thead>\n",
       "    <tr style=\"text-align: right;\">\n",
       "      <th></th>\n",
       "      <th>Weights</th>\n",
       "      <th>Count</th>\n",
       "    </tr>\n",
       "  </thead>\n",
       "  <tbody>\n",
       "    <tr>\n",
       "      <th>37</th>\n",
       "      <td>59.241995</td>\n",
       "      <td>1</td>\n",
       "    </tr>\n",
       "    <tr>\n",
       "      <th>18</th>\n",
       "      <td>59.922607</td>\n",
       "      <td>2</td>\n",
       "    </tr>\n",
       "    <tr>\n",
       "      <th>44</th>\n",
       "      <td>60.317630</td>\n",
       "      <td>3</td>\n",
       "    </tr>\n",
       "    <tr>\n",
       "      <th>17</th>\n",
       "      <td>61.220444</td>\n",
       "      <td>4</td>\n",
       "    </tr>\n",
       "    <tr>\n",
       "      <th>30</th>\n",
       "      <td>61.272364</td>\n",
       "      <td>5</td>\n",
       "    </tr>\n",
       "  </tbody>\n",
       "</table>\n",
       "</div>"
      ],
      "text/plain": [
       "      Weights  Count\n",
       "37  59.241995      1\n",
       "18  59.922607      2\n",
       "44  60.317630      3\n",
       "17  61.220444      4\n",
       "30  61.272364      5"
      ]
     },
     "execution_count": 59,
     "metadata": {},
     "output_type": "execute_result"
    }
   ],
   "source": [
    "df.head()"
   ]
  },
  {
   "cell_type": "code",
   "execution_count": 60,
   "id": "9f1d24fb",
   "metadata": {},
   "outputs": [],
   "source": [
    "df[\"percentiles\"] = df[\"Count\"]/50"
   ]
  },
  {
   "cell_type": "code",
   "execution_count": 61,
   "id": "23aa9fea",
   "metadata": {},
   "outputs": [
    {
     "data": {
      "text/html": [
       "<div>\n",
       "<style scoped>\n",
       "    .dataframe tbody tr th:only-of-type {\n",
       "        vertical-align: middle;\n",
       "    }\n",
       "\n",
       "    .dataframe tbody tr th {\n",
       "        vertical-align: top;\n",
       "    }\n",
       "\n",
       "    .dataframe thead th {\n",
       "        text-align: right;\n",
       "    }\n",
       "</style>\n",
       "<table border=\"1\" class=\"dataframe\">\n",
       "  <thead>\n",
       "    <tr style=\"text-align: right;\">\n",
       "      <th></th>\n",
       "      <th>Weights</th>\n",
       "      <th>Count</th>\n",
       "      <th>percentiles</th>\n",
       "    </tr>\n",
       "  </thead>\n",
       "  <tbody>\n",
       "    <tr>\n",
       "      <th>37</th>\n",
       "      <td>59.241995</td>\n",
       "      <td>1</td>\n",
       "      <td>0.02</td>\n",
       "    </tr>\n",
       "    <tr>\n",
       "      <th>18</th>\n",
       "      <td>59.922607</td>\n",
       "      <td>2</td>\n",
       "      <td>0.04</td>\n",
       "    </tr>\n",
       "    <tr>\n",
       "      <th>44</th>\n",
       "      <td>60.317630</td>\n",
       "      <td>3</td>\n",
       "      <td>0.06</td>\n",
       "    </tr>\n",
       "    <tr>\n",
       "      <th>17</th>\n",
       "      <td>61.220444</td>\n",
       "      <td>4</td>\n",
       "      <td>0.08</td>\n",
       "    </tr>\n",
       "    <tr>\n",
       "      <th>30</th>\n",
       "      <td>61.272364</td>\n",
       "      <td>5</td>\n",
       "      <td>0.10</td>\n",
       "    </tr>\n",
       "  </tbody>\n",
       "</table>\n",
       "</div>"
      ],
      "text/plain": [
       "      Weights  Count  percentiles\n",
       "37  59.241995      1         0.02\n",
       "18  59.922607      2         0.04\n",
       "44  60.317630      3         0.06\n",
       "17  61.220444      4         0.08\n",
       "30  61.272364      5         0.10"
      ]
     },
     "execution_count": 61,
     "metadata": {},
     "output_type": "execute_result"
    }
   ],
   "source": [
    "df.head()"
   ]
  },
  {
   "cell_type": "code",
   "execution_count": 62,
   "id": "4fba0833",
   "metadata": {},
   "outputs": [],
   "source": [
    "df[\"Z_emperical\"] = (df[\"Weights\"]-df[\"Weights\"].mean())/df[\"Weights\"].std()"
   ]
  },
  {
   "cell_type": "code",
   "execution_count": 63,
   "id": "8e7f25b2",
   "metadata": {},
   "outputs": [
    {
     "data": {
      "text/html": [
       "<div>\n",
       "<style scoped>\n",
       "    .dataframe tbody tr th:only-of-type {\n",
       "        vertical-align: middle;\n",
       "    }\n",
       "\n",
       "    .dataframe tbody tr th {\n",
       "        vertical-align: top;\n",
       "    }\n",
       "\n",
       "    .dataframe thead th {\n",
       "        text-align: right;\n",
       "    }\n",
       "</style>\n",
       "<table border=\"1\" class=\"dataframe\">\n",
       "  <thead>\n",
       "    <tr style=\"text-align: right;\">\n",
       "      <th></th>\n",
       "      <th>Weights</th>\n",
       "      <th>Count</th>\n",
       "      <th>percentiles</th>\n",
       "      <th>Z_emperical</th>\n",
       "    </tr>\n",
       "  </thead>\n",
       "  <tbody>\n",
       "    <tr>\n",
       "      <th>37</th>\n",
       "      <td>59.241995</td>\n",
       "      <td>1</td>\n",
       "      <td>0.02</td>\n",
       "      <td>-1.566991</td>\n",
       "    </tr>\n",
       "    <tr>\n",
       "      <th>18</th>\n",
       "      <td>59.922607</td>\n",
       "      <td>2</td>\n",
       "      <td>0.04</td>\n",
       "      <td>-1.503483</td>\n",
       "    </tr>\n",
       "    <tr>\n",
       "      <th>44</th>\n",
       "      <td>60.317630</td>\n",
       "      <td>3</td>\n",
       "      <td>0.06</td>\n",
       "      <td>-1.466623</td>\n",
       "    </tr>\n",
       "    <tr>\n",
       "      <th>17</th>\n",
       "      <td>61.220444</td>\n",
       "      <td>4</td>\n",
       "      <td>0.08</td>\n",
       "      <td>-1.382382</td>\n",
       "    </tr>\n",
       "    <tr>\n",
       "      <th>30</th>\n",
       "      <td>61.272364</td>\n",
       "      <td>5</td>\n",
       "      <td>0.10</td>\n",
       "      <td>-1.377538</td>\n",
       "    </tr>\n",
       "  </tbody>\n",
       "</table>\n",
       "</div>"
      ],
      "text/plain": [
       "      Weights  Count  percentiles  Z_emperical\n",
       "37  59.241995      1         0.02    -1.566991\n",
       "18  59.922607      2         0.04    -1.503483\n",
       "44  60.317630      3         0.06    -1.466623\n",
       "17  61.220444      4         0.08    -1.382382\n",
       "30  61.272364      5         0.10    -1.377538"
      ]
     },
     "execution_count": 63,
     "metadata": {},
     "output_type": "execute_result"
    }
   ],
   "source": [
    "df.head()"
   ]
  },
  {
   "cell_type": "code",
   "execution_count": 64,
   "id": "1b86d9ba",
   "metadata": {},
   "outputs": [
    {
     "data": {
      "application/javascript": [
       "\n",
       "        if (window._pyforest_update_imports_cell) { window._pyforest_update_imports_cell('from scipy import stats'); }\n",
       "    "
      ],
      "text/plain": [
       "<IPython.core.display.Javascript object>"
      ]
     },
     "metadata": {},
     "output_type": "display_data"
    }
   ],
   "source": [
    "df[\"Z_theoretical\"] = stats.norm.ppf(df[\"percentiles\"])"
   ]
  },
  {
   "cell_type": "code",
   "execution_count": 65,
   "id": "61af11b5",
   "metadata": {},
   "outputs": [
    {
     "data": {
      "text/html": [
       "<div>\n",
       "<style scoped>\n",
       "    .dataframe tbody tr th:only-of-type {\n",
       "        vertical-align: middle;\n",
       "    }\n",
       "\n",
       "    .dataframe tbody tr th {\n",
       "        vertical-align: top;\n",
       "    }\n",
       "\n",
       "    .dataframe thead th {\n",
       "        text-align: right;\n",
       "    }\n",
       "</style>\n",
       "<table border=\"1\" class=\"dataframe\">\n",
       "  <thead>\n",
       "    <tr style=\"text-align: right;\">\n",
       "      <th></th>\n",
       "      <th>Weights</th>\n",
       "      <th>Count</th>\n",
       "      <th>percentiles</th>\n",
       "      <th>Z_emperical</th>\n",
       "      <th>Z_theoretical</th>\n",
       "    </tr>\n",
       "  </thead>\n",
       "  <tbody>\n",
       "    <tr>\n",
       "      <th>37</th>\n",
       "      <td>59.241995</td>\n",
       "      <td>1</td>\n",
       "      <td>0.02</td>\n",
       "      <td>-1.566991</td>\n",
       "      <td>-2.053749</td>\n",
       "    </tr>\n",
       "    <tr>\n",
       "      <th>18</th>\n",
       "      <td>59.922607</td>\n",
       "      <td>2</td>\n",
       "      <td>0.04</td>\n",
       "      <td>-1.503483</td>\n",
       "      <td>-1.750686</td>\n",
       "    </tr>\n",
       "    <tr>\n",
       "      <th>44</th>\n",
       "      <td>60.317630</td>\n",
       "      <td>3</td>\n",
       "      <td>0.06</td>\n",
       "      <td>-1.466623</td>\n",
       "      <td>-1.554774</td>\n",
       "    </tr>\n",
       "    <tr>\n",
       "      <th>17</th>\n",
       "      <td>61.220444</td>\n",
       "      <td>4</td>\n",
       "      <td>0.08</td>\n",
       "      <td>-1.382382</td>\n",
       "      <td>-1.405072</td>\n",
       "    </tr>\n",
       "    <tr>\n",
       "      <th>30</th>\n",
       "      <td>61.272364</td>\n",
       "      <td>5</td>\n",
       "      <td>0.10</td>\n",
       "      <td>-1.377538</td>\n",
       "      <td>-1.281552</td>\n",
       "    </tr>\n",
       "  </tbody>\n",
       "</table>\n",
       "</div>"
      ],
      "text/plain": [
       "      Weights  Count  percentiles  Z_emperical  Z_theoretical\n",
       "37  59.241995      1         0.02    -1.566991      -2.053749\n",
       "18  59.922607      2         0.04    -1.503483      -1.750686\n",
       "44  60.317630      3         0.06    -1.466623      -1.554774\n",
       "17  61.220444      4         0.08    -1.382382      -1.405072\n",
       "30  61.272364      5         0.10    -1.377538      -1.281552"
      ]
     },
     "execution_count": 65,
     "metadata": {},
     "output_type": "execute_result"
    }
   ],
   "source": [
    "df.head()"
   ]
  },
  {
   "cell_type": "code",
   "execution_count": 66,
   "id": "cbe83205",
   "metadata": {},
   "outputs": [
    {
     "data": {
      "text/plain": [
       "[<matplotlib.lines.Line2D at 0x28465f79d00>]"
      ]
     },
     "execution_count": 66,
     "metadata": {},
     "output_type": "execute_result"
    },
    {
     "data": {
      "image/png": "[encoded data removed]",
      "text/plain": [
       "<Figure size 432x288 with 1 Axes>"
      ]
     },
     "metadata": {
      "needs_background": "light"
     },
     "output_type": "display_data"
    }
   ],
   "source": [
    "sns.scatterplot(y=df[\"Z_emperical\"],\n",
    "               x = df[\"Z_theoretical\"])\n",
    "plt.plot([-2,-1,0,1,2],[-2,-1,0,1,2])"
   ]
  },
  {
   "cell_type": "code",
   "execution_count": 67,
   "id": "24f27a36",
   "metadata": {},
   "outputs": [
    {
     "data": {
      "image/png": "[encoded data removed]",
      "text/plain": [
       "<Figure size 432x288 with 1 Axes>"
      ]
     },
     "execution_count": 67,
     "metadata": {},
     "output_type": "execute_result"
    },
    {
     "data": {
      "image/png": "[encoded data removed]",
      "text/plain": [
       "<Figure size 432x288 with 1 Axes>"
      ]
     },
     "metadata": {
      "needs_background": "light"
     },
     "output_type": "display_data"
    }
   ],
   "source": [
    "sm.qqplot(df[\"Weights\"])"
   ]
  },
  {
   "cell_type": "code",
   "execution_count": null,
   "id": "8f2985ca",
   "metadata": {},
   "outputs": [],
   "source": []
  },
  {
   "cell_type": "code",
   "execution_count": null,
   "id": "cf82f77d",
   "metadata": {},
   "outputs": [],
   "source": []
  }
 ],
 "metadata": {
  "kernelspec": {
   "display_name": "Python 3 (ipykernel)",
   "language": "python",
   "name": "python3"
  },
  "language_info": {
   "codemirror_mode": {
    "name": "ipython",
    "version": 3
   },
   "file_extension": ".py",
   "mimetype": "text/x-python",
   "name": "python",
   "nbconvert_exporter": "python",
   "pygments_lexer": "ipython3",
   "version": "3.9.7"
  }
 },
 "nbformat": 4,
 "nbformat_minor": 5
}
