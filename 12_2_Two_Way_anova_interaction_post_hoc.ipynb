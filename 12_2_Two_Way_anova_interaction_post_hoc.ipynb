{
 "cells": [
  {
   "cell_type": "code",
   "execution_count": 1,
   "id": "f3d2d55c",
   "metadata": {},
   "outputs": [],
   "source": [
    "import statsmodels.api as sm\n",
    "from scipy.stats import norm\n",
    "from scipy.stats import t\n",
    "import pandas as pd\n",
    "import numpy as np\n",
    "import seaborn as sns\n",
    "import matplotlib.pyplot as plt\n",
    "%matplotlib inline\n",
    "from matplotlib import figure\n",
    "import warnings\n",
    "warnings.filterwarnings('ignore')\n"
   ]
  },
  {
   "cell_type": "code",
   "execution_count": null,
   "id": "33574046",
   "metadata": {},
   "outputs": [],
   "source": []
  },
  {
   "cell_type": "markdown",
   "id": "128b3f44",
   "metadata": {},
   "source": [
    "## PlantFood Research : \n",
    "\n",
    "- your are a researcher interested in the effectiveness of three different cotton plant food : \n",
    "1. Awesome Advantage  (AA)\n",
    "2. Big Buds (BB)\n",
    "3. Copious Cotton (CC)\n",
    "\n",
    "- Therefor you design an experiment in which you test each plantfood AA,BB,CC with one feeding per day for 75 days after planting. \n",
    "- Eight plants will be tested for each combination. \n",
    "- The variable of interest is the plant height in cm . \n",
    "\n",
    "- The same type of cotton seed will be used for the entire experiment.\n",
    "\n"
   ]
  },
  {
   "cell_type": "code",
   "execution_count": 2,
   "id": "413b3cb4",
   "metadata": {},
   "outputs": [],
   "source": [
    "import statsmodels.api as sm\n",
    "from statsmodels.formula.api import ols\n"
   ]
  },
  {
   "cell_type": "code",
   "execution_count": 3,
   "id": "bbe8fb5d",
   "metadata": {},
   "outputs": [],
   "source": [
    "data = pd.read_csv(\"plantgrowth.csv\")"
   ]
  },
  {
   "cell_type": "code",
   "execution_count": 4,
   "id": "14803896",
   "metadata": {},
   "outputs": [],
   "source": [
    "onefeeding = data.loc[data[\"Feedings\"]==\"ONE FEEDING\"]"
   ]
  },
  {
   "cell_type": "code",
   "execution_count": 5,
   "id": "750b7cbc",
   "metadata": {},
   "outputs": [
    {
     "data": {
      "text/html": [
       "<div>\n",
       "<style scoped>\n",
       "    .dataframe tbody tr th:only-of-type {\n",
       "        vertical-align: middle;\n",
       "    }\n",
       "\n",
       "    .dataframe tbody tr th {\n",
       "        vertical-align: top;\n",
       "    }\n",
       "\n",
       "    .dataframe thead th {\n",
       "        text-align: right;\n",
       "    }\n",
       "</style>\n",
       "<table border=\"1\" class=\"dataframe\">\n",
       "  <thead>\n",
       "    <tr style=\"text-align: right;\">\n",
       "      <th></th>\n",
       "      <th>Feedings</th>\n",
       "      <th>FoodType</th>\n",
       "      <th>PlantGrowth</th>\n",
       "    </tr>\n",
       "  </thead>\n",
       "  <tbody>\n",
       "    <tr>\n",
       "      <th>0</th>\n",
       "      <td>ONE FEEDING</td>\n",
       "      <td>AA</td>\n",
       "      <td>65</td>\n",
       "    </tr>\n",
       "    <tr>\n",
       "      <th>1</th>\n",
       "      <td>ONE FEEDING</td>\n",
       "      <td>AA</td>\n",
       "      <td>70</td>\n",
       "    </tr>\n",
       "    <tr>\n",
       "      <th>2</th>\n",
       "      <td>ONE FEEDING</td>\n",
       "      <td>AA</td>\n",
       "      <td>60</td>\n",
       "    </tr>\n",
       "    <tr>\n",
       "      <th>3</th>\n",
       "      <td>ONE FEEDING</td>\n",
       "      <td>AA</td>\n",
       "      <td>60</td>\n",
       "    </tr>\n",
       "    <tr>\n",
       "      <th>4</th>\n",
       "      <td>ONE FEEDING</td>\n",
       "      <td>AA</td>\n",
       "      <td>60</td>\n",
       "    </tr>\n",
       "    <tr>\n",
       "      <th>5</th>\n",
       "      <td>ONE FEEDING</td>\n",
       "      <td>AA</td>\n",
       "      <td>55</td>\n",
       "    </tr>\n",
       "    <tr>\n",
       "      <th>6</th>\n",
       "      <td>ONE FEEDING</td>\n",
       "      <td>AA</td>\n",
       "      <td>60</td>\n",
       "    </tr>\n",
       "    <tr>\n",
       "      <th>7</th>\n",
       "      <td>ONE FEEDING</td>\n",
       "      <td>AA</td>\n",
       "      <td>50</td>\n",
       "    </tr>\n",
       "    <tr>\n",
       "      <th>8</th>\n",
       "      <td>ONE FEEDING</td>\n",
       "      <td>BB</td>\n",
       "      <td>70</td>\n",
       "    </tr>\n",
       "    <tr>\n",
       "      <th>9</th>\n",
       "      <td>ONE FEEDING</td>\n",
       "      <td>BB</td>\n",
       "      <td>65</td>\n",
       "    </tr>\n",
       "    <tr>\n",
       "      <th>10</th>\n",
       "      <td>ONE FEEDING</td>\n",
       "      <td>BB</td>\n",
       "      <td>60</td>\n",
       "    </tr>\n",
       "    <tr>\n",
       "      <th>11</th>\n",
       "      <td>ONE FEEDING</td>\n",
       "      <td>BB</td>\n",
       "      <td>70</td>\n",
       "    </tr>\n",
       "    <tr>\n",
       "      <th>12</th>\n",
       "      <td>ONE FEEDING</td>\n",
       "      <td>BB</td>\n",
       "      <td>65</td>\n",
       "    </tr>\n",
       "    <tr>\n",
       "      <th>13</th>\n",
       "      <td>ONE FEEDING</td>\n",
       "      <td>BB</td>\n",
       "      <td>60</td>\n",
       "    </tr>\n",
       "    <tr>\n",
       "      <th>14</th>\n",
       "      <td>ONE FEEDING</td>\n",
       "      <td>BB</td>\n",
       "      <td>60</td>\n",
       "    </tr>\n",
       "    <tr>\n",
       "      <th>15</th>\n",
       "      <td>ONE FEEDING</td>\n",
       "      <td>BB</td>\n",
       "      <td>50</td>\n",
       "    </tr>\n",
       "    <tr>\n",
       "      <th>16</th>\n",
       "      <td>ONE FEEDING</td>\n",
       "      <td>CC</td>\n",
       "      <td>55</td>\n",
       "    </tr>\n",
       "    <tr>\n",
       "      <th>17</th>\n",
       "      <td>ONE FEEDING</td>\n",
       "      <td>CC</td>\n",
       "      <td>65</td>\n",
       "    </tr>\n",
       "    <tr>\n",
       "      <th>18</th>\n",
       "      <td>ONE FEEDING</td>\n",
       "      <td>CC</td>\n",
       "      <td>70</td>\n",
       "    </tr>\n",
       "    <tr>\n",
       "      <th>19</th>\n",
       "      <td>ONE FEEDING</td>\n",
       "      <td>CC</td>\n",
       "      <td>55</td>\n",
       "    </tr>\n",
       "    <tr>\n",
       "      <th>20</th>\n",
       "      <td>ONE FEEDING</td>\n",
       "      <td>CC</td>\n",
       "      <td>55</td>\n",
       "    </tr>\n",
       "    <tr>\n",
       "      <th>21</th>\n",
       "      <td>ONE FEEDING</td>\n",
       "      <td>CC</td>\n",
       "      <td>60</td>\n",
       "    </tr>\n",
       "    <tr>\n",
       "      <th>22</th>\n",
       "      <td>ONE FEEDING</td>\n",
       "      <td>CC</td>\n",
       "      <td>50</td>\n",
       "    </tr>\n",
       "    <tr>\n",
       "      <th>23</th>\n",
       "      <td>ONE FEEDING</td>\n",
       "      <td>CC</td>\n",
       "      <td>50</td>\n",
       "    </tr>\n",
       "  </tbody>\n",
       "</table>\n",
       "</div>"
      ],
      "text/plain": [
       "       Feedings FoodType  PlantGrowth\n",
       "0   ONE FEEDING       AA           65\n",
       "1   ONE FEEDING       AA           70\n",
       "2   ONE FEEDING       AA           60\n",
       "3   ONE FEEDING       AA           60\n",
       "4   ONE FEEDING       AA           60\n",
       "5   ONE FEEDING       AA           55\n",
       "6   ONE FEEDING       AA           60\n",
       "7   ONE FEEDING       AA           50\n",
       "8   ONE FEEDING       BB           70\n",
       "9   ONE FEEDING       BB           65\n",
       "10  ONE FEEDING       BB           60\n",
       "11  ONE FEEDING       BB           70\n",
       "12  ONE FEEDING       BB           65\n",
       "13  ONE FEEDING       BB           60\n",
       "14  ONE FEEDING       BB           60\n",
       "15  ONE FEEDING       BB           50\n",
       "16  ONE FEEDING       CC           55\n",
       "17  ONE FEEDING       CC           65\n",
       "18  ONE FEEDING       CC           70\n",
       "19  ONE FEEDING       CC           55\n",
       "20  ONE FEEDING       CC           55\n",
       "21  ONE FEEDING       CC           60\n",
       "22  ONE FEEDING       CC           50\n",
       "23  ONE FEEDING       CC           50"
      ]
     },
     "execution_count": 5,
     "metadata": {},
     "output_type": "execute_result"
    }
   ],
   "source": [
    "onefeeding"
   ]
  },
  {
   "cell_type": "code",
   "execution_count": 6,
   "id": "e523e92a",
   "metadata": {},
   "outputs": [
    {
     "data": {
      "text/html": [
       "<div>\n",
       "<style scoped>\n",
       "    .dataframe tbody tr th:only-of-type {\n",
       "        vertical-align: middle;\n",
       "    }\n",
       "\n",
       "    .dataframe tbody tr th {\n",
       "        vertical-align: top;\n",
       "    }\n",
       "\n",
       "    .dataframe thead th {\n",
       "        text-align: right;\n",
       "    }\n",
       "</style>\n",
       "<table border=\"1\" class=\"dataframe\">\n",
       "  <thead>\n",
       "    <tr style=\"text-align: right;\">\n",
       "      <th>FoodType</th>\n",
       "      <th>AA</th>\n",
       "      <th>BB</th>\n",
       "      <th>CC</th>\n",
       "    </tr>\n",
       "  </thead>\n",
       "  <tbody>\n",
       "    <tr>\n",
       "      <th>PlantGrowth</th>\n",
       "      <td>60.0</td>\n",
       "      <td>62.5</td>\n",
       "      <td>57.5</td>\n",
       "    </tr>\n",
       "  </tbody>\n",
       "</table>\n",
       "</div>"
      ],
      "text/plain": [
       "FoodType       AA    BB    CC\n",
       "PlantGrowth  60.0  62.5  57.5"
      ]
     },
     "execution_count": 6,
     "metadata": {},
     "output_type": "execute_result"
    }
   ],
   "source": [
    "onefeeding.pivot_table(values=\"PlantGrowth\",columns=\"FoodType\")"
   ]
  },
  {
   "cell_type": "code",
   "execution_count": 7,
   "id": "9a1323d3",
   "metadata": {},
   "outputs": [
    {
     "data": {
      "image/png": "[encoded data removed]",
      "text/plain": [
       "<Figure size 432x288 with 1 Axes>"
      ]
     },
     "metadata": {
      "needs_background": "light"
     },
     "output_type": "display_data"
    }
   ],
   "source": [
    "onefeeding.pivot_table(values=\"PlantGrowth\",index=\"FoodType\").plot()\n",
    "plt.yticks(np.arange(40,75,5))\n",
    "plt.show()"
   ]
  },
  {
   "cell_type": "code",
   "execution_count": 8,
   "id": "d2282918",
   "metadata": {},
   "outputs": [
    {
     "data": {
      "application/javascript": [
       "\n",
       "        if (window._pyforest_update_imports_cell) { window._pyforest_update_imports_cell('from scipy import stats'); }\n",
       "    "
      ],
      "text/plain": [
       "<IPython.core.display.Javascript object>"
      ]
     },
     "metadata": {},
     "output_type": "display_data"
    },
    {
     "data": {
      "text/plain": [
       "F_onewayResult(statistic=1.1666666666666667, pvalue=0.33078541251317667)"
      ]
     },
     "execution_count": 8,
     "metadata": {},
     "output_type": "execute_result"
    }
   ],
   "source": [
    "stats.f_oneway(onefeeding[onefeeding[\"FoodType\"]==\"AA\"][\"PlantGrowth\"],\n",
    "              onefeeding[onefeeding[\"FoodType\"]==\"BB\"][\"PlantGrowth\"],\n",
    "              onefeeding[onefeeding[\"FoodType\"]==\"CC\"][\"PlantGrowth\"])"
   ]
  },
  {
   "cell_type": "code",
   "execution_count": 9,
   "id": "91890991",
   "metadata": {},
   "outputs": [
    {
     "data": {
      "text/html": [
       "<div>\n",
       "<style scoped>\n",
       "    .dataframe tbody tr th:only-of-type {\n",
       "        vertical-align: middle;\n",
       "    }\n",
       "\n",
       "    .dataframe tbody tr th {\n",
       "        vertical-align: top;\n",
       "    }\n",
       "\n",
       "    .dataframe thead th {\n",
       "        text-align: right;\n",
       "    }\n",
       "</style>\n",
       "<table border=\"1\" class=\"dataframe\">\n",
       "  <thead>\n",
       "    <tr style=\"text-align: right;\">\n",
       "      <th></th>\n",
       "      <th>sum_sq</th>\n",
       "      <th>df</th>\n",
       "      <th>F</th>\n",
       "      <th>PR(&gt;F)</th>\n",
       "    </tr>\n",
       "  </thead>\n",
       "  <tbody>\n",
       "    <tr>\n",
       "      <th>C(FoodType)</th>\n",
       "      <td>100.0</td>\n",
       "      <td>2.0</td>\n",
       "      <td>1.166667</td>\n",
       "      <td>0.330785</td>\n",
       "    </tr>\n",
       "    <tr>\n",
       "      <th>Residual</th>\n",
       "      <td>900.0</td>\n",
       "      <td>21.0</td>\n",
       "      <td>NaN</td>\n",
       "      <td>NaN</td>\n",
       "    </tr>\n",
       "  </tbody>\n",
       "</table>\n",
       "</div>"
      ],
      "text/plain": [
       "             sum_sq    df         F    PR(>F)\n",
       "C(FoodType)   100.0   2.0  1.166667  0.330785\n",
       "Residual      900.0  21.0       NaN       NaN"
      ]
     },
     "execution_count": 9,
     "metadata": {},
     "output_type": "execute_result"
    }
   ],
   "source": [
    "\n",
    "model = ols('PlantGrowth ~ C(FoodType)' , data=onefeeding).fit()\n",
    "aov_table = sm.stats.anova_lm(model, typ=2)\n",
    "aov_table"
   ]
  },
  {
   "cell_type": "markdown",
   "id": "a9628e13",
   "metadata": {},
   "source": [
    "   **if there a difference in heights amonth three foods ?** \n",
    "\n",
    "\n",
    "   **based on one way anova test , we reject null hypothesis .** \n",
    "   **there's no difference among the plant food means based on one feedings per day .** \n"
   ]
  },
  {
   "cell_type": "code",
   "execution_count": null,
   "id": "22518b40",
   "metadata": {},
   "outputs": [],
   "source": []
  },
  {
   "cell_type": "markdown",
   "id": "3622d468",
   "metadata": {},
   "source": [
    "- ### Is there any difference in plant growth when comparing 1 feeding to 2 feedings per day ? \n",
    "\n",
    "- ### DO some plant foods work better once per day and others better at twice per day . ? "
   ]
  },
  {
   "cell_type": "code",
   "execution_count": 10,
   "id": "9133bd4c",
   "metadata": {},
   "outputs": [
    {
     "data": {
      "text/html": [
       "<div>\n",
       "<style scoped>\n",
       "    .dataframe tbody tr th:only-of-type {\n",
       "        vertical-align: middle;\n",
       "    }\n",
       "\n",
       "    .dataframe tbody tr th {\n",
       "        vertical-align: top;\n",
       "    }\n",
       "\n",
       "    .dataframe thead th {\n",
       "        text-align: right;\n",
       "    }\n",
       "</style>\n",
       "<table border=\"1\" class=\"dataframe\">\n",
       "  <thead>\n",
       "    <tr style=\"text-align: right;\">\n",
       "      <th></th>\n",
       "      <th>Feedings</th>\n",
       "      <th>FoodType</th>\n",
       "      <th>PlantGrowth</th>\n",
       "    </tr>\n",
       "  </thead>\n",
       "  <tbody>\n",
       "    <tr>\n",
       "      <th>21</th>\n",
       "      <td>ONE FEEDING</td>\n",
       "      <td>CC</td>\n",
       "      <td>60</td>\n",
       "    </tr>\n",
       "    <tr>\n",
       "      <th>39</th>\n",
       "      <td>TWO FEEDINGS</td>\n",
       "      <td>BB</td>\n",
       "      <td>60</td>\n",
       "    </tr>\n",
       "    <tr>\n",
       "      <th>33</th>\n",
       "      <td>TWO FEEDINGS</td>\n",
       "      <td>BB</td>\n",
       "      <td>60</td>\n",
       "    </tr>\n",
       "    <tr>\n",
       "      <th>28</th>\n",
       "      <td>TWO FEEDINGS</td>\n",
       "      <td>AA</td>\n",
       "      <td>70</td>\n",
       "    </tr>\n",
       "    <tr>\n",
       "      <th>41</th>\n",
       "      <td>TWO FEEDINGS</td>\n",
       "      <td>CC</td>\n",
       "      <td>40</td>\n",
       "    </tr>\n",
       "  </tbody>\n",
       "</table>\n",
       "</div>"
      ],
      "text/plain": [
       "        Feedings FoodType  PlantGrowth\n",
       "21   ONE FEEDING       CC           60\n",
       "39  TWO FEEDINGS       BB           60\n",
       "33  TWO FEEDINGS       BB           60\n",
       "28  TWO FEEDINGS       AA           70\n",
       "41  TWO FEEDINGS       CC           40"
      ]
     },
     "execution_count": 10,
     "metadata": {},
     "output_type": "execute_result"
    }
   ],
   "source": [
    "data.sample(5)"
   ]
  },
  {
   "cell_type": "code",
   "execution_count": 11,
   "id": "0f494986",
   "metadata": {},
   "outputs": [
    {
     "data": {
      "text/html": [
       "<div>\n",
       "<style scoped>\n",
       "    .dataframe tbody tr th:only-of-type {\n",
       "        vertical-align: middle;\n",
       "    }\n",
       "\n",
       "    .dataframe tbody tr th {\n",
       "        vertical-align: top;\n",
       "    }\n",
       "\n",
       "    .dataframe thead th {\n",
       "        text-align: right;\n",
       "    }\n",
       "</style>\n",
       "<table border=\"1\" class=\"dataframe\">\n",
       "  <thead>\n",
       "    <tr style=\"text-align: right;\">\n",
       "      <th>FoodType</th>\n",
       "      <th>AA</th>\n",
       "      <th>BB</th>\n",
       "      <th>CC</th>\n",
       "      <th>All</th>\n",
       "    </tr>\n",
       "    <tr>\n",
       "      <th>Feedings</th>\n",
       "      <th></th>\n",
       "      <th></th>\n",
       "      <th></th>\n",
       "      <th></th>\n",
       "    </tr>\n",
       "  </thead>\n",
       "  <tbody>\n",
       "    <tr>\n",
       "      <th>ONE FEEDING</th>\n",
       "      <td>60.0000</td>\n",
       "      <td>62.5000</td>\n",
       "      <td>57.5000</td>\n",
       "      <td>60.0000</td>\n",
       "    </tr>\n",
       "    <tr>\n",
       "      <th>TWO FEEDINGS</th>\n",
       "      <td>66.8750</td>\n",
       "      <td>66.8750</td>\n",
       "      <td>40.6250</td>\n",
       "      <td>58.1250</td>\n",
       "    </tr>\n",
       "    <tr>\n",
       "      <th>All</th>\n",
       "      <td>63.4375</td>\n",
       "      <td>64.6875</td>\n",
       "      <td>49.0625</td>\n",
       "      <td>59.0625</td>\n",
       "    </tr>\n",
       "  </tbody>\n",
       "</table>\n",
       "</div>"
      ],
      "text/plain": [
       "FoodType           AA       BB       CC      All\n",
       "Feedings                                        \n",
       "ONE FEEDING   60.0000  62.5000  57.5000  60.0000\n",
       "TWO FEEDINGS  66.8750  66.8750  40.6250  58.1250\n",
       "All           63.4375  64.6875  49.0625  59.0625"
      ]
     },
     "execution_count": 11,
     "metadata": {},
     "output_type": "execute_result"
    }
   ],
   "source": [
    "data.pivot_table(values=\"PlantGrowth\",columns=\"FoodType\",index =\"Feedings\",margins=True)"
   ]
  },
  {
   "cell_type": "markdown",
   "id": "64016662",
   "metadata": {},
   "source": [
    "    We make table of means , the values are not individual data points .\n",
    "    they are all means with their own distribution .\n",
    "\n",
    "    in two way anova, \n",
    "    the way the distributions fit together  is the very heart of the technique."
   ]
  },
  {
   "cell_type": "code",
   "execution_count": 12,
   "id": "1e3b9dfd",
   "metadata": {},
   "outputs": [
    {
     "data": {
      "text/plain": [
       "<AxesSubplot:xlabel='FoodType'>"
      ]
     },
     "execution_count": 12,
     "metadata": {},
     "output_type": "execute_result"
    },
    {
     "data": {
      "image/png": "[encoded data removed]",
      "text/plain": [
       "<Figure size 432x288 with 1 Axes>"
      ]
     },
     "metadata": {
      "needs_background": "light"
     },
     "output_type": "display_data"
    }
   ],
   "source": [
    "data.pivot_table(values=\"PlantGrowth\",index=\"FoodType\",columns =\"Feedings\").plot()"
   ]
  },
  {
   "cell_type": "markdown",
   "id": "29341753",
   "metadata": {},
   "source": [
    "### Questions : \n",
    "- For AA, howmany feedings produce more growht ? \n",
    "- For BB, Howmany feedings produce more growth and for CC ?\n",
    "\n",
    "- DO two feedings produce more growth across all plant foods consistantly? \n"
   ]
  },
  {
   "cell_type": "markdown",
   "id": "6337ea3b",
   "metadata": {},
   "source": [
    "No, it appears that two feedings are better for AA and BB , Not for CC/\n",
    "\n",
    "This type of situatation is called an **Interaction.**\n",
    "\n",
    "An interaction occurs when the effect of one factor changes , for different level of other factor.\n",
    "\n",
    "\n",
    "In this case the most effective feeding frequency changes across plant food types.\n",
    "\n",
    "On a marginal chart as a general rule , we look to see if the lines cross or would cross ! "
   ]
  },
  {
   "cell_type": "code",
   "execution_count": null,
   "id": "7c936528",
   "metadata": {},
   "outputs": [],
   "source": []
  },
  {
   "cell_type": "code",
   "execution_count": 13,
   "id": "cefbdfc5",
   "metadata": {},
   "outputs": [
    {
     "data": {
      "text/html": [
       "<div>\n",
       "<style scoped>\n",
       "    .dataframe tbody tr th:only-of-type {\n",
       "        vertical-align: middle;\n",
       "    }\n",
       "\n",
       "    .dataframe tbody tr th {\n",
       "        vertical-align: top;\n",
       "    }\n",
       "\n",
       "    .dataframe thead th {\n",
       "        text-align: right;\n",
       "    }\n",
       "</style>\n",
       "<table border=\"1\" class=\"dataframe\">\n",
       "  <thead>\n",
       "    <tr style=\"text-align: right;\">\n",
       "      <th></th>\n",
       "      <th>sum_sq</th>\n",
       "      <th>df</th>\n",
       "      <th>F</th>\n",
       "      <th>PR(&gt;F)</th>\n",
       "    </tr>\n",
       "  </thead>\n",
       "  <tbody>\n",
       "    <tr>\n",
       "      <th>C(Feedings)</th>\n",
       "      <td>42.1875</td>\n",
       "      <td>1.0</td>\n",
       "      <td>0.577982</td>\n",
       "      <td>0.451351</td>\n",
       "    </tr>\n",
       "    <tr>\n",
       "      <th>C(FoodType)</th>\n",
       "      <td>2412.5000</td>\n",
       "      <td>2.0</td>\n",
       "      <td>16.525994</td>\n",
       "      <td>0.000005</td>\n",
       "    </tr>\n",
       "    <tr>\n",
       "      <th>C(Feedings):C(FoodType)</th>\n",
       "      <td>1362.5000</td>\n",
       "      <td>2.0</td>\n",
       "      <td>9.333333</td>\n",
       "      <td>0.000443</td>\n",
       "    </tr>\n",
       "    <tr>\n",
       "      <th>Residual</th>\n",
       "      <td>3065.6250</td>\n",
       "      <td>42.0</td>\n",
       "      <td>NaN</td>\n",
       "      <td>NaN</td>\n",
       "    </tr>\n",
       "  </tbody>\n",
       "</table>\n",
       "</div>"
      ],
      "text/plain": [
       "                            sum_sq    df          F    PR(>F)\n",
       "C(Feedings)                42.1875   1.0   0.577982  0.451351\n",
       "C(FoodType)              2412.5000   2.0  16.525994  0.000005\n",
       "C(Feedings):C(FoodType)  1362.5000   2.0   9.333333  0.000443\n",
       "Residual                 3065.6250  42.0        NaN       NaN"
      ]
     },
     "execution_count": 13,
     "metadata": {},
     "output_type": "execute_result"
    }
   ],
   "source": [
    "\n",
    "model = ols('PlantGrowth ~ C(Feedings) + C(FoodType) + C(Feedings):C(FoodType)', data=data).fit()\n",
    "aov_table = sm.stats.anova_lm(model, typ=2)\n",
    "aov_table"
   ]
  },
  {
   "cell_type": "code",
   "execution_count": 14,
   "id": "20ae3730",
   "metadata": {},
   "outputs": [],
   "source": [
    "# From above anova two way test , we have the significant interaction . \n",
    "# That leads us to see the factors individually. "
   ]
  },
  {
   "cell_type": "code",
   "execution_count": null,
   "id": "0caa37f3",
   "metadata": {},
   "outputs": [],
   "source": []
  },
  {
   "cell_type": "markdown",
   "id": "83a55c64",
   "metadata": {},
   "source": [
    "on the marginal means graph : \n",
    "\n",
    "the factor of interest or the factor with the most levels is on the horizontal axis. \n",
    "\n",
    "the dependent variable the vertical axis . (what is being measured. )\n",
    "\n",
    "the second factor makes up the series lines by graphing the dependent variable value for each level/category of the first factor.\n",
    "\n",
    "look for crossing or non parallel line on the graph. \n",
    "\n",
    "**if the interaction is significant  ,then the main factors significance cannot be analysed , the factors are too intertwined.**"
   ]
  },
  {
   "cell_type": "code",
   "execution_count": null,
   "id": "4f71830a",
   "metadata": {},
   "outputs": [],
   "source": []
  },
  {
   "cell_type": "code",
   "execution_count": 15,
   "id": "7ad15e82",
   "metadata": {},
   "outputs": [
    {
     "data": {
      "text/html": [
       "<div>\n",
       "<style scoped>\n",
       "    .dataframe tbody tr th:only-of-type {\n",
       "        vertical-align: middle;\n",
       "    }\n",
       "\n",
       "    .dataframe tbody tr th {\n",
       "        vertical-align: top;\n",
       "    }\n",
       "\n",
       "    .dataframe thead th {\n",
       "        text-align: right;\n",
       "    }\n",
       "</style>\n",
       "<table border=\"1\" class=\"dataframe\">\n",
       "  <thead>\n",
       "    <tr style=\"text-align: right;\">\n",
       "      <th>FoodType</th>\n",
       "      <th>AA</th>\n",
       "      <th>BB</th>\n",
       "      <th>CC</th>\n",
       "      <th>All</th>\n",
       "    </tr>\n",
       "    <tr>\n",
       "      <th>Feedings</th>\n",
       "      <th></th>\n",
       "      <th></th>\n",
       "      <th></th>\n",
       "      <th></th>\n",
       "    </tr>\n",
       "  </thead>\n",
       "  <tbody>\n",
       "    <tr>\n",
       "      <th>ONE FEEDING</th>\n",
       "      <td>60.0000</td>\n",
       "      <td>62.5000</td>\n",
       "      <td>57.5000</td>\n",
       "      <td>60.0000</td>\n",
       "    </tr>\n",
       "    <tr>\n",
       "      <th>TWO FEEDINGS</th>\n",
       "      <td>66.8750</td>\n",
       "      <td>66.8750</td>\n",
       "      <td>40.6250</td>\n",
       "      <td>58.1250</td>\n",
       "    </tr>\n",
       "    <tr>\n",
       "      <th>All</th>\n",
       "      <td>63.4375</td>\n",
       "      <td>64.6875</td>\n",
       "      <td>49.0625</td>\n",
       "      <td>59.0625</td>\n",
       "    </tr>\n",
       "  </tbody>\n",
       "</table>\n",
       "</div>"
      ],
      "text/plain": [
       "FoodType           AA       BB       CC      All\n",
       "Feedings                                        \n",
       "ONE FEEDING   60.0000  62.5000  57.5000  60.0000\n",
       "TWO FEEDINGS  66.8750  66.8750  40.6250  58.1250\n",
       "All           63.4375  64.6875  49.0625  59.0625"
      ]
     },
     "execution_count": 15,
     "metadata": {},
     "output_type": "execute_result"
    }
   ],
   "source": [
    "data.pivot_table(values=\"PlantGrowth\",columns=\"FoodType\",index =\"Feedings\",margins=True)"
   ]
  },
  {
   "cell_type": "code",
   "execution_count": null,
   "id": "5423e0fa",
   "metadata": {},
   "outputs": [],
   "source": []
  },
  {
   "cell_type": "code",
   "execution_count": 16,
   "id": "1418507c",
   "metadata": {},
   "outputs": [
    {
     "data": {
      "image/png": "[encoded data removed]",
      "text/plain": [
       "<Figure size 432x288 with 1 Axes>"
      ]
     },
     "metadata": {
      "needs_background": "light"
     },
     "output_type": "display_data"
    }
   ],
   "source": [
    "data.pivot_table(values=\"PlantGrowth\",index=\"FoodType\",columns =\"Feedings\").plot()\n",
    "\n",
    "plt.axhline(60,linestyle=\"--\")\n",
    "plt.axhline(58.1250,linestyle=\"--\",color=\"orange\")\n",
    "plt.show()\n"
   ]
  },
  {
   "cell_type": "code",
   "execution_count": null,
   "id": "6a22e293",
   "metadata": {},
   "outputs": [],
   "source": []
  },
  {
   "cell_type": "code",
   "execution_count": 17,
   "id": "5e71fdb4",
   "metadata": {},
   "outputs": [
    {
     "data": {
      "text/html": [
       "<div>\n",
       "<style scoped>\n",
       "    .dataframe tbody tr th:only-of-type {\n",
       "        vertical-align: middle;\n",
       "    }\n",
       "\n",
       "    .dataframe tbody tr th {\n",
       "        vertical-align: top;\n",
       "    }\n",
       "\n",
       "    .dataframe thead th {\n",
       "        text-align: right;\n",
       "    }\n",
       "</style>\n",
       "<table border=\"1\" class=\"dataframe\">\n",
       "  <thead>\n",
       "    <tr style=\"text-align: right;\">\n",
       "      <th></th>\n",
       "      <th>sum_sq</th>\n",
       "      <th>df</th>\n",
       "      <th>mean_sq</th>\n",
       "      <th>F</th>\n",
       "      <th>PR(&gt;F)</th>\n",
       "      <th>eta_sq</th>\n",
       "      <th>omega_sq</th>\n",
       "    </tr>\n",
       "  </thead>\n",
       "  <tbody>\n",
       "    <tr>\n",
       "      <th>C(Feedings)</th>\n",
       "      <td>42.1875</td>\n",
       "      <td>1.0</td>\n",
       "      <td>42.187500</td>\n",
       "      <td>0.577982</td>\n",
       "      <td>0.451351</td>\n",
       "      <td>0.006129</td>\n",
       "      <td>-0.004428</td>\n",
       "    </tr>\n",
       "    <tr>\n",
       "      <th>C(FoodType)</th>\n",
       "      <td>2412.5000</td>\n",
       "      <td>2.0</td>\n",
       "      <td>1206.250000</td>\n",
       "      <td>16.525994</td>\n",
       "      <td>0.000005</td>\n",
       "      <td>0.350511</td>\n",
       "      <td>0.325846</td>\n",
       "    </tr>\n",
       "    <tr>\n",
       "      <th>C(Feedings):C(FoodType)</th>\n",
       "      <td>1362.5000</td>\n",
       "      <td>2.0</td>\n",
       "      <td>681.250000</td>\n",
       "      <td>9.333333</td>\n",
       "      <td>0.000443</td>\n",
       "      <td>0.197957</td>\n",
       "      <td>0.174892</td>\n",
       "    </tr>\n",
       "    <tr>\n",
       "      <th>Residual</th>\n",
       "      <td>3065.6250</td>\n",
       "      <td>42.0</td>\n",
       "      <td>72.991071</td>\n",
       "      <td>NaN</td>\n",
       "      <td>NaN</td>\n",
       "      <td>NaN</td>\n",
       "      <td>NaN</td>\n",
       "    </tr>\n",
       "  </tbody>\n",
       "</table>\n",
       "</div>"
      ],
      "text/plain": [
       "                            sum_sq    df      mean_sq          F    PR(>F)  \\\n",
       "C(Feedings)                42.1875   1.0    42.187500   0.577982  0.451351   \n",
       "C(FoodType)              2412.5000   2.0  1206.250000  16.525994  0.000005   \n",
       "C(Feedings):C(FoodType)  1362.5000   2.0   681.250000   9.333333  0.000443   \n",
       "Residual                 3065.6250  42.0    72.991071        NaN       NaN   \n",
       "\n",
       "                           eta_sq  omega_sq  \n",
       "C(Feedings)              0.006129 -0.004428  \n",
       "C(FoodType)              0.350511  0.325846  \n",
       "C(Feedings):C(FoodType)  0.197957  0.174892  \n",
       "Residual                      NaN       NaN  "
      ]
     },
     "execution_count": 17,
     "metadata": {},
     "output_type": "execute_result"
    }
   ],
   "source": [
    "def anova_table(aov):\n",
    "    aov['mean_sq'] = aov[:]['sum_sq']/aov[:]['df']\n",
    "\n",
    "    aov['eta_sq'] = aov[:-1]['sum_sq']/sum(aov['sum_sq'])\n",
    "\n",
    "    aov['omega_sq'] = (aov[:-1]['sum_sq']-(aov[:-1]['df']*aov['mean_sq'][-1]))/(sum(aov['sum_sq'])+aov['mean_sq'][-1])\n",
    "\n",
    "    cols = ['sum_sq', 'df', 'mean_sq', 'F', 'PR(>F)', 'eta_sq', 'omega_sq']\n",
    "    aov = aov[cols]\n",
    "    return aov\n",
    "\n",
    "anova_table(aov_table)"
   ]
  },
  {
   "cell_type": "code",
   "execution_count": null,
   "id": "2ca1b201",
   "metadata": {},
   "outputs": [],
   "source": []
  },
  {
   "cell_type": "code",
   "execution_count": 18,
   "id": "7fabdea0",
   "metadata": {},
   "outputs": [
    {
     "data": {
      "text/html": [
       "<table class=\"simpletable\">\n",
       "<caption>Multiple Comparison of Means - Tukey HSD, FWER=0.05</caption>\n",
       "<tr>\n",
       "  <th>group1</th> <th>group2</th> <th>meandiff</th> <th>p-adj</th>   <th>lower</th>   <th>upper</th>  <th>reject</th>\n",
       "</tr>\n",
       "<tr>\n",
       "    <td>AA</td>     <td>BB</td>     <td>1.25</td>    <td>0.9</td>   <td>-7.2903</td> <td>9.7903</td>   <td>False</td>\n",
       "</tr>\n",
       "<tr>\n",
       "    <td>AA</td>     <td>CC</td>    <td>-14.375</td> <td>0.001</td> <td>-22.9153</td> <td>-5.8347</td>  <td>True</td> \n",
       "</tr>\n",
       "<tr>\n",
       "    <td>BB</td>     <td>CC</td>    <td>-15.625</td> <td>0.001</td> <td>-24.1653</td> <td>-7.0847</td>  <td>True</td> \n",
       "</tr>\n",
       "</table>"
      ],
      "text/plain": [
       "<class 'statsmodels.iolib.table.SimpleTable'>"
      ]
     },
     "execution_count": 18,
     "metadata": {},
     "output_type": "execute_result"
    }
   ],
   "source": [
    "import statsmodels.stats.multicomp as mc\n",
    "\n",
    "comp = mc.MultiComparison(data['PlantGrowth'], data['FoodType'])\n",
    "post_hoc_res = comp.tukeyhsd()\n",
    "post_hoc_res.summary()"
   ]
  },
  {
   "cell_type": "code",
   "execution_count": null,
   "id": "c8a70e10",
   "metadata": {},
   "outputs": [],
   "source": []
  },
  {
   "cell_type": "code",
   "execution_count": null,
   "id": "ec29abab",
   "metadata": {},
   "outputs": [],
   "source": []
  },
  {
   "cell_type": "code",
   "execution_count": null,
   "id": "510a47d4",
   "metadata": {},
   "outputs": [],
   "source": []
  },
  {
   "cell_type": "code",
   "execution_count": null,
   "id": "f98ab5d9",
   "metadata": {},
   "outputs": [],
   "source": []
  },
  {
   "cell_type": "code",
   "execution_count": null,
   "id": "6c17802f",
   "metadata": {},
   "outputs": [],
   "source": []
  },
  {
   "cell_type": "code",
   "execution_count": null,
   "id": "016fba9f",
   "metadata": {},
   "outputs": [],
   "source": []
  },
  {
   "cell_type": "markdown",
   "id": "91563bc3",
   "metadata": {},
   "source": [
    "## Roller Coaster Wait Times : "
   ]
  },
  {
   "cell_type": "markdown",
   "id": "170119be",
   "metadata": {},
   "source": [
    "- Tou are an analyst for kings island amusement park . YOu have been asked to determine `if there's a difference in wait time between three big roller coasters` in the park . **The Beast , Banshee and Diamondback.**\n",
    "\n",
    "\n",
    "- To conduct your analysis , you track the wait time for 25 random riders on each ride. While one way anova procedure will test the hypothesis that all three mean weait times are equal . The test will not tell you **Where those differences occure** amongs the coasters. "
   ]
  },
  {
   "cell_type": "code",
   "execution_count": null,
   "id": "6898e921",
   "metadata": {},
   "outputs": [],
   "source": []
  },
  {
   "cell_type": "code",
   "execution_count": 19,
   "id": "0c6dab75",
   "metadata": {},
   "outputs": [],
   "source": [
    "data = pd.read_csv(\"RollerCoster_waitTime.csv\")"
   ]
  },
  {
   "cell_type": "code",
   "execution_count": 20,
   "id": "1523a1fa",
   "metadata": {},
   "outputs": [],
   "source": [
    "RollerCosters = data.melt(value_name=\"wait_time\",var_name=\"Rides\")"
   ]
  },
  {
   "cell_type": "code",
   "execution_count": 21,
   "id": "d9058d56",
   "metadata": {},
   "outputs": [
    {
     "data": {
      "text/html": [
       "<div>\n",
       "<style scoped>\n",
       "    .dataframe tbody tr th:only-of-type {\n",
       "        vertical-align: middle;\n",
       "    }\n",
       "\n",
       "    .dataframe tbody tr th {\n",
       "        vertical-align: top;\n",
       "    }\n",
       "\n",
       "    .dataframe thead th {\n",
       "        text-align: right;\n",
       "    }\n",
       "</style>\n",
       "<table border=\"1\" class=\"dataframe\">\n",
       "  <thead>\n",
       "    <tr style=\"text-align: right;\">\n",
       "      <th></th>\n",
       "      <th>Rides</th>\n",
       "      <th>wait_time</th>\n",
       "    </tr>\n",
       "  </thead>\n",
       "  <tbody>\n",
       "    <tr>\n",
       "      <th>0</th>\n",
       "      <td>BEAST</td>\n",
       "      <td>23.5</td>\n",
       "    </tr>\n",
       "    <tr>\n",
       "      <th>1</th>\n",
       "      <td>BEAST</td>\n",
       "      <td>19.7</td>\n",
       "    </tr>\n",
       "    <tr>\n",
       "      <th>2</th>\n",
       "      <td>BEAST</td>\n",
       "      <td>14.8</td>\n",
       "    </tr>\n",
       "    <tr>\n",
       "      <th>3</th>\n",
       "      <td>BEAST</td>\n",
       "      <td>24.2</td>\n",
       "    </tr>\n",
       "    <tr>\n",
       "      <th>4</th>\n",
       "      <td>BEAST</td>\n",
       "      <td>40.2</td>\n",
       "    </tr>\n",
       "    <tr>\n",
       "      <th>...</th>\n",
       "      <td>...</td>\n",
       "      <td>...</td>\n",
       "    </tr>\n",
       "    <tr>\n",
       "      <th>70</th>\n",
       "      <td>DIAMONDBACK</td>\n",
       "      <td>56.4</td>\n",
       "    </tr>\n",
       "    <tr>\n",
       "      <th>71</th>\n",
       "      <td>DIAMONDBACK</td>\n",
       "      <td>56.0</td>\n",
       "    </tr>\n",
       "    <tr>\n",
       "      <th>72</th>\n",
       "      <td>DIAMONDBACK</td>\n",
       "      <td>75.6</td>\n",
       "    </tr>\n",
       "    <tr>\n",
       "      <th>73</th>\n",
       "      <td>DIAMONDBACK</td>\n",
       "      <td>70.1</td>\n",
       "    </tr>\n",
       "    <tr>\n",
       "      <th>74</th>\n",
       "      <td>DIAMONDBACK</td>\n",
       "      <td>51.4</td>\n",
       "    </tr>\n",
       "  </tbody>\n",
       "</table>\n",
       "<p>75 rows × 2 columns</p>\n",
       "</div>"
      ],
      "text/plain": [
       "          Rides  wait_time\n",
       "0         BEAST       23.5\n",
       "1         BEAST       19.7\n",
       "2         BEAST       14.8\n",
       "3         BEAST       24.2\n",
       "4         BEAST       40.2\n",
       "..          ...        ...\n",
       "70  DIAMONDBACK       56.4\n",
       "71  DIAMONDBACK       56.0\n",
       "72  DIAMONDBACK       75.6\n",
       "73  DIAMONDBACK       70.1\n",
       "74  DIAMONDBACK       51.4\n",
       "\n",
       "[75 rows x 2 columns]"
      ]
     },
     "execution_count": 21,
     "metadata": {},
     "output_type": "execute_result"
    }
   ],
   "source": [
    "RollerCosters"
   ]
  },
  {
   "cell_type": "code",
   "execution_count": 22,
   "id": "9d57ad49",
   "metadata": {
    "scrolled": true
   },
   "outputs": [
    {
     "data": {
      "text/html": [
       "<div>\n",
       "<style scoped>\n",
       "    .dataframe tbody tr th:only-of-type {\n",
       "        vertical-align: middle;\n",
       "    }\n",
       "\n",
       "    .dataframe tbody tr th {\n",
       "        vertical-align: top;\n",
       "    }\n",
       "\n",
       "    .dataframe thead th {\n",
       "        text-align: right;\n",
       "    }\n",
       "</style>\n",
       "<table border=\"1\" class=\"dataframe\">\n",
       "  <thead>\n",
       "    <tr style=\"text-align: right;\">\n",
       "      <th></th>\n",
       "      <th>sum_sq</th>\n",
       "      <th>df</th>\n",
       "      <th>F</th>\n",
       "      <th>PR(&gt;F)</th>\n",
       "    </tr>\n",
       "  </thead>\n",
       "  <tbody>\n",
       "    <tr>\n",
       "      <th>C(Rides)</th>\n",
       "      <td>8788.2912</td>\n",
       "      <td>2.0</td>\n",
       "      <td>21.353955</td>\n",
       "      <td>5.231290e-08</td>\n",
       "    </tr>\n",
       "    <tr>\n",
       "      <th>Residual</th>\n",
       "      <td>14815.9200</td>\n",
       "      <td>72.0</td>\n",
       "      <td>NaN</td>\n",
       "      <td>NaN</td>\n",
       "    </tr>\n",
       "  </tbody>\n",
       "</table>\n",
       "</div>"
      ],
      "text/plain": [
       "              sum_sq    df          F        PR(>F)\n",
       "C(Rides)   8788.2912   2.0  21.353955  5.231290e-08\n",
       "Residual  14815.9200  72.0        NaN           NaN"
      ]
     },
     "execution_count": 22,
     "metadata": {},
     "output_type": "execute_result"
    }
   ],
   "source": [
    "\n",
    "model = ols('wait_time ~ C(Rides)' , data=RollerCosters).fit()\n",
    "aov_table = sm.stats.anova_lm(model, typ=2)\n",
    "aov_table"
   ]
  },
  {
   "cell_type": "code",
   "execution_count": null,
   "id": "97a0715f",
   "metadata": {},
   "outputs": [],
   "source": []
  },
  {
   "cell_type": "markdown",
   "id": "1c492fcd",
   "metadata": {},
   "source": [
    "- **If the f-test is significant, we do not know where the differences are located** "
   ]
  },
  {
   "cell_type": "markdown",
   "id": "8e3d8354",
   "metadata": {},
   "source": [
    "- There are several multiple comparision procedures : Fisher's LSD . Tukey HSD , Scheffe's Method, Bonferroni . "
   ]
  },
  {
   "cell_type": "code",
   "execution_count": 23,
   "id": "b8b3b8e0",
   "metadata": {},
   "outputs": [
    {
     "data": {
      "text/html": [
       "<div>\n",
       "<style scoped>\n",
       "    .dataframe tbody tr th:only-of-type {\n",
       "        vertical-align: middle;\n",
       "    }\n",
       "\n",
       "    .dataframe tbody tr th {\n",
       "        vertical-align: top;\n",
       "    }\n",
       "\n",
       "    .dataframe thead th {\n",
       "        text-align: right;\n",
       "    }\n",
       "</style>\n",
       "<table border=\"1\" class=\"dataframe\">\n",
       "  <thead>\n",
       "    <tr style=\"text-align: right;\">\n",
       "      <th></th>\n",
       "      <th>sum_sq</th>\n",
       "      <th>df</th>\n",
       "      <th>mean_sq</th>\n",
       "      <th>F</th>\n",
       "      <th>PR(&gt;F)</th>\n",
       "      <th>eta_sq</th>\n",
       "      <th>omega_sq</th>\n",
       "    </tr>\n",
       "  </thead>\n",
       "  <tbody>\n",
       "    <tr>\n",
       "      <th>C(Rides)</th>\n",
       "      <td>8788.2912</td>\n",
       "      <td>2.0</td>\n",
       "      <td>4394.145600</td>\n",
       "      <td>21.353955</td>\n",
       "      <td>5.231290e-08</td>\n",
       "      <td>0.372319</td>\n",
       "      <td>0.351816</td>\n",
       "    </tr>\n",
       "    <tr>\n",
       "      <th>Residual</th>\n",
       "      <td>14815.9200</td>\n",
       "      <td>72.0</td>\n",
       "      <td>205.776667</td>\n",
       "      <td>NaN</td>\n",
       "      <td>NaN</td>\n",
       "      <td>NaN</td>\n",
       "      <td>NaN</td>\n",
       "    </tr>\n",
       "  </tbody>\n",
       "</table>\n",
       "</div>"
      ],
      "text/plain": [
       "              sum_sq    df      mean_sq          F        PR(>F)    eta_sq  \\\n",
       "C(Rides)   8788.2912   2.0  4394.145600  21.353955  5.231290e-08  0.372319   \n",
       "Residual  14815.9200  72.0   205.776667        NaN           NaN       NaN   \n",
       "\n",
       "          omega_sq  \n",
       "C(Rides)  0.351816  \n",
       "Residual       NaN  "
      ]
     },
     "execution_count": 23,
     "metadata": {},
     "output_type": "execute_result"
    }
   ],
   "source": [
    "def anova_table(aov):\n",
    "    aov['mean_sq'] = aov[:]['sum_sq']/aov[:]['df']\n",
    "\n",
    "    aov['eta_sq'] = aov[:-1]['sum_sq']/sum(aov['sum_sq'])\n",
    "\n",
    "    aov['omega_sq'] = (aov[:-1]['sum_sq']-(aov[:-1]['df']*aov['mean_sq'][-1]))/(sum(aov['sum_sq'])+aov['mean_sq'][-1])\n",
    "\n",
    "    cols = ['sum_sq', 'df', 'mean_sq', 'F', 'PR(>F)', 'eta_sq', 'omega_sq']\n",
    "    aov = aov[cols]\n",
    "    return aov\n",
    "\n",
    "anova_table(aov_table)"
   ]
  },
  {
   "cell_type": "markdown",
   "id": "4da2b5f6",
   "metadata": {},
   "source": [
    "#### Difference Matrix : \n"
   ]
  },
  {
   "cell_type": "code",
   "execution_count": 24,
   "id": "8c9347de",
   "metadata": {},
   "outputs": [],
   "source": [
    "diffs = data.mean().sort_values(ascending=False)"
   ]
  },
  {
   "cell_type": "code",
   "execution_count": 25,
   "id": "dfbdcb1a",
   "metadata": {},
   "outputs": [
    {
     "data": {
      "text/plain": [
       "DIAMONDBACK    58.904\n",
       "BANSHEE        42.440\n",
       "BEAST          32.672\n",
       "dtype: float64"
      ]
     },
     "execution_count": 25,
     "metadata": {},
     "output_type": "execute_result"
    }
   ],
   "source": [
    "diffs"
   ]
  },
  {
   "cell_type": "code",
   "execution_count": 26,
   "id": "1dc4cab4",
   "metadata": {},
   "outputs": [
    {
     "data": {
      "text/plain": [
       "array([58.904, 42.44 , 32.672])"
      ]
     },
     "execution_count": 26,
     "metadata": {},
     "output_type": "execute_result"
    }
   ],
   "source": [
    "np.array(diffs)"
   ]
  },
  {
   "cell_type": "code",
   "execution_count": 27,
   "id": "ff9891b9",
   "metadata": {},
   "outputs": [
    {
     "data": {
      "text/plain": [
       "[array([ 0.   , 16.464, 26.232]),\n",
       " array([-16.464,   0.   ,   9.768]),\n",
       " array([-26.232,  -9.768,   0.   ])]"
      ]
     },
     "execution_count": 27,
     "metadata": {},
     "output_type": "execute_result"
    }
   ],
   "source": [
    "diffmat = []\n",
    "for i in np.array(diffs):\n",
    "    diffmat.append(i-np.array(diffs))\n",
    "diffmat"
   ]
  },
  {
   "cell_type": "code",
   "execution_count": 28,
   "id": "98a68c70",
   "metadata": {},
   "outputs": [],
   "source": [
    "diffmat = pd.DataFrame(diffmat)"
   ]
  },
  {
   "cell_type": "code",
   "execution_count": 29,
   "id": "dae77fcf",
   "metadata": {},
   "outputs": [
    {
     "data": {
      "text/html": [
       "<div>\n",
       "<style scoped>\n",
       "    .dataframe tbody tr th:only-of-type {\n",
       "        vertical-align: middle;\n",
       "    }\n",
       "\n",
       "    .dataframe tbody tr th {\n",
       "        vertical-align: top;\n",
       "    }\n",
       "\n",
       "    .dataframe thead th {\n",
       "        text-align: right;\n",
       "    }\n",
       "</style>\n",
       "<table border=\"1\" class=\"dataframe\">\n",
       "  <thead>\n",
       "    <tr style=\"text-align: right;\">\n",
       "      <th></th>\n",
       "      <th>0</th>\n",
       "      <th>1</th>\n",
       "      <th>2</th>\n",
       "    </tr>\n",
       "  </thead>\n",
       "  <tbody>\n",
       "    <tr>\n",
       "      <th>0</th>\n",
       "      <td>0.000</td>\n",
       "      <td>16.464</td>\n",
       "      <td>26.232</td>\n",
       "    </tr>\n",
       "    <tr>\n",
       "      <th>1</th>\n",
       "      <td>-16.464</td>\n",
       "      <td>0.000</td>\n",
       "      <td>9.768</td>\n",
       "    </tr>\n",
       "    <tr>\n",
       "      <th>2</th>\n",
       "      <td>-26.232</td>\n",
       "      <td>-9.768</td>\n",
       "      <td>0.000</td>\n",
       "    </tr>\n",
       "  </tbody>\n",
       "</table>\n",
       "</div>"
      ],
      "text/plain": [
       "        0       1       2\n",
       "0   0.000  16.464  26.232\n",
       "1 -16.464   0.000   9.768\n",
       "2 -26.232  -9.768   0.000"
      ]
     },
     "execution_count": 29,
     "metadata": {},
     "output_type": "execute_result"
    }
   ],
   "source": [
    "diffmat"
   ]
  },
  {
   "cell_type": "code",
   "execution_count": 30,
   "id": "713092df",
   "metadata": {},
   "outputs": [],
   "source": [
    "diffmat.columns = ['DIAMONDBACK', 'BANSHEE', 'BEAST']"
   ]
  },
  {
   "cell_type": "code",
   "execution_count": 31,
   "id": "9b111ca5",
   "metadata": {},
   "outputs": [],
   "source": [
    "diffmat.index = ['DIAMONDBACK', 'BANSHEE', 'BEAST']"
   ]
  },
  {
   "cell_type": "code",
   "execution_count": 32,
   "id": "2f2fdb45",
   "metadata": {},
   "outputs": [
    {
     "data": {
      "text/html": [
       "<div>\n",
       "<style scoped>\n",
       "    .dataframe tbody tr th:only-of-type {\n",
       "        vertical-align: middle;\n",
       "    }\n",
       "\n",
       "    .dataframe tbody tr th {\n",
       "        vertical-align: top;\n",
       "    }\n",
       "\n",
       "    .dataframe thead th {\n",
       "        text-align: right;\n",
       "    }\n",
       "</style>\n",
       "<table border=\"1\" class=\"dataframe\">\n",
       "  <thead>\n",
       "    <tr style=\"text-align: right;\">\n",
       "      <th></th>\n",
       "      <th>DIAMONDBACK</th>\n",
       "      <th>BANSHEE</th>\n",
       "      <th>BEAST</th>\n",
       "    </tr>\n",
       "  </thead>\n",
       "  <tbody>\n",
       "    <tr>\n",
       "      <th>DIAMONDBACK</th>\n",
       "      <td>0.000</td>\n",
       "      <td>16.464</td>\n",
       "      <td>26.232</td>\n",
       "    </tr>\n",
       "    <tr>\n",
       "      <th>BANSHEE</th>\n",
       "      <td>-16.464</td>\n",
       "      <td>0.000</td>\n",
       "      <td>9.768</td>\n",
       "    </tr>\n",
       "    <tr>\n",
       "      <th>BEAST</th>\n",
       "      <td>-26.232</td>\n",
       "      <td>-9.768</td>\n",
       "      <td>0.000</td>\n",
       "    </tr>\n",
       "  </tbody>\n",
       "</table>\n",
       "</div>"
      ],
      "text/plain": [
       "             DIAMONDBACK  BANSHEE   BEAST\n",
       "DIAMONDBACK        0.000   16.464  26.232\n",
       "BANSHEE          -16.464    0.000   9.768\n",
       "BEAST            -26.232   -9.768   0.000"
      ]
     },
     "execution_count": 32,
     "metadata": {},
     "output_type": "execute_result"
    }
   ],
   "source": [
    "diffmat"
   ]
  },
  {
   "cell_type": "code",
   "execution_count": 33,
   "id": "528b5388",
   "metadata": {},
   "outputs": [
    {
     "data": {
      "text/plain": [
       "<AxesSubplot:xlabel='Rides', ylabel='wait_time'>"
      ]
     },
     "execution_count": 33,
     "metadata": {},
     "output_type": "execute_result"
    },
    {
     "data": {
      "image/png": "[encoded data removed]",
      "text/plain": [
       "<Figure size 432x288 with 1 Axes>"
      ]
     },
     "metadata": {
      "needs_background": "light"
     },
     "output_type": "display_data"
    }
   ],
   "source": [
    "sns.boxplot(x = RollerCosters[\"Rides\"],\n",
    "           y=  RollerCosters[\"wait_time\"])"
   ]
  },
  {
   "cell_type": "code",
   "execution_count": 34,
   "id": "02a1bab3",
   "metadata": {},
   "outputs": [
    {
     "data": {
      "text/html": [
       "<table class=\"simpletable\">\n",
       "<caption>Multiple Comparison of Means - Tukey HSD, FWER=0.05</caption>\n",
       "<tr>\n",
       "  <th>group1</th>    <th>group2</th>    <th>meandiff</th>  <th>p-adj</th>   <th>lower</th>   <th>upper</th>  <th>reject</th>\n",
       "</tr>\n",
       "<tr>\n",
       "  <td>BANSHEE</td>    <td>BEAST</td>     <td>-9.768</td>  <td>0.0483</td> <td>-19.4778</td> <td>-0.0582</td>  <td>True</td> \n",
       "</tr>\n",
       "<tr>\n",
       "  <td>BANSHEE</td> <td>DIAMONDBACK</td>  <td>16.464</td>   <td>0.001</td>  <td>6.7542</td>  <td>26.1738</td>  <td>True</td> \n",
       "</tr>\n",
       "<tr>\n",
       "   <td>BEAST</td>  <td>DIAMONDBACK</td>  <td>26.232</td>   <td>0.001</td>  <td>16.5222</td> <td>35.9418</td>  <td>True</td> \n",
       "</tr>\n",
       "</table>"
      ],
      "text/plain": [
       "<class 'statsmodels.iolib.table.SimpleTable'>"
      ]
     },
     "execution_count": 34,
     "metadata": {},
     "output_type": "execute_result"
    }
   ],
   "source": [
    "import statsmodels.stats.multicomp as mc\n",
    "\n",
    "comp = mc.MultiComparison(RollerCosters['wait_time'], RollerCosters['Rides'])\n",
    "post_hoc_res = comp.tukeyhsd()\n",
    "post_hoc_res.summary()"
   ]
  },
  {
   "cell_type": "code",
   "execution_count": null,
   "id": "1173c58f",
   "metadata": {},
   "outputs": [],
   "source": []
  },
  {
   "cell_type": "code",
   "execution_count": 35,
   "id": "8374b7d2",
   "metadata": {},
   "outputs": [
    {
     "data": {
      "text/html": [
       "<div>\n",
       "<style scoped>\n",
       "    .dataframe tbody tr th:only-of-type {\n",
       "        vertical-align: middle;\n",
       "    }\n",
       "\n",
       "    .dataframe tbody tr th {\n",
       "        vertical-align: top;\n",
       "    }\n",
       "\n",
       "    .dataframe thead th {\n",
       "        text-align: right;\n",
       "    }\n",
       "</style>\n",
       "<table border=\"1\" class=\"dataframe\">\n",
       "  <thead>\n",
       "    <tr style=\"text-align: right;\">\n",
       "      <th></th>\n",
       "      <th>BEAST</th>\n",
       "      <th>BANSHEE</th>\n",
       "      <th>DIAMONDBACK</th>\n",
       "    </tr>\n",
       "  </thead>\n",
       "  <tbody>\n",
       "    <tr>\n",
       "      <th>BEAST</th>\n",
       "      <td>1.000000</td>\n",
       "      <td>1.862747e-02</td>\n",
       "      <td>1.242146e-04</td>\n",
       "    </tr>\n",
       "    <tr>\n",
       "      <th>BANSHEE</th>\n",
       "      <td>0.018627</td>\n",
       "      <td>1.000000e+00</td>\n",
       "      <td>1.053171e-08</td>\n",
       "    </tr>\n",
       "    <tr>\n",
       "      <th>DIAMONDBACK</th>\n",
       "      <td>0.000124</td>\n",
       "      <td>1.053171e-08</td>\n",
       "      <td>1.000000e+00</td>\n",
       "    </tr>\n",
       "  </tbody>\n",
       "</table>\n",
       "</div>"
      ],
      "text/plain": [
       "                BEAST       BANSHEE   DIAMONDBACK\n",
       "BEAST        1.000000  1.862747e-02  1.242146e-04\n",
       "BANSHEE      0.018627  1.000000e+00  1.053171e-08\n",
       "DIAMONDBACK  0.000124  1.053171e-08  1.000000e+00"
      ]
     },
     "execution_count": 35,
     "metadata": {},
     "output_type": "execute_result"
    }
   ],
   "source": [
    "import scikit_posthocs as sp\n",
    "sp.posthoc_ttest(RollerCosters, val_col='wait_time', group_col='Rides', p_adjust=None, pool_sd=True )"
   ]
  },
  {
   "cell_type": "code",
   "execution_count": null,
   "id": "24c7a678",
   "metadata": {},
   "outputs": [],
   "source": []
  },
  {
   "cell_type": "code",
   "execution_count": null,
   "id": "ea63b14b",
   "metadata": {},
   "outputs": [],
   "source": []
  },
  {
   "cell_type": "code",
   "execution_count": null,
   "id": "9c76dfc1",
   "metadata": {},
   "outputs": [],
   "source": []
  },
  {
   "cell_type": "code",
   "execution_count": null,
   "id": "b6715a89",
   "metadata": {},
   "outputs": [],
   "source": []
  },
  {
   "cell_type": "markdown",
   "id": "61144db3",
   "metadata": {},
   "source": [
    "https://www.statsmodels.org/devel/generated/statsmodels.sandbox.stats.multicomp.MultiComparison.html"
   ]
  },
  {
   "cell_type": "code",
   "execution_count": null,
   "id": "96a8cb0d",
   "metadata": {},
   "outputs": [],
   "source": []
  },
  {
   "cell_type": "code",
   "execution_count": null,
   "id": "188e741e",
   "metadata": {},
   "outputs": [],
   "source": []
  },
  {
   "cell_type": "code",
   "execution_count": null,
   "id": "840ebf5c",
   "metadata": {},
   "outputs": [],
   "source": []
  },
  {
   "cell_type": "code",
   "execution_count": null,
   "id": "dc476ebc",
   "metadata": {},
   "outputs": [],
   "source": []
  },
  {
   "cell_type": "code",
   "execution_count": 36,
   "id": "22e4e9ce",
   "metadata": {},
   "outputs": [],
   "source": [
    "df = pd.read_csv(\"https://raw.githubusercontent.com/researchpy/Data-sets/master/difficile.csv\")"
   ]
  },
  {
   "cell_type": "code",
   "execution_count": 37,
   "id": "f1b4ebf4",
   "metadata": {},
   "outputs": [
    {
     "data": {
      "text/html": [
       "<div>\n",
       "<style scoped>\n",
       "    .dataframe tbody tr th:only-of-type {\n",
       "        vertical-align: middle;\n",
       "    }\n",
       "\n",
       "    .dataframe tbody tr th {\n",
       "        vertical-align: top;\n",
       "    }\n",
       "\n",
       "    .dataframe thead th {\n",
       "        text-align: right;\n",
       "    }\n",
       "</style>\n",
       "<table border=\"1\" class=\"dataframe\">\n",
       "  <thead>\n",
       "    <tr style=\"text-align: right;\">\n",
       "      <th></th>\n",
       "      <th>dose</th>\n",
       "      <th>libido</th>\n",
       "    </tr>\n",
       "  </thead>\n",
       "  <tbody>\n",
       "    <tr>\n",
       "      <th>0</th>\n",
       "      <td>placebo</td>\n",
       "      <td>3</td>\n",
       "    </tr>\n",
       "    <tr>\n",
       "      <th>1</th>\n",
       "      <td>placebo</td>\n",
       "      <td>2</td>\n",
       "    </tr>\n",
       "    <tr>\n",
       "      <th>2</th>\n",
       "      <td>placebo</td>\n",
       "      <td>1</td>\n",
       "    </tr>\n",
       "    <tr>\n",
       "      <th>3</th>\n",
       "      <td>placebo</td>\n",
       "      <td>1</td>\n",
       "    </tr>\n",
       "    <tr>\n",
       "      <th>4</th>\n",
       "      <td>placebo</td>\n",
       "      <td>4</td>\n",
       "    </tr>\n",
       "    <tr>\n",
       "      <th>5</th>\n",
       "      <td>low</td>\n",
       "      <td>5</td>\n",
       "    </tr>\n",
       "    <tr>\n",
       "      <th>6</th>\n",
       "      <td>low</td>\n",
       "      <td>2</td>\n",
       "    </tr>\n",
       "    <tr>\n",
       "      <th>7</th>\n",
       "      <td>low</td>\n",
       "      <td>4</td>\n",
       "    </tr>\n",
       "    <tr>\n",
       "      <th>8</th>\n",
       "      <td>low</td>\n",
       "      <td>2</td>\n",
       "    </tr>\n",
       "    <tr>\n",
       "      <th>9</th>\n",
       "      <td>low</td>\n",
       "      <td>3</td>\n",
       "    </tr>\n",
       "    <tr>\n",
       "      <th>10</th>\n",
       "      <td>high</td>\n",
       "      <td>7</td>\n",
       "    </tr>\n",
       "    <tr>\n",
       "      <th>11</th>\n",
       "      <td>high</td>\n",
       "      <td>4</td>\n",
       "    </tr>\n",
       "    <tr>\n",
       "      <th>12</th>\n",
       "      <td>high</td>\n",
       "      <td>5</td>\n",
       "    </tr>\n",
       "    <tr>\n",
       "      <th>13</th>\n",
       "      <td>high</td>\n",
       "      <td>3</td>\n",
       "    </tr>\n",
       "    <tr>\n",
       "      <th>14</th>\n",
       "      <td>high</td>\n",
       "      <td>6</td>\n",
       "    </tr>\n",
       "  </tbody>\n",
       "</table>\n",
       "</div>"
      ],
      "text/plain": [
       "       dose  libido\n",
       "0   placebo       3\n",
       "1   placebo       2\n",
       "2   placebo       1\n",
       "3   placebo       1\n",
       "4   placebo       4\n",
       "5       low       5\n",
       "6       low       2\n",
       "7       low       4\n",
       "8       low       2\n",
       "9       low       3\n",
       "10     high       7\n",
       "11     high       4\n",
       "12     high       5\n",
       "13     high       3\n",
       "14     high       6"
      ]
     },
     "execution_count": 37,
     "metadata": {},
     "output_type": "execute_result"
    }
   ],
   "source": [
    "df.drop('person', axis= 1, inplace= True)\n",
    "\n",
    "# Recoding value from numeric to string\n",
    "df['dose'].replace({1: 'placebo', 2: 'low', 3: 'high'}, inplace= True)\n",
    "\n",
    "df"
   ]
  },
  {
   "cell_type": "code",
   "execution_count": 38,
   "id": "4c5ce4e1",
   "metadata": {},
   "outputs": [
    {
     "data": {
      "application/javascript": [
       "\n",
       "        if (window._pyforest_update_imports_cell) { window._pyforest_update_imports_cell('from scipy import stats'); }\n",
       "    "
      ],
      "text/plain": [
       "<IPython.core.display.Javascript object>"
      ]
     },
     "metadata": {},
     "output_type": "display_data"
    },
    {
     "data": {
      "text/plain": [
       "F_onewayResult(statistic=5.11864406779661, pvalue=0.024694289538222603)"
      ]
     },
     "execution_count": 38,
     "metadata": {},
     "output_type": "execute_result"
    }
   ],
   "source": [
    "\n",
    "stats.f_oneway(df['libido'][df['dose'] == 'high'],\n",
    "               df['libido'][df['dose'] == 'low'],\n",
    "               df['libido'][df['dose'] == 'placebo'])"
   ]
  },
  {
   "cell_type": "code",
   "execution_count": 39,
   "id": "2650529c",
   "metadata": {},
   "outputs": [
    {
     "data": {
      "text/html": [
       "<div>\n",
       "<style scoped>\n",
       "    .dataframe tbody tr th:only-of-type {\n",
       "        vertical-align: middle;\n",
       "    }\n",
       "\n",
       "    .dataframe tbody tr th {\n",
       "        vertical-align: top;\n",
       "    }\n",
       "\n",
       "    .dataframe thead th {\n",
       "        text-align: right;\n",
       "    }\n",
       "</style>\n",
       "<table border=\"1\" class=\"dataframe\">\n",
       "  <thead>\n",
       "    <tr style=\"text-align: right;\">\n",
       "      <th></th>\n",
       "      <th>sum_sq</th>\n",
       "      <th>df</th>\n",
       "      <th>F</th>\n",
       "      <th>PR(&gt;F)</th>\n",
       "    </tr>\n",
       "  </thead>\n",
       "  <tbody>\n",
       "    <tr>\n",
       "      <th>C(dose)</th>\n",
       "      <td>20.133333</td>\n",
       "      <td>2.0</td>\n",
       "      <td>5.118644</td>\n",
       "      <td>0.024694</td>\n",
       "    </tr>\n",
       "    <tr>\n",
       "      <th>Residual</th>\n",
       "      <td>23.600000</td>\n",
       "      <td>12.0</td>\n",
       "      <td>NaN</td>\n",
       "      <td>NaN</td>\n",
       "    </tr>\n",
       "  </tbody>\n",
       "</table>\n",
       "</div>"
      ],
      "text/plain": [
       "             sum_sq    df         F    PR(>F)\n",
       "C(dose)   20.133333   2.0  5.118644  0.024694\n",
       "Residual  23.600000  12.0       NaN       NaN"
      ]
     },
     "execution_count": 39,
     "metadata": {},
     "output_type": "execute_result"
    }
   ],
   "source": [
    "model = ols('libido ~ C(dose)', data=df).fit()\n",
    "aov_table = sm.stats.anova_lm(model, typ=2)\n",
    "aov_table"
   ]
  },
  {
   "cell_type": "code",
   "execution_count": 40,
   "id": "d4abc8f6",
   "metadata": {},
   "outputs": [
    {
     "data": {
      "text/html": [
       "<div>\n",
       "<style scoped>\n",
       "    .dataframe tbody tr th:only-of-type {\n",
       "        vertical-align: middle;\n",
       "    }\n",
       "\n",
       "    .dataframe tbody tr th {\n",
       "        vertical-align: top;\n",
       "    }\n",
       "\n",
       "    .dataframe thead th {\n",
       "        text-align: right;\n",
       "    }\n",
       "</style>\n",
       "<table border=\"1\" class=\"dataframe\">\n",
       "  <thead>\n",
       "    <tr style=\"text-align: right;\">\n",
       "      <th></th>\n",
       "      <th>sum_sq</th>\n",
       "      <th>df</th>\n",
       "      <th>mean_sq</th>\n",
       "      <th>F</th>\n",
       "      <th>PR(&gt;F)</th>\n",
       "      <th>eta_sq</th>\n",
       "      <th>omega_sq</th>\n",
       "    </tr>\n",
       "  </thead>\n",
       "  <tbody>\n",
       "    <tr>\n",
       "      <th>C(dose)</th>\n",
       "      <td>20.133333</td>\n",
       "      <td>2.0</td>\n",
       "      <td>10.066667</td>\n",
       "      <td>5.118644</td>\n",
       "      <td>0.024694</td>\n",
       "      <td>0.460366</td>\n",
       "      <td>0.354486</td>\n",
       "    </tr>\n",
       "    <tr>\n",
       "      <th>Residual</th>\n",
       "      <td>23.600000</td>\n",
       "      <td>12.0</td>\n",
       "      <td>1.966667</td>\n",
       "      <td>NaN</td>\n",
       "      <td>NaN</td>\n",
       "      <td>NaN</td>\n",
       "      <td>NaN</td>\n",
       "    </tr>\n",
       "  </tbody>\n",
       "</table>\n",
       "</div>"
      ],
      "text/plain": [
       "             sum_sq    df    mean_sq         F    PR(>F)    eta_sq  omega_sq\n",
       "C(dose)   20.133333   2.0  10.066667  5.118644  0.024694  0.460366  0.354486\n",
       "Residual  23.600000  12.0   1.966667       NaN       NaN       NaN       NaN"
      ]
     },
     "execution_count": 40,
     "metadata": {},
     "output_type": "execute_result"
    }
   ],
   "source": [
    "\n",
    "def anova_table(aov):\n",
    "    aov['mean_sq'] = aov[:]['sum_sq']/aov[:]['df']\n",
    "\n",
    "    aov['eta_sq'] = aov[:-1]['sum_sq']/sum(aov['sum_sq'])\n",
    "\n",
    "    aov['omega_sq'] = (aov[:-1]['sum_sq']-(aov[:-1]['df']*aov['mean_sq'][-1]))/(sum(aov['sum_sq'])+aov['mean_sq'][-1])\n",
    "\n",
    "    cols = ['sum_sq', 'df', 'mean_sq', 'F', 'PR(>F)', 'eta_sq', 'omega_sq']\n",
    "    aov = aov[cols]\n",
    "    return aov\n",
    "\n",
    "anova_table(aov_table)"
   ]
  },
  {
   "cell_type": "code",
   "execution_count": null,
   "id": "ee1dfeea",
   "metadata": {},
   "outputs": [],
   "source": []
  },
  {
   "cell_type": "code",
   "execution_count": null,
   "id": "d966dae3",
   "metadata": {},
   "outputs": [],
   "source": []
  },
  {
   "cell_type": "markdown",
   "id": "001abc97",
   "metadata": {},
   "source": [
    "#### HOMOGENEITY OF VARIANCE"
   ]
  },
  {
   "cell_type": "code",
   "execution_count": 41,
   "id": "0401eb99",
   "metadata": {},
   "outputs": [
    {
     "data": {
      "application/javascript": [
       "\n",
       "        if (window._pyforest_update_imports_cell) { window._pyforest_update_imports_cell('from scipy import stats'); }\n",
       "    "
      ],
      "text/plain": [
       "<IPython.core.display.Javascript object>"
      ]
     },
     "metadata": {},
     "output_type": "display_data"
    },
    {
     "data": {
      "text/plain": [
       "LeveneResult(statistic=0.11764705882352934, pvalue=0.8900225182757423)"
      ]
     },
     "execution_count": 41,
     "metadata": {},
     "output_type": "execute_result"
    }
   ],
   "source": [
    "stats.levene(df['libido'][df['dose'] == 'high'],\n",
    "             df['libido'][df['dose'] == 'low'],\n",
    "             df['libido'][df['dose'] == 'placebo'])"
   ]
  },
  {
   "cell_type": "code",
   "execution_count": 42,
   "id": "1e92d635",
   "metadata": {},
   "outputs": [
    {
     "data": {
      "image/png": "[encoded data removed]",
      "text/plain": [
       "<Figure size 504x504 with 1 Axes>"
      ]
     },
     "metadata": {
      "needs_background": "light"
     },
     "output_type": "display_data"
    }
   ],
   "source": [
    "fig = plt.figure(figsize= (7, 7))\n",
    "ax = fig.add_subplot(111)\n",
    "\n",
    "ax.set_title(\"Box Plot of Libido by Dosage\", fontsize= 20)\n",
    "ax.set\n",
    "\n",
    "data = [df['libido'][df['dose'] == 'placebo'],\n",
    "        df['libido'][df['dose'] == 'low'],\n",
    "        df['libido'][df['dose'] == 'high']]\n",
    "\n",
    "ax.boxplot(data,\n",
    "           labels= ['Placebo', 'Low', 'High'],\n",
    "           showmeans= True)\n",
    "\n",
    "plt.xlabel(\"Drug Dosage\")\n",
    "plt.ylabel(\"Libido Score\")\n",
    "\n",
    "plt.show()"
   ]
  },
  {
   "cell_type": "markdown",
   "id": "6cac8b4f",
   "metadata": {},
   "source": [
    "#### TUKEY HONESTLY SIGNIFICANT DIFFERENCE (HSD)"
   ]
  },
  {
   "cell_type": "code",
   "execution_count": 43,
   "id": "d8d7e66d",
   "metadata": {},
   "outputs": [
    {
     "data": {
      "text/html": [
       "<table class=\"simpletable\">\n",
       "<caption>Multiple Comparison of Means - Tukey HSD, FWER=0.05</caption>\n",
       "<tr>\n",
       "  <th>group1</th> <th>group2</th>  <th>meandiff</th>  <th>p-adj</th>  <th>lower</th>   <th>upper</th>  <th>reject</th>\n",
       "</tr>\n",
       "<tr>\n",
       "   <td>high</td>    <td>low</td>     <td>-1.8</td>   <td>0.1472</td> <td>-4.1651</td> <td>0.5651</td>   <td>False</td>\n",
       "</tr>\n",
       "<tr>\n",
       "   <td>high</td>  <td>placebo</td>   <td>-2.8</td>   <td>0.0209</td> <td>-5.1651</td> <td>-0.4349</td>  <td>True</td> \n",
       "</tr>\n",
       "<tr>\n",
       "    <td>low</td>  <td>placebo</td>   <td>-1.0</td>   <td>0.5171</td> <td>-3.3651</td> <td>1.3651</td>   <td>False</td>\n",
       "</tr>\n",
       "</table>"
      ],
      "text/plain": [
       "<class 'statsmodels.iolib.table.SimpleTable'>"
      ]
     },
     "execution_count": 43,
     "metadata": {},
     "output_type": "execute_result"
    }
   ],
   "source": [
    "import statsmodels.stats.multicomp as mc\n",
    "\n",
    "comp = mc.MultiComparison(df['libido'], df['dose'])\n",
    "post_hoc_res = comp.tukeyhsd()\n",
    "post_hoc_res.summary()"
   ]
  },
  {
   "cell_type": "markdown",
   "id": "b073da63",
   "metadata": {},
   "source": [
    "- At the top the table testing information is provided\n",
    "\n",
    "\n",
    "- FWER is the familywise error rate, i.e. what  is being set to and controlled at\n",
    "- group1 and group2 columns are the groups being compared\n",
    "- meandiff is the difference between the group means\n",
    "- p-adj is the corrected p-value which takes into account the multiple comparisons being conducted\n",
    "- lower is the lower band of the confidence interval. In the current example the confidence interval at the 95% level since = 0.05.\n",
    "\n",
    "- upper is the upper band of the confidence interval. In the current example the confidence interval at the 95% level since = 0.05.\n",
    "- reject is the decision rule based on the corrected p-value"
   ]
  },
  {
   "cell_type": "code",
   "execution_count": null,
   "id": "c3300918",
   "metadata": {},
   "outputs": [],
   "source": []
  },
  {
   "cell_type": "code",
   "execution_count": 44,
   "id": "e547301c",
   "metadata": {},
   "outputs": [
    {
     "data": {
      "image/png": "[encoded data removed]",
      "text/plain": [
       "<Figure size 720x432 with 1 Axes>"
      ]
     },
     "metadata": {
      "needs_background": "light"
     },
     "output_type": "display_data"
    }
   ],
   "source": [
    "post_hoc_res.plot_simultaneous(ylabel= \"Drug Dose\", xlabel= \"Score Difference\")\n",
    "plt.show()"
   ]
  },
  {
   "cell_type": "code",
   "execution_count": null,
   "id": "b65f957a",
   "metadata": {},
   "outputs": [],
   "source": []
  },
  {
   "cell_type": "markdown",
   "id": "2eef2a7f",
   "metadata": {},
   "source": [
    "#### BONFERRONI CORRECTION"
   ]
  },
  {
   "cell_type": "code",
   "execution_count": 45,
   "id": "dbe0b0c6",
   "metadata": {},
   "outputs": [
    {
     "data": {
      "application/javascript": [
       "\n",
       "        if (window._pyforest_update_imports_cell) { window._pyforest_update_imports_cell('from scipy import stats'); }\n",
       "    "
      ],
      "text/plain": [
       "<IPython.core.display.Javascript object>"
      ]
     },
     "metadata": {},
     "output_type": "display_data"
    },
    {
     "data": {
      "text/html": [
       "<table class=\"simpletable\">\n",
       "<caption>Test Multiple Comparison ttest_ind \n",
       "FWER=0.05 method=bonf\n",
       "alphacSidak=0.02, alphacBonf=0.017</caption>\n",
       "<tr>\n",
       "  <th>group1</th> <th>group2</th>   <th>stat</th>   <th>pval</th>  <th>pval_corr</th> <th>reject</th>\n",
       "</tr>\n",
       "<tr>\n",
       "   <td>high</td>    <td>low</td>    <td>1.964</td> <td>0.0851</td>  <td>0.2554</td>    <td>False</td>\n",
       "</tr>\n",
       "<tr>\n",
       "   <td>high</td>  <td>placebo</td> <td>3.0551</td> <td>0.0157</td>  <td>0.0471</td>    <td>True</td> \n",
       "</tr>\n",
       "<tr>\n",
       "    <td>low</td>  <td>placebo</td> <td>1.2127</td> <td>0.2598</td>  <td>0.7795</td>    <td>False</td>\n",
       "</tr>\n",
       "</table>"
      ],
      "text/plain": [
       "<class 'statsmodels.iolib.table.SimpleTable'>"
      ]
     },
     "execution_count": 45,
     "metadata": {},
     "output_type": "execute_result"
    }
   ],
   "source": [
    "\n",
    "comp = mc.MultiComparison(df['libido'], df['dose'])\n",
    "tbl, a1, a2 = comp.allpairtest(stats.ttest_ind, method= \"bonf\")\n",
    "\n",
    "tbl"
   ]
  },
  {
   "cell_type": "code",
   "execution_count": null,
   "id": "e9524e33",
   "metadata": {},
   "outputs": [],
   "source": []
  },
  {
   "cell_type": "markdown",
   "id": "9091c83c",
   "metadata": {},
   "source": [
    "https://www.pythonfordatascience.org/anova-python/"
   ]
  },
  {
   "cell_type": "code",
   "execution_count": null,
   "id": "f6c2bdaf",
   "metadata": {},
   "outputs": [],
   "source": []
  },
  {
   "cell_type": "code",
   "execution_count": null,
   "id": "2ad50e6f",
   "metadata": {},
   "outputs": [],
   "source": []
  },
  {
   "cell_type": "code",
   "execution_count": null,
   "id": "6f0ffe99",
   "metadata": {},
   "outputs": [],
   "source": []
  },
  {
   "cell_type": "code",
   "execution_count": null,
   "id": "ca5e147e",
   "metadata": {},
   "outputs": [],
   "source": []
  },
  {
   "cell_type": "code",
   "execution_count": null,
   "id": "1774c99e",
   "metadata": {},
   "outputs": [],
   "source": []
  },
  {
   "cell_type": "code",
   "execution_count": null,
   "id": "beb2a8b2",
   "metadata": {},
   "outputs": [],
   "source": []
  },
  {
   "cell_type": "code",
   "execution_count": null,
   "id": "a6c970db",
   "metadata": {},
   "outputs": [],
   "source": []
  },
  {
   "cell_type": "code",
   "execution_count": null,
   "id": "3ee6b73d",
   "metadata": {},
   "outputs": [],
   "source": []
  },
  {
   "cell_type": "code",
   "execution_count": null,
   "id": "9c8b71b9",
   "metadata": {},
   "outputs": [],
   "source": []
  },
  {
   "cell_type": "code",
   "execution_count": null,
   "id": "d0a4c004",
   "metadata": {},
   "outputs": [],
   "source": []
  },
  {
   "cell_type": "code",
   "execution_count": null,
   "id": "6004f8cd",
   "metadata": {},
   "outputs": [],
   "source": []
  },
  {
   "cell_type": "code",
   "execution_count": null,
   "id": "70eb652a",
   "metadata": {},
   "outputs": [],
   "source": []
  },
  {
   "cell_type": "code",
   "execution_count": null,
   "id": "2bdf775b",
   "metadata": {},
   "outputs": [],
   "source": []
  },
  {
   "cell_type": "code",
   "execution_count": null,
   "id": "88a6aa40",
   "metadata": {},
   "outputs": [],
   "source": []
  },
  {
   "cell_type": "code",
   "execution_count": 46,
   "id": "581ca8ba",
   "metadata": {},
   "outputs": [],
   "source": [
    "drug1 = pd.Series(np.random.normal(4.0,0.2,52))\n",
    "drug2 = pd.Series(np.random.normal(4.0,0.2,45))\n",
    "drug3 = pd.Series(np.random.normal(3.0,0.2,38))\n",
    "drug4 = pd.Series(np.random.normal(4.0,0.2,53))\n",
    "drug5 = pd.Series(np.random.normal(4.0,0.2,40))\n",
    "data = pd.DataFrame([drug1,drug2,drug3,drug4,drug5]).T\n",
    "data.columns = [\"drug1\",\"drug2\",\"drug3\",\"drug4\",\"drug5\"]"
   ]
  },
  {
   "cell_type": "code",
   "execution_count": 47,
   "id": "0a256649",
   "metadata": {},
   "outputs": [
    {
     "data": {
      "text/html": [
       "<div>\n",
       "<style scoped>\n",
       "    .dataframe tbody tr th:only-of-type {\n",
       "        vertical-align: middle;\n",
       "    }\n",
       "\n",
       "    .dataframe tbody tr th {\n",
       "        vertical-align: top;\n",
       "    }\n",
       "\n",
       "    .dataframe thead th {\n",
       "        text-align: right;\n",
       "    }\n",
       "</style>\n",
       "<table border=\"1\" class=\"dataframe\">\n",
       "  <thead>\n",
       "    <tr style=\"text-align: right;\">\n",
       "      <th></th>\n",
       "      <th>drug1</th>\n",
       "      <th>drug2</th>\n",
       "      <th>drug3</th>\n",
       "      <th>drug4</th>\n",
       "      <th>drug5</th>\n",
       "    </tr>\n",
       "  </thead>\n",
       "  <tbody>\n",
       "    <tr>\n",
       "      <th>0</th>\n",
       "      <td>3.992387</td>\n",
       "      <td>3.831912</td>\n",
       "      <td>2.829696</td>\n",
       "      <td>3.821642</td>\n",
       "      <td>3.806897</td>\n",
       "    </tr>\n",
       "    <tr>\n",
       "      <th>1</th>\n",
       "      <td>4.466517</td>\n",
       "      <td>4.006399</td>\n",
       "      <td>3.138025</td>\n",
       "      <td>4.131418</td>\n",
       "      <td>3.743768</td>\n",
       "    </tr>\n",
       "    <tr>\n",
       "      <th>2</th>\n",
       "      <td>3.989314</td>\n",
       "      <td>3.781178</td>\n",
       "      <td>3.190763</td>\n",
       "      <td>4.216015</td>\n",
       "      <td>3.842467</td>\n",
       "    </tr>\n",
       "    <tr>\n",
       "      <th>3</th>\n",
       "      <td>3.959203</td>\n",
       "      <td>3.770073</td>\n",
       "      <td>3.528980</td>\n",
       "      <td>3.929647</td>\n",
       "      <td>3.808784</td>\n",
       "    </tr>\n",
       "    <tr>\n",
       "      <th>4</th>\n",
       "      <td>4.254620</td>\n",
       "      <td>4.069856</td>\n",
       "      <td>2.810602</td>\n",
       "      <td>3.755233</td>\n",
       "      <td>4.175210</td>\n",
       "    </tr>\n",
       "    <tr>\n",
       "      <th>5</th>\n",
       "      <td>4.116391</td>\n",
       "      <td>4.311463</td>\n",
       "      <td>3.177036</td>\n",
       "      <td>4.044830</td>\n",
       "      <td>4.041540</td>\n",
       "    </tr>\n",
       "    <tr>\n",
       "      <th>6</th>\n",
       "      <td>4.019596</td>\n",
       "      <td>3.555213</td>\n",
       "      <td>3.137701</td>\n",
       "      <td>3.800173</td>\n",
       "      <td>3.995685</td>\n",
       "    </tr>\n",
       "    <tr>\n",
       "      <th>7</th>\n",
       "      <td>4.018418</td>\n",
       "      <td>3.760256</td>\n",
       "      <td>2.653506</td>\n",
       "      <td>4.004704</td>\n",
       "      <td>3.878371</td>\n",
       "    </tr>\n",
       "    <tr>\n",
       "      <th>8</th>\n",
       "      <td>3.666364</td>\n",
       "      <td>4.183412</td>\n",
       "      <td>2.959149</td>\n",
       "      <td>3.924794</td>\n",
       "      <td>4.302382</td>\n",
       "    </tr>\n",
       "    <tr>\n",
       "      <th>9</th>\n",
       "      <td>4.040865</td>\n",
       "      <td>4.077553</td>\n",
       "      <td>3.180918</td>\n",
       "      <td>3.928265</td>\n",
       "      <td>4.188321</td>\n",
       "    </tr>\n",
       "    <tr>\n",
       "      <th>10</th>\n",
       "      <td>4.162022</td>\n",
       "      <td>4.319047</td>\n",
       "      <td>2.849602</td>\n",
       "      <td>3.875299</td>\n",
       "      <td>3.693823</td>\n",
       "    </tr>\n",
       "    <tr>\n",
       "      <th>11</th>\n",
       "      <td>3.853318</td>\n",
       "      <td>4.152436</td>\n",
       "      <td>3.369691</td>\n",
       "      <td>4.300937</td>\n",
       "      <td>3.995582</td>\n",
       "    </tr>\n",
       "    <tr>\n",
       "      <th>12</th>\n",
       "      <td>4.012490</td>\n",
       "      <td>3.729881</td>\n",
       "      <td>2.878483</td>\n",
       "      <td>3.699558</td>\n",
       "      <td>3.955336</td>\n",
       "    </tr>\n",
       "    <tr>\n",
       "      <th>13</th>\n",
       "      <td>3.970735</td>\n",
       "      <td>3.910789</td>\n",
       "      <td>3.019423</td>\n",
       "      <td>4.196728</td>\n",
       "      <td>4.034794</td>\n",
       "    </tr>\n",
       "    <tr>\n",
       "      <th>14</th>\n",
       "      <td>4.026135</td>\n",
       "      <td>4.390076</td>\n",
       "      <td>2.700693</td>\n",
       "      <td>4.119931</td>\n",
       "      <td>4.092884</td>\n",
       "    </tr>\n",
       "    <tr>\n",
       "      <th>15</th>\n",
       "      <td>4.009201</td>\n",
       "      <td>3.656301</td>\n",
       "      <td>3.058865</td>\n",
       "      <td>4.658829</td>\n",
       "      <td>4.071777</td>\n",
       "    </tr>\n",
       "    <tr>\n",
       "      <th>16</th>\n",
       "      <td>4.161052</td>\n",
       "      <td>3.779318</td>\n",
       "      <td>3.018308</td>\n",
       "      <td>4.121772</td>\n",
       "      <td>3.804711</td>\n",
       "    </tr>\n",
       "    <tr>\n",
       "      <th>17</th>\n",
       "      <td>3.865554</td>\n",
       "      <td>3.828305</td>\n",
       "      <td>3.340745</td>\n",
       "      <td>4.195127</td>\n",
       "      <td>3.798258</td>\n",
       "    </tr>\n",
       "    <tr>\n",
       "      <th>18</th>\n",
       "      <td>3.800071</td>\n",
       "      <td>3.759110</td>\n",
       "      <td>3.063902</td>\n",
       "      <td>4.200906</td>\n",
       "      <td>3.950274</td>\n",
       "    </tr>\n",
       "    <tr>\n",
       "      <th>19</th>\n",
       "      <td>4.103948</td>\n",
       "      <td>4.031903</td>\n",
       "      <td>3.222002</td>\n",
       "      <td>4.140327</td>\n",
       "      <td>4.093745</td>\n",
       "    </tr>\n",
       "    <tr>\n",
       "      <th>20</th>\n",
       "      <td>4.034917</td>\n",
       "      <td>4.049081</td>\n",
       "      <td>3.252594</td>\n",
       "      <td>4.075894</td>\n",
       "      <td>4.232639</td>\n",
       "    </tr>\n",
       "    <tr>\n",
       "      <th>21</th>\n",
       "      <td>4.072643</td>\n",
       "      <td>4.108479</td>\n",
       "      <td>2.997248</td>\n",
       "      <td>4.182065</td>\n",
       "      <td>4.210910</td>\n",
       "    </tr>\n",
       "    <tr>\n",
       "      <th>22</th>\n",
       "      <td>4.274558</td>\n",
       "      <td>3.820314</td>\n",
       "      <td>3.063729</td>\n",
       "      <td>3.906696</td>\n",
       "      <td>4.134732</td>\n",
       "    </tr>\n",
       "    <tr>\n",
       "      <th>23</th>\n",
       "      <td>4.024627</td>\n",
       "      <td>4.145125</td>\n",
       "      <td>2.874085</td>\n",
       "      <td>4.168049</td>\n",
       "      <td>4.179761</td>\n",
       "    </tr>\n",
       "    <tr>\n",
       "      <th>24</th>\n",
       "      <td>3.759968</td>\n",
       "      <td>3.937977</td>\n",
       "      <td>2.883260</td>\n",
       "      <td>4.337757</td>\n",
       "      <td>3.862138</td>\n",
       "    </tr>\n",
       "    <tr>\n",
       "      <th>25</th>\n",
       "      <td>4.180604</td>\n",
       "      <td>3.969944</td>\n",
       "      <td>3.199347</td>\n",
       "      <td>4.106161</td>\n",
       "      <td>3.899607</td>\n",
       "    </tr>\n",
       "    <tr>\n",
       "      <th>26</th>\n",
       "      <td>4.180886</td>\n",
       "      <td>3.737836</td>\n",
       "      <td>2.929509</td>\n",
       "      <td>3.879894</td>\n",
       "      <td>3.526520</td>\n",
       "    </tr>\n",
       "    <tr>\n",
       "      <th>27</th>\n",
       "      <td>4.008466</td>\n",
       "      <td>4.010123</td>\n",
       "      <td>2.817575</td>\n",
       "      <td>3.872797</td>\n",
       "      <td>3.877879</td>\n",
       "    </tr>\n",
       "    <tr>\n",
       "      <th>28</th>\n",
       "      <td>3.674619</td>\n",
       "      <td>4.024520</td>\n",
       "      <td>2.988188</td>\n",
       "      <td>3.821554</td>\n",
       "      <td>3.950519</td>\n",
       "    </tr>\n",
       "    <tr>\n",
       "      <th>29</th>\n",
       "      <td>3.997512</td>\n",
       "      <td>4.016861</td>\n",
       "      <td>3.123049</td>\n",
       "      <td>3.863346</td>\n",
       "      <td>3.780516</td>\n",
       "    </tr>\n",
       "    <tr>\n",
       "      <th>30</th>\n",
       "      <td>3.972785</td>\n",
       "      <td>3.889107</td>\n",
       "      <td>3.215729</td>\n",
       "      <td>4.428078</td>\n",
       "      <td>4.038197</td>\n",
       "    </tr>\n",
       "    <tr>\n",
       "      <th>31</th>\n",
       "      <td>4.047529</td>\n",
       "      <td>3.895754</td>\n",
       "      <td>2.694666</td>\n",
       "      <td>3.703896</td>\n",
       "      <td>3.839746</td>\n",
       "    </tr>\n",
       "    <tr>\n",
       "      <th>32</th>\n",
       "      <td>4.272731</td>\n",
       "      <td>4.144614</td>\n",
       "      <td>2.942496</td>\n",
       "      <td>3.678338</td>\n",
       "      <td>4.077167</td>\n",
       "    </tr>\n",
       "    <tr>\n",
       "      <th>33</th>\n",
       "      <td>4.208810</td>\n",
       "      <td>3.986245</td>\n",
       "      <td>3.256945</td>\n",
       "      <td>4.560600</td>\n",
       "      <td>4.223588</td>\n",
       "    </tr>\n",
       "    <tr>\n",
       "      <th>34</th>\n",
       "      <td>3.751995</td>\n",
       "      <td>3.807470</td>\n",
       "      <td>2.629917</td>\n",
       "      <td>4.451106</td>\n",
       "      <td>3.951206</td>\n",
       "    </tr>\n",
       "    <tr>\n",
       "      <th>35</th>\n",
       "      <td>4.134771</td>\n",
       "      <td>4.466167</td>\n",
       "      <td>3.319219</td>\n",
       "      <td>3.841851</td>\n",
       "      <td>4.088112</td>\n",
       "    </tr>\n",
       "    <tr>\n",
       "      <th>36</th>\n",
       "      <td>3.845993</td>\n",
       "      <td>4.111105</td>\n",
       "      <td>3.168304</td>\n",
       "      <td>3.906715</td>\n",
       "      <td>3.999116</td>\n",
       "    </tr>\n",
       "    <tr>\n",
       "      <th>37</th>\n",
       "      <td>4.208189</td>\n",
       "      <td>3.732048</td>\n",
       "      <td>3.083384</td>\n",
       "      <td>3.876288</td>\n",
       "      <td>3.904186</td>\n",
       "    </tr>\n",
       "    <tr>\n",
       "      <th>38</th>\n",
       "      <td>4.086215</td>\n",
       "      <td>3.783644</td>\n",
       "      <td>NaN</td>\n",
       "      <td>3.983379</td>\n",
       "      <td>4.120966</td>\n",
       "    </tr>\n",
       "    <tr>\n",
       "      <th>39</th>\n",
       "      <td>4.063735</td>\n",
       "      <td>3.765445</td>\n",
       "      <td>NaN</td>\n",
       "      <td>4.134712</td>\n",
       "      <td>4.019835</td>\n",
       "    </tr>\n",
       "    <tr>\n",
       "      <th>40</th>\n",
       "      <td>4.274712</td>\n",
       "      <td>4.209777</td>\n",
       "      <td>NaN</td>\n",
       "      <td>3.956139</td>\n",
       "      <td>NaN</td>\n",
       "    </tr>\n",
       "    <tr>\n",
       "      <th>41</th>\n",
       "      <td>3.898732</td>\n",
       "      <td>4.142810</td>\n",
       "      <td>NaN</td>\n",
       "      <td>4.126062</td>\n",
       "      <td>NaN</td>\n",
       "    </tr>\n",
       "    <tr>\n",
       "      <th>42</th>\n",
       "      <td>3.942084</td>\n",
       "      <td>3.709898</td>\n",
       "      <td>NaN</td>\n",
       "      <td>3.846899</td>\n",
       "      <td>NaN</td>\n",
       "    </tr>\n",
       "    <tr>\n",
       "      <th>43</th>\n",
       "      <td>3.995953</td>\n",
       "      <td>3.978468</td>\n",
       "      <td>NaN</td>\n",
       "      <td>3.885140</td>\n",
       "      <td>NaN</td>\n",
       "    </tr>\n",
       "    <tr>\n",
       "      <th>44</th>\n",
       "      <td>4.270949</td>\n",
       "      <td>4.116118</td>\n",
       "      <td>NaN</td>\n",
       "      <td>3.749110</td>\n",
       "      <td>NaN</td>\n",
       "    </tr>\n",
       "    <tr>\n",
       "      <th>45</th>\n",
       "      <td>3.820270</td>\n",
       "      <td>NaN</td>\n",
       "      <td>NaN</td>\n",
       "      <td>4.123029</td>\n",
       "      <td>NaN</td>\n",
       "    </tr>\n",
       "    <tr>\n",
       "      <th>46</th>\n",
       "      <td>4.148431</td>\n",
       "      <td>NaN</td>\n",
       "      <td>NaN</td>\n",
       "      <td>4.194143</td>\n",
       "      <td>NaN</td>\n",
       "    </tr>\n",
       "    <tr>\n",
       "      <th>47</th>\n",
       "      <td>3.680481</td>\n",
       "      <td>NaN</td>\n",
       "      <td>NaN</td>\n",
       "      <td>3.915037</td>\n",
       "      <td>NaN</td>\n",
       "    </tr>\n",
       "    <tr>\n",
       "      <th>48</th>\n",
       "      <td>3.888940</td>\n",
       "      <td>NaN</td>\n",
       "      <td>NaN</td>\n",
       "      <td>4.004520</td>\n",
       "      <td>NaN</td>\n",
       "    </tr>\n",
       "    <tr>\n",
       "      <th>49</th>\n",
       "      <td>3.859544</td>\n",
       "      <td>NaN</td>\n",
       "      <td>NaN</td>\n",
       "      <td>3.671699</td>\n",
       "      <td>NaN</td>\n",
       "    </tr>\n",
       "    <tr>\n",
       "      <th>50</th>\n",
       "      <td>3.861506</td>\n",
       "      <td>NaN</td>\n",
       "      <td>NaN</td>\n",
       "      <td>3.902418</td>\n",
       "      <td>NaN</td>\n",
       "    </tr>\n",
       "    <tr>\n",
       "      <th>51</th>\n",
       "      <td>4.002499</td>\n",
       "      <td>NaN</td>\n",
       "      <td>NaN</td>\n",
       "      <td>4.036150</td>\n",
       "      <td>NaN</td>\n",
       "    </tr>\n",
       "    <tr>\n",
       "      <th>52</th>\n",
       "      <td>NaN</td>\n",
       "      <td>NaN</td>\n",
       "      <td>NaN</td>\n",
       "      <td>3.807658</td>\n",
       "      <td>NaN</td>\n",
       "    </tr>\n",
       "  </tbody>\n",
       "</table>\n",
       "</div>"
      ],
      "text/plain": [
       "       drug1     drug2     drug3     drug4     drug5\n",
       "0   3.992387  3.831912  2.829696  3.821642  3.806897\n",
       "1   4.466517  4.006399  3.138025  4.131418  3.743768\n",
       "2   3.989314  3.781178  3.190763  4.216015  3.842467\n",
       "3   3.959203  3.770073  3.528980  3.929647  3.808784\n",
       "4   4.254620  4.069856  2.810602  3.755233  4.175210\n",
       "5   4.116391  4.311463  3.177036  4.044830  4.041540\n",
       "6   4.019596  3.555213  3.137701  3.800173  3.995685\n",
       "7   4.018418  3.760256  2.653506  4.004704  3.878371\n",
       "8   3.666364  4.183412  2.959149  3.924794  4.302382\n",
       "9   4.040865  4.077553  3.180918  3.928265  4.188321\n",
       "10  4.162022  4.319047  2.849602  3.875299  3.693823\n",
       "11  3.853318  4.152436  3.369691  4.300937  3.995582\n",
       "12  4.012490  3.729881  2.878483  3.699558  3.955336\n",
       "13  3.970735  3.910789  3.019423  4.196728  4.034794\n",
       "14  4.026135  4.390076  2.700693  4.119931  4.092884\n",
       "15  4.009201  3.656301  3.058865  4.658829  4.071777\n",
       "16  4.161052  3.779318  3.018308  4.121772  3.804711\n",
       "17  3.865554  3.828305  3.340745  4.195127  3.798258\n",
       "18  3.800071  3.759110  3.063902  4.200906  3.950274\n",
       "19  4.103948  4.031903  3.222002  4.140327  4.093745\n",
       "20  4.034917  4.049081  3.252594  4.075894  4.232639\n",
       "21  4.072643  4.108479  2.997248  4.182065  4.210910\n",
       "22  4.274558  3.820314  3.063729  3.906696  4.134732\n",
       "23  4.024627  4.145125  2.874085  4.168049  4.179761\n",
       "24  3.759968  3.937977  2.883260  4.337757  3.862138\n",
       "25  4.180604  3.969944  3.199347  4.106161  3.899607\n",
       "26  4.180886  3.737836  2.929509  3.879894  3.526520\n",
       "27  4.008466  4.010123  2.817575  3.872797  3.877879\n",
       "28  3.674619  4.024520  2.988188  3.821554  3.950519\n",
       "29  3.997512  4.016861  3.123049  3.863346  3.780516\n",
       "30  3.972785  3.889107  3.215729  4.428078  4.038197\n",
       "31  4.047529  3.895754  2.694666  3.703896  3.839746\n",
       "32  4.272731  4.144614  2.942496  3.678338  4.077167\n",
       "33  4.208810  3.986245  3.256945  4.560600  4.223588\n",
       "34  3.751995  3.807470  2.629917  4.451106  3.951206\n",
       "35  4.134771  4.466167  3.319219  3.841851  4.088112\n",
       "36  3.845993  4.111105  3.168304  3.906715  3.999116\n",
       "37  4.208189  3.732048  3.083384  3.876288  3.904186\n",
       "38  4.086215  3.783644       NaN  3.983379  4.120966\n",
       "39  4.063735  3.765445       NaN  4.134712  4.019835\n",
       "40  4.274712  4.209777       NaN  3.956139       NaN\n",
       "41  3.898732  4.142810       NaN  4.126062       NaN\n",
       "42  3.942084  3.709898       NaN  3.846899       NaN\n",
       "43  3.995953  3.978468       NaN  3.885140       NaN\n",
       "44  4.270949  4.116118       NaN  3.749110       NaN\n",
       "45  3.820270       NaN       NaN  4.123029       NaN\n",
       "46  4.148431       NaN       NaN  4.194143       NaN\n",
       "47  3.680481       NaN       NaN  3.915037       NaN\n",
       "48  3.888940       NaN       NaN  4.004520       NaN\n",
       "49  3.859544       NaN       NaN  3.671699       NaN\n",
       "50  3.861506       NaN       NaN  3.902418       NaN\n",
       "51  4.002499       NaN       NaN  4.036150       NaN\n",
       "52       NaN       NaN       NaN  3.807658       NaN"
      ]
     },
     "execution_count": 47,
     "metadata": {},
     "output_type": "execute_result"
    }
   ],
   "source": [
    "data"
   ]
  },
  {
   "cell_type": "code",
   "execution_count": 48,
   "id": "895ff314",
   "metadata": {},
   "outputs": [],
   "source": [
    "data = data.melt(value_name=\"RecoveryTime\",var_name=\"Drug\")"
   ]
  },
  {
   "cell_type": "code",
   "execution_count": 49,
   "id": "bb20773b",
   "metadata": {},
   "outputs": [],
   "source": [
    "data = data.dropna()"
   ]
  },
  {
   "cell_type": "code",
   "execution_count": 50,
   "id": "0a8cd2c1",
   "metadata": {},
   "outputs": [
    {
     "data": {
      "text/html": [
       "<div>\n",
       "<style scoped>\n",
       "    .dataframe tbody tr th:only-of-type {\n",
       "        vertical-align: middle;\n",
       "    }\n",
       "\n",
       "    .dataframe tbody tr th {\n",
       "        vertical-align: top;\n",
       "    }\n",
       "\n",
       "    .dataframe thead th {\n",
       "        text-align: right;\n",
       "    }\n",
       "</style>\n",
       "<table border=\"1\" class=\"dataframe\">\n",
       "  <thead>\n",
       "    <tr style=\"text-align: right;\">\n",
       "      <th></th>\n",
       "      <th>Drug</th>\n",
       "      <th>RecoveryTime</th>\n",
       "    </tr>\n",
       "  </thead>\n",
       "  <tbody>\n",
       "    <tr>\n",
       "      <th>0</th>\n",
       "      <td>drug1</td>\n",
       "      <td>3.992387</td>\n",
       "    </tr>\n",
       "    <tr>\n",
       "      <th>1</th>\n",
       "      <td>drug1</td>\n",
       "      <td>4.466517</td>\n",
       "    </tr>\n",
       "    <tr>\n",
       "      <th>2</th>\n",
       "      <td>drug1</td>\n",
       "      <td>3.989314</td>\n",
       "    </tr>\n",
       "    <tr>\n",
       "      <th>3</th>\n",
       "      <td>drug1</td>\n",
       "      <td>3.959203</td>\n",
       "    </tr>\n",
       "    <tr>\n",
       "      <th>4</th>\n",
       "      <td>drug1</td>\n",
       "      <td>4.254620</td>\n",
       "    </tr>\n",
       "    <tr>\n",
       "      <th>...</th>\n",
       "      <td>...</td>\n",
       "      <td>...</td>\n",
       "    </tr>\n",
       "    <tr>\n",
       "      <th>247</th>\n",
       "      <td>drug5</td>\n",
       "      <td>4.088112</td>\n",
       "    </tr>\n",
       "    <tr>\n",
       "      <th>248</th>\n",
       "      <td>drug5</td>\n",
       "      <td>3.999116</td>\n",
       "    </tr>\n",
       "    <tr>\n",
       "      <th>249</th>\n",
       "      <td>drug5</td>\n",
       "      <td>3.904186</td>\n",
       "    </tr>\n",
       "    <tr>\n",
       "      <th>250</th>\n",
       "      <td>drug5</td>\n",
       "      <td>4.120966</td>\n",
       "    </tr>\n",
       "    <tr>\n",
       "      <th>251</th>\n",
       "      <td>drug5</td>\n",
       "      <td>4.019835</td>\n",
       "    </tr>\n",
       "  </tbody>\n",
       "</table>\n",
       "<p>228 rows × 2 columns</p>\n",
       "</div>"
      ],
      "text/plain": [
       "      Drug  RecoveryTime\n",
       "0    drug1      3.992387\n",
       "1    drug1      4.466517\n",
       "2    drug1      3.989314\n",
       "3    drug1      3.959203\n",
       "4    drug1      4.254620\n",
       "..     ...           ...\n",
       "247  drug5      4.088112\n",
       "248  drug5      3.999116\n",
       "249  drug5      3.904186\n",
       "250  drug5      4.120966\n",
       "251  drug5      4.019835\n",
       "\n",
       "[228 rows x 2 columns]"
      ]
     },
     "execution_count": 50,
     "metadata": {},
     "output_type": "execute_result"
    }
   ],
   "source": [
    "data"
   ]
  },
  {
   "cell_type": "code",
   "execution_count": 51,
   "id": "54deec22",
   "metadata": {},
   "outputs": [
    {
     "data": {
      "text/html": [
       "<div>\n",
       "<style scoped>\n",
       "    .dataframe tbody tr th:only-of-type {\n",
       "        vertical-align: middle;\n",
       "    }\n",
       "\n",
       "    .dataframe tbody tr th {\n",
       "        vertical-align: top;\n",
       "    }\n",
       "\n",
       "    .dataframe thead th {\n",
       "        text-align: right;\n",
       "    }\n",
       "</style>\n",
       "<table border=\"1\" class=\"dataframe\">\n",
       "  <thead>\n",
       "    <tr style=\"text-align: right;\">\n",
       "      <th></th>\n",
       "      <th>sum_sq</th>\n",
       "      <th>df</th>\n",
       "      <th>F</th>\n",
       "      <th>PR(&gt;F)</th>\n",
       "    </tr>\n",
       "  </thead>\n",
       "  <tbody>\n",
       "    <tr>\n",
       "      <th>C(Drug)</th>\n",
       "      <td>29.103638</td>\n",
       "      <td>4.0</td>\n",
       "      <td>186.51607</td>\n",
       "      <td>6.257596e-70</td>\n",
       "    </tr>\n",
       "    <tr>\n",
       "      <th>Residual</th>\n",
       "      <td>8.699131</td>\n",
       "      <td>223.0</td>\n",
       "      <td>NaN</td>\n",
       "      <td>NaN</td>\n",
       "    </tr>\n",
       "  </tbody>\n",
       "</table>\n",
       "</div>"
      ],
      "text/plain": [
       "             sum_sq     df          F        PR(>F)\n",
       "C(Drug)   29.103638    4.0  186.51607  6.257596e-70\n",
       "Residual   8.699131  223.0        NaN           NaN"
      ]
     },
     "execution_count": 51,
     "metadata": {},
     "output_type": "execute_result"
    }
   ],
   "source": [
    "model = ols('RecoveryTime ~ C(Drug)', data=data).fit()\n",
    "aov_table = sm.stats.anova_lm(model, typ=2)\n",
    "aov_table"
   ]
  },
  {
   "cell_type": "code",
   "execution_count": 52,
   "id": "6d9c7287",
   "metadata": {},
   "outputs": [
    {
     "data": {
      "application/javascript": [
       "\n",
       "        if (window._pyforest_update_imports_cell) { window._pyforest_update_imports_cell('from scipy import stats'); }\n",
       "    "
      ],
      "text/plain": [
       "<IPython.core.display.Javascript object>"
      ]
     },
     "metadata": {},
     "output_type": "display_data"
    },
    {
     "data": {
      "text/html": [
       "<table class=\"simpletable\">\n",
       "<caption>Test Multiple Comparison ttest_ind \n",
       "FWER=0.05 method=bonf\n",
       "alphacSidak=0.01, alphacBonf=0.005</caption>\n",
       "<tr>\n",
       "  <th>group1</th> <th>group2</th>   <th>stat</th>    <th>pval</th>  <th>pval_corr</th> <th>reject</th>\n",
       "</tr>\n",
       "<tr>\n",
       "   <td>drug1</td>  <td>drug2</td>  <td>1.3576</td>  <td>0.1778</td>    <td>1.0</td>     <td>False</td>\n",
       "</tr>\n",
       "<tr>\n",
       "   <td>drug1</td>  <td>drug3</td>  <td>24.1844</td>   <td>0.0</td>     <td>0.0</td>     <td>True</td> \n",
       "</tr>\n",
       "<tr>\n",
       "   <td>drug1</td>  <td>drug4</td>  <td>-0.0543</td> <td>0.9568</td>    <td>1.0</td>     <td>False</td>\n",
       "</tr>\n",
       "<tr>\n",
       "   <td>drug1</td>  <td>drug5</td>  <td>1.0659</td>  <td>0.2893</td>    <td>1.0</td>     <td>False</td>\n",
       "</tr>\n",
       "<tr>\n",
       "   <td>drug2</td>  <td>drug3</td>  <td>20.1109</td>   <td>0.0</td>     <td>0.0</td>     <td>True</td> \n",
       "</tr>\n",
       "<tr>\n",
       "   <td>drug2</td>  <td>drug4</td>  <td>-1.2436</td> <td>0.2167</td>    <td>1.0</td>     <td>False</td>\n",
       "</tr>\n",
       "<tr>\n",
       "   <td>drug2</td>  <td>drug5</td>  <td>-0.3384</td> <td>0.7359</td>    <td>1.0</td>     <td>False</td>\n",
       "</tr>\n",
       "<tr>\n",
       "   <td>drug3</td>  <td>drug4</td> <td>-21.1598</td>   <td>0.0</td>     <td>0.0</td>     <td>True</td> \n",
       "</tr>\n",
       "<tr>\n",
       "   <td>drug3</td>  <td>drug5</td> <td>-21.7425</td>   <td>0.0</td>     <td>0.0</td>     <td>True</td> \n",
       "</tr>\n",
       "<tr>\n",
       "   <td>drug4</td>  <td>drug5</td>   <td>0.957</td>  <td>0.3411</td>    <td>1.0</td>     <td>False</td>\n",
       "</tr>\n",
       "</table>"
      ],
      "text/plain": [
       "<class 'statsmodels.iolib.table.SimpleTable'>"
      ]
     },
     "execution_count": 52,
     "metadata": {},
     "output_type": "execute_result"
    }
   ],
   "source": [
    "\n",
    "comp = mc.MultiComparison(data['RecoveryTime'], data[\"Drug\"])\n",
    "tbl, a1, a2 = comp.allpairtest(stats.ttest_ind, method= \"bonf\")\n",
    "\n",
    "tbl"
   ]
  },
  {
   "cell_type": "code",
   "execution_count": 53,
   "id": "c4b4391c",
   "metadata": {},
   "outputs": [
    {
     "data": {
      "text/html": [
       "<table class=\"simpletable\">\n",
       "<caption>Multiple Comparison of Means - Tukey HSD, FWER=0.05</caption>\n",
       "<tr>\n",
       "  <th>group1</th> <th>group2</th> <th>meandiff</th>  <th>p-adj</th>  <th>lower</th>   <th>upper</th>  <th>reject</th>\n",
       "</tr>\n",
       "<tr>\n",
       "   <td>drug1</td>  <td>drug2</td>  <td>-0.0521</td> <td>0.6705</td> <td>-0.1627</td> <td>0.0585</td>   <td>False</td>\n",
       "</tr>\n",
       "<tr>\n",
       "   <td>drug1</td>  <td>drug3</td>  <td>-0.9767</td>  <td>0.001</td> <td>-1.0926</td> <td>-0.8608</td>  <td>True</td> \n",
       "</tr>\n",
       "<tr>\n",
       "   <td>drug1</td>  <td>drug4</td>  <td>0.0021</td>    <td>0.9</td>  <td>-0.1039</td> <td>0.1081</td>   <td>False</td>\n",
       "</tr>\n",
       "<tr>\n",
       "   <td>drug1</td>  <td>drug5</td>  <td>-0.0382</td> <td>0.8835</td> <td>-0.1524</td> <td>0.0761</td>   <td>False</td>\n",
       "</tr>\n",
       "<tr>\n",
       "   <td>drug2</td>  <td>drug3</td>  <td>-0.9246</td>  <td>0.001</td> <td>-1.0443</td> <td>-0.8049</td>  <td>True</td> \n",
       "</tr>\n",
       "<tr>\n",
       "   <td>drug2</td>  <td>drug4</td>  <td>0.0542</td>  <td>0.6376</td> <td>-0.0559</td> <td>0.1643</td>   <td>False</td>\n",
       "</tr>\n",
       "<tr>\n",
       "   <td>drug2</td>  <td>drug5</td>  <td>0.0139</td>    <td>0.9</td>  <td>-0.1041</td>  <td>0.132</td>   <td>False</td>\n",
       "</tr>\n",
       "<tr>\n",
       "   <td>drug3</td>  <td>drug4</td>  <td>0.9788</td>   <td>0.001</td> <td>0.8634</td>  <td>1.0943</td>   <td>True</td> \n",
       "</tr>\n",
       "<tr>\n",
       "   <td>drug3</td>  <td>drug5</td>  <td>0.9386</td>   <td>0.001</td> <td>0.8155</td>  <td>1.0616</td>   <td>True</td> \n",
       "</tr>\n",
       "<tr>\n",
       "   <td>drug4</td>  <td>drug5</td>  <td>-0.0403</td> <td>0.8526</td> <td>-0.154</td>  <td>0.0735</td>   <td>False</td>\n",
       "</tr>\n",
       "</table>"
      ],
      "text/plain": [
       "<class 'statsmodels.iolib.table.SimpleTable'>"
      ]
     },
     "execution_count": 53,
     "metadata": {},
     "output_type": "execute_result"
    }
   ],
   "source": [
    "import statsmodels.stats.multicomp as mc\n",
    "\n",
    "comp = mc.MultiComparison(data['RecoveryTime'], data[\"Drug\"])\n",
    "post_hoc_res = comp.tukeyhsd()\n",
    "post_hoc_res.summary()"
   ]
  },
  {
   "cell_type": "code",
   "execution_count": 55,
   "id": "e302d50c",
   "metadata": {},
   "outputs": [
    {
     "data": {
      "image/png": "[encoded data removed]",
      "text/plain": [
       "<Figure size 720x432 with 1 Axes>"
      ]
     },
     "metadata": {
      "needs_background": "light"
     },
     "output_type": "display_data"
    }
   ],
   "source": [
    "post_hoc_res.plot_simultaneous(ylabel= \"Drug\", xlabel= \"Score Difference\")\n",
    "plt.show()"
   ]
  },
  {
   "cell_type": "code",
   "execution_count": null,
   "id": "fabd35c6",
   "metadata": {},
   "outputs": [],
   "source": []
  },
  {
   "cell_type": "code",
   "execution_count": null,
   "id": "a2a83366",
   "metadata": {},
   "outputs": [],
   "source": []
  },
  {
   "cell_type": "code",
   "execution_count": null,
   "id": "6c2450bc",
   "metadata": {},
   "outputs": [],
   "source": []
  },
  {
   "cell_type": "code",
   "execution_count": null,
   "id": "7f0b02f7",
   "metadata": {},
   "outputs": [],
   "source": []
  },
  {
   "cell_type": "code",
   "execution_count": null,
   "id": "05f60cc9",
   "metadata": {},
   "outputs": [],
   "source": []
  },
  {
   "cell_type": "code",
   "execution_count": null,
   "id": "d95c3bf2",
   "metadata": {},
   "outputs": [],
   "source": []
  },
  {
   "cell_type": "markdown",
   "id": "ceb49085",
   "metadata": {},
   "source": [
    "# CDF"
   ]
  },
  {
   "cell_type": "code",
   "execution_count": 84,
   "id": "32db175a",
   "metadata": {},
   "outputs": [
    {
     "data": {
      "application/javascript": [
       "\n",
       "        if (window._pyforest_update_imports_cell) { window._pyforest_update_imports_cell('from scipy import stats'); }\n",
       "    "
      ],
      "text/plain": [
       "<IPython.core.display.Javascript object>"
      ]
     },
     "metadata": {},
     "output_type": "display_data"
    }
   ],
   "source": [
    "df = pd.DataFrame(stats.norm.rvs(75,10,50),columns=[\"Weights\"])"
   ]
  },
  {
   "cell_type": "code",
   "execution_count": 85,
   "id": "d79ebc16",
   "metadata": {},
   "outputs": [],
   "source": [
    "df.sort_values(by=\"Weights\",inplace=True)"
   ]
  },
  {
   "cell_type": "code",
   "execution_count": 86,
   "id": "4ab1f477",
   "metadata": {},
   "outputs": [
    {
     "data": {
      "text/html": [
       "<div>\n",
       "<style scoped>\n",
       "    .dataframe tbody tr th:only-of-type {\n",
       "        vertical-align: middle;\n",
       "    }\n",
       "\n",
       "    .dataframe tbody tr th {\n",
       "        vertical-align: top;\n",
       "    }\n",
       "\n",
       "    .dataframe thead th {\n",
       "        text-align: right;\n",
       "    }\n",
       "</style>\n",
       "<table border=\"1\" class=\"dataframe\">\n",
       "  <thead>\n",
       "    <tr style=\"text-align: right;\">\n",
       "      <th></th>\n",
       "      <th>Weights</th>\n",
       "    </tr>\n",
       "  </thead>\n",
       "  <tbody>\n",
       "    <tr>\n",
       "      <th>23</th>\n",
       "      <td>55.690659</td>\n",
       "    </tr>\n",
       "    <tr>\n",
       "      <th>35</th>\n",
       "      <td>61.904456</td>\n",
       "    </tr>\n",
       "    <tr>\n",
       "      <th>39</th>\n",
       "      <td>62.293961</td>\n",
       "    </tr>\n",
       "    <tr>\n",
       "      <th>27</th>\n",
       "      <td>62.489425</td>\n",
       "    </tr>\n",
       "    <tr>\n",
       "      <th>4</th>\n",
       "      <td>62.581391</td>\n",
       "    </tr>\n",
       "    <tr>\n",
       "      <th>30</th>\n",
       "      <td>62.791240</td>\n",
       "    </tr>\n",
       "    <tr>\n",
       "      <th>11</th>\n",
       "      <td>62.990685</td>\n",
       "    </tr>\n",
       "    <tr>\n",
       "      <th>22</th>\n",
       "      <td>64.167038</td>\n",
       "    </tr>\n",
       "    <tr>\n",
       "      <th>19</th>\n",
       "      <td>64.646911</td>\n",
       "    </tr>\n",
       "    <tr>\n",
       "      <th>40</th>\n",
       "      <td>65.491897</td>\n",
       "    </tr>\n",
       "    <tr>\n",
       "      <th>17</th>\n",
       "      <td>65.514544</td>\n",
       "    </tr>\n",
       "    <tr>\n",
       "      <th>14</th>\n",
       "      <td>67.428219</td>\n",
       "    </tr>\n",
       "    <tr>\n",
       "      <th>15</th>\n",
       "      <td>68.198115</td>\n",
       "    </tr>\n",
       "    <tr>\n",
       "      <th>5</th>\n",
       "      <td>68.685982</td>\n",
       "    </tr>\n",
       "    <tr>\n",
       "      <th>41</th>\n",
       "      <td>69.136412</td>\n",
       "    </tr>\n",
       "    <tr>\n",
       "      <th>48</th>\n",
       "      <td>69.509925</td>\n",
       "    </tr>\n",
       "    <tr>\n",
       "      <th>46</th>\n",
       "      <td>69.876451</td>\n",
       "    </tr>\n",
       "    <tr>\n",
       "      <th>37</th>\n",
       "      <td>70.355179</td>\n",
       "    </tr>\n",
       "    <tr>\n",
       "      <th>6</th>\n",
       "      <td>70.386624</td>\n",
       "    </tr>\n",
       "    <tr>\n",
       "      <th>33</th>\n",
       "      <td>71.128129</td>\n",
       "    </tr>\n",
       "    <tr>\n",
       "      <th>31</th>\n",
       "      <td>71.925577</td>\n",
       "    </tr>\n",
       "    <tr>\n",
       "      <th>20</th>\n",
       "      <td>72.124513</td>\n",
       "    </tr>\n",
       "    <tr>\n",
       "      <th>42</th>\n",
       "      <td>72.929403</td>\n",
       "    </tr>\n",
       "    <tr>\n",
       "      <th>36</th>\n",
       "      <td>73.602502</td>\n",
       "    </tr>\n",
       "    <tr>\n",
       "      <th>45</th>\n",
       "      <td>74.395462</td>\n",
       "    </tr>\n",
       "    <tr>\n",
       "      <th>18</th>\n",
       "      <td>74.750262</td>\n",
       "    </tr>\n",
       "    <tr>\n",
       "      <th>32</th>\n",
       "      <td>74.839577</td>\n",
       "    </tr>\n",
       "    <tr>\n",
       "      <th>13</th>\n",
       "      <td>75.708876</td>\n",
       "    </tr>\n",
       "    <tr>\n",
       "      <th>9</th>\n",
       "      <td>77.144673</td>\n",
       "    </tr>\n",
       "    <tr>\n",
       "      <th>21</th>\n",
       "      <td>78.224345</td>\n",
       "    </tr>\n",
       "    <tr>\n",
       "      <th>28</th>\n",
       "      <td>78.500274</td>\n",
       "    </tr>\n",
       "    <tr>\n",
       "      <th>10</th>\n",
       "      <td>78.620338</td>\n",
       "    </tr>\n",
       "    <tr>\n",
       "      <th>2</th>\n",
       "      <td>78.848082</td>\n",
       "    </tr>\n",
       "    <tr>\n",
       "      <th>44</th>\n",
       "      <td>79.161176</td>\n",
       "    </tr>\n",
       "    <tr>\n",
       "      <th>47</th>\n",
       "      <td>79.181785</td>\n",
       "    </tr>\n",
       "    <tr>\n",
       "      <th>49</th>\n",
       "      <td>79.714682</td>\n",
       "    </tr>\n",
       "    <tr>\n",
       "      <th>16</th>\n",
       "      <td>79.827180</td>\n",
       "    </tr>\n",
       "    <tr>\n",
       "      <th>25</th>\n",
       "      <td>80.276819</td>\n",
       "    </tr>\n",
       "    <tr>\n",
       "      <th>1</th>\n",
       "      <td>80.599566</td>\n",
       "    </tr>\n",
       "    <tr>\n",
       "      <th>3</th>\n",
       "      <td>81.305373</td>\n",
       "    </tr>\n",
       "    <tr>\n",
       "      <th>12</th>\n",
       "      <td>81.479213</td>\n",
       "    </tr>\n",
       "    <tr>\n",
       "      <th>29</th>\n",
       "      <td>81.687650</td>\n",
       "    </tr>\n",
       "    <tr>\n",
       "      <th>8</th>\n",
       "      <td>82.295746</td>\n",
       "    </tr>\n",
       "    <tr>\n",
       "      <th>26</th>\n",
       "      <td>83.386803</td>\n",
       "    </tr>\n",
       "    <tr>\n",
       "      <th>38</th>\n",
       "      <td>84.748249</td>\n",
       "    </tr>\n",
       "    <tr>\n",
       "      <th>43</th>\n",
       "      <td>85.905712</td>\n",
       "    </tr>\n",
       "    <tr>\n",
       "      <th>7</th>\n",
       "      <td>89.156820</td>\n",
       "    </tr>\n",
       "    <tr>\n",
       "      <th>34</th>\n",
       "      <td>90.845188</td>\n",
       "    </tr>\n",
       "    <tr>\n",
       "      <th>24</th>\n",
       "      <td>92.711962</td>\n",
       "    </tr>\n",
       "    <tr>\n",
       "      <th>0</th>\n",
       "      <td>101.423148</td>\n",
       "    </tr>\n",
       "  </tbody>\n",
       "</table>\n",
       "</div>"
      ],
      "text/plain": [
       "       Weights\n",
       "23   55.690659\n",
       "35   61.904456\n",
       "39   62.293961\n",
       "27   62.489425\n",
       "4    62.581391\n",
       "30   62.791240\n",
       "11   62.990685\n",
       "22   64.167038\n",
       "19   64.646911\n",
       "40   65.491897\n",
       "17   65.514544\n",
       "14   67.428219\n",
       "15   68.198115\n",
       "5    68.685982\n",
       "41   69.136412\n",
       "48   69.509925\n",
       "46   69.876451\n",
       "37   70.355179\n",
       "6    70.386624\n",
       "33   71.128129\n",
       "31   71.925577\n",
       "20   72.124513\n",
       "42   72.929403\n",
       "36   73.602502\n",
       "45   74.395462\n",
       "18   74.750262\n",
       "32   74.839577\n",
       "13   75.708876\n",
       "9    77.144673\n",
       "21   78.224345\n",
       "28   78.500274\n",
       "10   78.620338\n",
       "2    78.848082\n",
       "44   79.161176\n",
       "47   79.181785\n",
       "49   79.714682\n",
       "16   79.827180\n",
       "25   80.276819\n",
       "1    80.599566\n",
       "3    81.305373\n",
       "12   81.479213\n",
       "29   81.687650\n",
       "8    82.295746\n",
       "26   83.386803\n",
       "38   84.748249\n",
       "43   85.905712\n",
       "7    89.156820\n",
       "34   90.845188\n",
       "24   92.711962\n",
       "0   101.423148"
      ]
     },
     "execution_count": 86,
     "metadata": {},
     "output_type": "execute_result"
    }
   ],
   "source": [
    "df"
   ]
  },
  {
   "cell_type": "code",
   "execution_count": 87,
   "id": "bb121c9a",
   "metadata": {},
   "outputs": [],
   "source": [
    "df[\"Count\"] = np.arange(1,51)"
   ]
  },
  {
   "cell_type": "code",
   "execution_count": 88,
   "id": "8d307ad0",
   "metadata": {},
   "outputs": [
    {
     "data": {
      "text/html": [
       "<div>\n",
       "<style scoped>\n",
       "    .dataframe tbody tr th:only-of-type {\n",
       "        vertical-align: middle;\n",
       "    }\n",
       "\n",
       "    .dataframe tbody tr th {\n",
       "        vertical-align: top;\n",
       "    }\n",
       "\n",
       "    .dataframe thead th {\n",
       "        text-align: right;\n",
       "    }\n",
       "</style>\n",
       "<table border=\"1\" class=\"dataframe\">\n",
       "  <thead>\n",
       "    <tr style=\"text-align: right;\">\n",
       "      <th></th>\n",
       "      <th>Weights</th>\n",
       "      <th>Count</th>\n",
       "    </tr>\n",
       "  </thead>\n",
       "  <tbody>\n",
       "    <tr>\n",
       "      <th>23</th>\n",
       "      <td>55.690659</td>\n",
       "      <td>1</td>\n",
       "    </tr>\n",
       "    <tr>\n",
       "      <th>35</th>\n",
       "      <td>61.904456</td>\n",
       "      <td>2</td>\n",
       "    </tr>\n",
       "    <tr>\n",
       "      <th>39</th>\n",
       "      <td>62.293961</td>\n",
       "      <td>3</td>\n",
       "    </tr>\n",
       "    <tr>\n",
       "      <th>27</th>\n",
       "      <td>62.489425</td>\n",
       "      <td>4</td>\n",
       "    </tr>\n",
       "    <tr>\n",
       "      <th>4</th>\n",
       "      <td>62.581391</td>\n",
       "      <td>5</td>\n",
       "    </tr>\n",
       "  </tbody>\n",
       "</table>\n",
       "</div>"
      ],
      "text/plain": [
       "      Weights  Count\n",
       "23  55.690659      1\n",
       "35  61.904456      2\n",
       "39  62.293961      3\n",
       "27  62.489425      4\n",
       "4   62.581391      5"
      ]
     },
     "execution_count": 88,
     "metadata": {},
     "output_type": "execute_result"
    }
   ],
   "source": [
    "df.head()"
   ]
  },
  {
   "cell_type": "code",
   "execution_count": 89,
   "id": "9f1d24fb",
   "metadata": {},
   "outputs": [],
   "source": [
    "df[\"percentiles\"] = df[\"Count\"]/50"
   ]
  },
  {
   "cell_type": "code",
   "execution_count": 90,
   "id": "23aa9fea",
   "metadata": {},
   "outputs": [
    {
     "data": {
      "text/html": [
       "<div>\n",
       "<style scoped>\n",
       "    .dataframe tbody tr th:only-of-type {\n",
       "        vertical-align: middle;\n",
       "    }\n",
       "\n",
       "    .dataframe tbody tr th {\n",
       "        vertical-align: top;\n",
       "    }\n",
       "\n",
       "    .dataframe thead th {\n",
       "        text-align: right;\n",
       "    }\n",
       "</style>\n",
       "<table border=\"1\" class=\"dataframe\">\n",
       "  <thead>\n",
       "    <tr style=\"text-align: right;\">\n",
       "      <th></th>\n",
       "      <th>Weights</th>\n",
       "      <th>Count</th>\n",
       "      <th>percentiles</th>\n",
       "    </tr>\n",
       "  </thead>\n",
       "  <tbody>\n",
       "    <tr>\n",
       "      <th>23</th>\n",
       "      <td>55.690659</td>\n",
       "      <td>1</td>\n",
       "      <td>0.02</td>\n",
       "    </tr>\n",
       "    <tr>\n",
       "      <th>35</th>\n",
       "      <td>61.904456</td>\n",
       "      <td>2</td>\n",
       "      <td>0.04</td>\n",
       "    </tr>\n",
       "    <tr>\n",
       "      <th>39</th>\n",
       "      <td>62.293961</td>\n",
       "      <td>3</td>\n",
       "      <td>0.06</td>\n",
       "    </tr>\n",
       "    <tr>\n",
       "      <th>27</th>\n",
       "      <td>62.489425</td>\n",
       "      <td>4</td>\n",
       "      <td>0.08</td>\n",
       "    </tr>\n",
       "    <tr>\n",
       "      <th>4</th>\n",
       "      <td>62.581391</td>\n",
       "      <td>5</td>\n",
       "      <td>0.10</td>\n",
       "    </tr>\n",
       "  </tbody>\n",
       "</table>\n",
       "</div>"
      ],
      "text/plain": [
       "      Weights  Count  percentiles\n",
       "23  55.690659      1         0.02\n",
       "35  61.904456      2         0.04\n",
       "39  62.293961      3         0.06\n",
       "27  62.489425      4         0.08\n",
       "4   62.581391      5         0.10"
      ]
     },
     "execution_count": 90,
     "metadata": {},
     "output_type": "execute_result"
    }
   ],
   "source": [
    "df.head()"
   ]
  },
  {
   "cell_type": "code",
   "execution_count": 91,
   "id": "4fba0833",
   "metadata": {},
   "outputs": [],
   "source": [
    "df[\"Z_emperical\"] = (df[\"Weights\"]-df[\"Weights\"].mean())/df[\"Weights\"].std()"
   ]
  },
  {
   "cell_type": "code",
   "execution_count": 92,
   "id": "8e7f25b2",
   "metadata": {},
   "outputs": [
    {
     "data": {
      "text/html": [
       "<div>\n",
       "<style scoped>\n",
       "    .dataframe tbody tr th:only-of-type {\n",
       "        vertical-align: middle;\n",
       "    }\n",
       "\n",
       "    .dataframe tbody tr th {\n",
       "        vertical-align: top;\n",
       "    }\n",
       "\n",
       "    .dataframe thead th {\n",
       "        text-align: right;\n",
       "    }\n",
       "</style>\n",
       "<table border=\"1\" class=\"dataframe\">\n",
       "  <thead>\n",
       "    <tr style=\"text-align: right;\">\n",
       "      <th></th>\n",
       "      <th>Weights</th>\n",
       "      <th>Count</th>\n",
       "      <th>percentiles</th>\n",
       "      <th>Z_emperical</th>\n",
       "    </tr>\n",
       "  </thead>\n",
       "  <tbody>\n",
       "    <tr>\n",
       "      <th>23</th>\n",
       "      <td>55.690659</td>\n",
       "      <td>1</td>\n",
       "      <td>0.02</td>\n",
       "      <td>-2.056916</td>\n",
       "    </tr>\n",
       "    <tr>\n",
       "      <th>35</th>\n",
       "      <td>61.904456</td>\n",
       "      <td>2</td>\n",
       "      <td>0.04</td>\n",
       "      <td>-1.381413</td>\n",
       "    </tr>\n",
       "    <tr>\n",
       "      <th>39</th>\n",
       "      <td>62.293961</td>\n",
       "      <td>3</td>\n",
       "      <td>0.06</td>\n",
       "      <td>-1.339070</td>\n",
       "    </tr>\n",
       "    <tr>\n",
       "      <th>27</th>\n",
       "      <td>62.489425</td>\n",
       "      <td>4</td>\n",
       "      <td>0.08</td>\n",
       "      <td>-1.317821</td>\n",
       "    </tr>\n",
       "    <tr>\n",
       "      <th>4</th>\n",
       "      <td>62.581391</td>\n",
       "      <td>5</td>\n",
       "      <td>0.10</td>\n",
       "      <td>-1.307824</td>\n",
       "    </tr>\n",
       "  </tbody>\n",
       "</table>\n",
       "</div>"
      ],
      "text/plain": [
       "      Weights  Count  percentiles  Z_emperical\n",
       "23  55.690659      1         0.02    -2.056916\n",
       "35  61.904456      2         0.04    -1.381413\n",
       "39  62.293961      3         0.06    -1.339070\n",
       "27  62.489425      4         0.08    -1.317821\n",
       "4   62.581391      5         0.10    -1.307824"
      ]
     },
     "execution_count": 92,
     "metadata": {},
     "output_type": "execute_result"
    }
   ],
   "source": [
    "df.head()"
   ]
  },
  {
   "cell_type": "code",
   "execution_count": 93,
   "id": "1b86d9ba",
   "metadata": {},
   "outputs": [
    {
     "data": {
      "application/javascript": [
       "\n",
       "        if (window._pyforest_update_imports_cell) { window._pyforest_update_imports_cell('from scipy import stats'); }\n",
       "    "
      ],
      "text/plain": [
       "<IPython.core.display.Javascript object>"
      ]
     },
     "metadata": {},
     "output_type": "display_data"
    }
   ],
   "source": [
    "df[\"Z_theoretical\"] = stats.norm.ppf(df[\"percentiles\"])"
   ]
  },
  {
   "cell_type": "code",
   "execution_count": 94,
   "id": "61af11b5",
   "metadata": {},
   "outputs": [
    {
     "data": {
      "text/html": [
       "<div>\n",
       "<style scoped>\n",
       "    .dataframe tbody tr th:only-of-type {\n",
       "        vertical-align: middle;\n",
       "    }\n",
       "\n",
       "    .dataframe tbody tr th {\n",
       "        vertical-align: top;\n",
       "    }\n",
       "\n",
       "    .dataframe thead th {\n",
       "        text-align: right;\n",
       "    }\n",
       "</style>\n",
       "<table border=\"1\" class=\"dataframe\">\n",
       "  <thead>\n",
       "    <tr style=\"text-align: right;\">\n",
       "      <th></th>\n",
       "      <th>Weights</th>\n",
       "      <th>Count</th>\n",
       "      <th>percentiles</th>\n",
       "      <th>Z_emperical</th>\n",
       "      <th>Z_theoretical</th>\n",
       "    </tr>\n",
       "  </thead>\n",
       "  <tbody>\n",
       "    <tr>\n",
       "      <th>23</th>\n",
       "      <td>55.690659</td>\n",
       "      <td>1</td>\n",
       "      <td>0.02</td>\n",
       "      <td>-2.056916</td>\n",
       "      <td>-2.053749</td>\n",
       "    </tr>\n",
       "    <tr>\n",
       "      <th>35</th>\n",
       "      <td>61.904456</td>\n",
       "      <td>2</td>\n",
       "      <td>0.04</td>\n",
       "      <td>-1.381413</td>\n",
       "      <td>-1.750686</td>\n",
       "    </tr>\n",
       "    <tr>\n",
       "      <th>39</th>\n",
       "      <td>62.293961</td>\n",
       "      <td>3</td>\n",
       "      <td>0.06</td>\n",
       "      <td>-1.339070</td>\n",
       "      <td>-1.554774</td>\n",
       "    </tr>\n",
       "    <tr>\n",
       "      <th>27</th>\n",
       "      <td>62.489425</td>\n",
       "      <td>4</td>\n",
       "      <td>0.08</td>\n",
       "      <td>-1.317821</td>\n",
       "      <td>-1.405072</td>\n",
       "    </tr>\n",
       "    <tr>\n",
       "      <th>4</th>\n",
       "      <td>62.581391</td>\n",
       "      <td>5</td>\n",
       "      <td>0.10</td>\n",
       "      <td>-1.307824</td>\n",
       "      <td>-1.281552</td>\n",
       "    </tr>\n",
       "  </tbody>\n",
       "</table>\n",
       "</div>"
      ],
      "text/plain": [
       "      Weights  Count  percentiles  Z_emperical  Z_theoretical\n",
       "23  55.690659      1         0.02    -2.056916      -2.053749\n",
       "35  61.904456      2         0.04    -1.381413      -1.750686\n",
       "39  62.293961      3         0.06    -1.339070      -1.554774\n",
       "27  62.489425      4         0.08    -1.317821      -1.405072\n",
       "4   62.581391      5         0.10    -1.307824      -1.281552"
      ]
     },
     "execution_count": 94,
     "metadata": {},
     "output_type": "execute_result"
    }
   ],
   "source": [
    "df.head()"
   ]
  },
  {
   "cell_type": "code",
   "execution_count": 98,
   "id": "cbe83205",
   "metadata": {},
   "outputs": [
    {
     "data": {
      "text/plain": [
       "[<matplotlib.lines.Line2D at 0x26bcc1b0220>]"
      ]
     },
     "execution_count": 98,
     "metadata": {},
     "output_type": "execute_result"
    },
    {
     "data": {
      "image/png": "[encoded data removed]",
      "text/plain": [
       "<Figure size 432x288 with 1 Axes>"
      ]
     },
     "metadata": {
      "needs_background": "light"
     },
     "output_type": "display_data"
    }
   ],
   "source": [
    "sns.scatterplot(y=df[\"Z_emperical\"],\n",
    "               x = df[\"Z_theoretical\"])\n",
    "plt.plot([-2,-1,0,1,2],[-2,-1,0,1,2])"
   ]
  },
  {
   "cell_type": "code",
   "execution_count": 97,
   "id": "24f27a36",
   "metadata": {},
   "outputs": [
    {
     "data": {
      "image/png": "[encoded data removed]",
      "text/plain": [
       "<Figure size 432x288 with 1 Axes>"
      ]
     },
     "execution_count": 97,
     "metadata": {},
     "output_type": "execute_result"
    },
    {
     "data": {
      "image/png": "[encoded data removed]",
      "text/plain": [
       "<Figure size 432x288 with 1 Axes>"
      ]
     },
     "metadata": {
      "needs_background": "light"
     },
     "output_type": "display_data"
    }
   ],
   "source": [
    "sm.qqplot(df[\"Weights\"])"
   ]
  },
  {
   "cell_type": "code",
   "execution_count": null,
   "id": "8f2985ca",
   "metadata": {},
   "outputs": [],
   "source": []
  },
  {
   "cell_type": "code",
   "execution_count": null,
   "id": "6cb4c9ae",
   "metadata": {},
   "outputs": [],
   "source": []
  },
  {
   "cell_type": "code",
   "execution_count": null,
   "id": "8ff9062f",
   "metadata": {},
   "outputs": [],
   "source": []
  },
  {
   "cell_type": "code",
   "execution_count": null,
   "id": "91bfdc89",
   "metadata": {},
   "outputs": [],
   "source": []
  },
  {
   "cell_type": "code",
   "execution_count": null,
   "id": "fffcc1e1",
   "metadata": {},
   "outputs": [],
   "source": []
  },
  {
   "cell_type": "code",
   "execution_count": null,
   "id": "99952b3b",
   "metadata": {},
   "outputs": [],
   "source": []
  },
  {
   "cell_type": "code",
   "execution_count": null,
   "id": "8ad0b152",
   "metadata": {},
   "outputs": [],
   "source": []
  },
  {
   "cell_type": "code",
   "execution_count": null,
   "id": "b1aa034d",
   "metadata": {},
   "outputs": [],
   "source": []
  },
  {
   "cell_type": "code",
   "execution_count": null,
   "id": "4548e239",
   "metadata": {},
   "outputs": [],
   "source": []
  },
  {
   "cell_type": "code",
   "execution_count": null,
   "id": "d0f2454f",
   "metadata": {},
   "outputs": [],
   "source": []
  },
  {
   "cell_type": "code",
   "execution_count": null,
   "id": "506c1969",
   "metadata": {},
   "outputs": [],
   "source": []
  },
  {
   "cell_type": "code",
   "execution_count": null,
   "id": "e50b8a1d",
   "metadata": {},
   "outputs": [],
   "source": []
  },
  {
   "cell_type": "code",
   "execution_count": null,
   "id": "e46faaec",
   "metadata": {},
   "outputs": [],
   "source": []
  },
  {
   "cell_type": "code",
   "execution_count": null,
   "id": "d4fa9a28",
   "metadata": {},
   "outputs": [],
   "source": []
  },
  {
   "cell_type": "code",
   "execution_count": null,
   "id": "392f1f90",
   "metadata": {},
   "outputs": [],
   "source": []
  },
  {
   "cell_type": "code",
   "execution_count": null,
   "id": "4fc7c80b",
   "metadata": {},
   "outputs": [],
   "source": []
  },
  {
   "cell_type": "code",
   "execution_count": null,
   "id": "655ed2ff",
   "metadata": {},
   "outputs": [],
   "source": []
  },
  {
   "cell_type": "code",
   "execution_count": null,
   "id": "39bf99be",
   "metadata": {},
   "outputs": [],
   "source": []
  },
  {
   "cell_type": "code",
   "execution_count": null,
   "id": "4e7f234a",
   "metadata": {},
   "outputs": [],
   "source": []
  },
  {
   "cell_type": "code",
   "execution_count": null,
   "id": "fccbf7c2",
   "metadata": {},
   "outputs": [],
   "source": []
  },
  {
   "cell_type": "code",
   "execution_count": null,
   "id": "a98cc6d4",
   "metadata": {},
   "outputs": [],
   "source": []
  },
  {
   "cell_type": "code",
   "execution_count": null,
   "id": "89b89d38",
   "metadata": {},
   "outputs": [],
   "source": []
  },
  {
   "cell_type": "code",
   "execution_count": null,
   "id": "9a206967",
   "metadata": {},
   "outputs": [],
   "source": []
  },
  {
   "cell_type": "code",
   "execution_count": null,
   "id": "0224e85b",
   "metadata": {},
   "outputs": [],
   "source": []
  },
  {
   "cell_type": "code",
   "execution_count": null,
   "id": "96eddce4",
   "metadata": {},
   "outputs": [],
   "source": []
  },
  {
   "cell_type": "code",
   "execution_count": null,
   "id": "32481ea2",
   "metadata": {},
   "outputs": [],
   "source": []
  },
  {
   "cell_type": "code",
   "execution_count": null,
   "id": "6de91e85",
   "metadata": {},
   "outputs": [],
   "source": []
  },
  {
   "cell_type": "code",
   "execution_count": null,
   "id": "cf82f77d",
   "metadata": {},
   "outputs": [],
   "source": []
  }
 ],
 "metadata": {
  "kernelspec": {
   "display_name": "Python 3 (ipykernel)",
   "language": "python",
   "name": "python3"
  },
  "language_info": {
   "codemirror_mode": {
    "name": "ipython",
    "version": 3
   },
   "file_extension": ".py",
   "mimetype": "text/x-python",
   "name": "python",
   "nbconvert_exporter": "python",
   "pygments_lexer": "ipython3",
   "version": "3.9.7"
  }
 },
 "nbformat": 4,
 "nbformat_minor": 5
}
